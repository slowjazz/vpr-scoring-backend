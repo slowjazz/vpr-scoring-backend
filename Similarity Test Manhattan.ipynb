{
 "cells": [
  {
   "cell_type": "code",
   "execution_count": 2,
   "metadata": {},
   "outputs": [
    {
     "name": "stdout",
     "output_type": "stream",
     "text": [
      "enroll.ark  enroll.spk2utt  test.ark  test.spk2utt  trials\r\n"
     ]
    }
   ],
   "source": [
    "%matplotlib inline\n",
    "\n",
    "import pandas as pd\n",
    "import numpy as np\n",
    "import matplotlib.pyplot as plt\n",
    "import dask.dataframe as dd\n",
    "import dask\n",
    "from dask import delayed\n",
    "from dask.diagnostics import ProgressBar\n",
    "from dask.multiprocessing import get\n",
    "from sklearn.preprocessing import normalize\n",
    "\n",
    "from scipy.spatial.distance import cosine, mahalanobis\n",
    "from sklearn.metrics import roc_curve, precision_score\n",
    "from scipy.sparse import csr_matrix\n",
    "from scipy.stats import entropy\n",
    "\n",
    "VEC_DIM = 400\n",
    "\n",
    "FILE_DIR = \"/work4/tzy/spk_verify_backend/exp_dvectors/\" #folder where all files are located\n",
    "!ls /work4/tzy/spk_verify_backend/exp_dvectors"
   ]
  },
  {
   "cell_type": "code",
   "execution_count": 3,
   "metadata": {},
   "outputs": [],
   "source": [
    "def run_test(score_func, sample_size = 0.10, ESPK = 0, TSPK = 0, n_features = 1, dask_array = False, pairs=None):\n",
    "\n",
    "    def score_vectors(x):\n",
    "        \"\"\"\n",
    "        enroll_id: ID of enrolled speaker \n",
    "        test_id: ID of a test speaker\n",
    "        enroll_spk: Dataframe of enroll speakers and processed utterance vectors \n",
    "        test_spk: As enroll_spk\n",
    "        score_func: scoring function that takes 2 speakers' data and produces a score\n",
    "        \"\"\"\n",
    "        enroll_data = ESPK.loc[x['enroll']] # Pandas series\n",
    "        test_data = TSPK.loc[x['test_id']]\n",
    "        res = score_func(enroll_data, test_data)\n",
    "        return res\n",
    "\n",
    "    dask_pairs = dd.from_pandas(pairs, npartitions=16).sample(frac= sample_size, random_state=1)\n",
    "    #dask_pairs = dd.from_pandas(pairs, npartitions=16)\n",
    "    meta = ('x','f8')\n",
    "\n",
    "    scores = 0\n",
    "    \n",
    "    pbar = ProgressBar()\n",
    "    pbar.register()\n",
    "    scores = dask_pairs.map_partitions(lambda df: df.apply(score_vectors ,axis=1), meta=meta)\n",
    "    \n",
    "    #New impl returns data in stacked format and takes 1/3 time\n",
    "    if n_features>1: # This conditional halves the time if n_features==1\n",
    "        scores = dask.array.from_delayed(delayed(np.vstack)(scores.values), shape=(len(dask_pairs), n_features), dtype='float64')\n",
    "        scores = scores.rechunk((1000,500))\n",
    "    res =  dask.array.from_array(np.array(dask_pairs['result']), (1000,))\n",
    "    #res.rechunk((1000,500))\n",
    "    if dask_array:\n",
    "        pbar.unregister()\n",
    "        return scores, res\n",
    "    \n",
    "    #scores = scores if delayed_res else scores.compute() #Turns out it is faster to do dd.compute(*(scores.compute())) if the inner func produces delayed objs\n",
    "    scores = scores.compute(get=get)\n",
    "    res = res.compute()\n",
    "    pbar.unregister()\n",
    "    \n",
    "    return scores, res\n",
    "\n",
    "def calcEER(series, true, name = \"\"):\n",
    "    fpr, tpr, thresholds = roc_curve(true, series)\n",
    "    plt.plot(fpr, tpr)\n",
    "    plt.xlabel('FPR')\n",
    "    plt.ylabel('TPR')\n",
    "    fnr = 1 - tpr\n",
    "    minPt = np.nanargmin(np.absolute((fnr - fpr)))\n",
    "    print(\"Threshold: \", thresholds[minPt])\n",
    "    print(\"EER/FPR: \", fpr[minPt])\n",
    "    print(\"FNR: \", fnr[minPt])\n",
    "    \n",
    "    if name:\n",
    "        plt.savefig(name)\n",
    "    \n",
    "    return\n",
    "\n",
    "def read_trials(filename):\n",
    "    pairs = pd.read_table(FILE_DIR+filename, names = [\"enroll\",\"test_id\",\"result\"], sep = \" \") \n",
    "    print(\"num of trials: \",len(pairs))\n",
    "\n",
    "    # Encode \"nontarget\" as 0, \"target as 1\"\n",
    "    pairs['result'].replace({\"nontarget\":0, \"target\":1}, inplace = True)\n",
    "    print(pairs.head())\n",
    "    return pairs\n",
    "\n",
    "def read_spk2utt_utts(filename):  \n",
    "    \"\"\"Processes the utterance vectors for each speaker\n",
    "        filename: name of spk2utt file\n",
    "        ark_df: corresponding ark file\"\"\"\n",
    "    df = pd.read_table(FILE_DIR+filename, names = ['id', 'utt1', 'utt2','utt3','utt4','utt5'], sep = \" \") \n",
    "    df.dropna(axis=1, inplace=True)\n",
    "    df.index = df['id']\n",
    "    df = df.drop('id', 1)\n",
    "    return df \n",
    "\n",
    "def cos_similarity(vect1, vect2):\n",
    "    return 1 - cosine(vect1, vect2)\n",
    "\n",
    "# Calculate FPR and FNR with variable thresholds for scores\n",
    "# Takes predictions and results \n",
    "def calcFR(pred, true):\n",
    "    fpr = pred[(pred==1) & (true==0)].sum()/(true==0).sum()\n",
    "    fnr = true[(pred==0) & (true==1)].sum()/(true==1).sum()\n",
    "    print(\"FPR: \", fpr)\n",
    "    print(\"FNR: \", fnr)\n",
    "    \n",
    "def sendScores(scores, res, name):\n",
    "    pd.DataFrame(data=np.vstack((scores, res))).to_hdf(\"scores.h5\", name)\n",
    "    \n",
    "def showH5(filename):\n",
    "    with pd.HDFStore(filename) as store:\n",
    "        print(store.keys())"
   ]
  },
  {
   "cell_type": "code",
   "execution_count": 4,
   "metadata": {},
   "outputs": [],
   "source": [
    "# Load spk data from h5\n",
    "# enroll_spk = pd.read_hdf('spk.h5', 'enroll')\n",
    "# test_spk = pd.read_hdf('spk.h5', 'test')\n",
    "enroll_spk_raw = pd.read_hdf('spk_raw.h5', 'enroll_raw')\n",
    "test_spk_raw = pd.read_hdf('spk_raw.h5', 'test_raw')\n",
    "\n",
    "# enroll_ark_samp_tenth = pd.read_hdf('samp.h5', 'enroll_ark_samp_tenth')\n",
    "# test_ark_samp_tenth = pd.read_hdf('samp.h5', 'test_ark_samp_tenth')\n",
    "\n",
    "# enroll_utts = read_spk2utt_utts(\"enroll.spk2utt\")\n",
    "# test_utts = read_spk2utt_utts(\"test.spk2utt\")\n",
    "\n",
    "# pairs_samp = pd.read_hdf('samp.h5', 'pairs_samp_100k')"
   ]
  },
  {
   "cell_type": "code",
   "execution_count": 41,
   "metadata": {},
   "outputs": [
    {
     "name": "stdout",
     "output_type": "stream",
     "text": [
      "772 µs ± 507 ns per loop (mean ± std. dev. of 7 runs, 1000 loops each)\n"
     ]
    }
   ],
   "source": [
    "%%timeit\n",
    "manhattan_dist(enroll_spk_raw.loc[4780176039], test_spk_raw.loc['fc_4779876202_1'])"
   ]
  },
  {
   "cell_type": "code",
   "execution_count": 10,
   "metadata": {},
   "outputs": [],
   "source": [
    "from scipy.spatial.distance import cdist\n",
    "\n",
    "def manhattan_dist(dist1, dist2):\n",
    "    print(cdist(dist1, dist2, 'cityblock'))\n",
    "    return np.mean(cdist(dist1, dist2, 'cityblock'))\n",
    "\n",
    "def manhattan_dist_frame_delayed(spkr_utts, test_utts):\n",
    "    res = []\n",
    "    for s in spkr_utts:\n",
    "        for t in test_utts:\n",
    "            spkr =  enroll_ark_samp_tenth.loc[s]\n",
    "            test = test_ark_samp_tenth.loc[t]\n",
    "            res.append(delayed(manhattan_dist)(spkr, test))\n",
    "    return delayed(np.mean)(res)\n",
    "\n",
    "def manhattan_dist_frame(spkr_utts, test_utts):\n",
    "    res = []\n",
    "    for s in spkr_utts:\n",
    "        for t in test_utts:\n",
    "            spkr = enroll_ark_samp_tenth.loc[s]\n",
    "            test = test_ark_samp_tenth.loc[t]\n",
    "            res.append(manhattan_dist(spkr, test))\n",
    "    return np.mean(res)"
   ]
  },
  {
   "cell_type": "code",
   "execution_count": 122,
   "metadata": {},
   "outputs": [
    {
     "name": "stdout",
     "output_type": "stream",
     "text": [
      "CPU times: user 23.1 s, sys: 1.25 s, total: 24.4 s\n",
      "Wall time: 24.2 s\n"
     ]
    }
   ],
   "source": [
    "%%time\n",
    "e = pairs_samp['enroll'].values\n",
    "t = pairs_samp['test_id'].values\n",
    "m_scores = []\n",
    "for i in range(100000):\n",
    "    m_scores.append(delayed(manhattan_dist_frame_delayed)(enroll_utts.loc[e[i]], test_utts.loc[t[i]]))"
   ]
  },
  {
   "cell_type": "code",
   "execution_count": null,
   "metadata": {},
   "outputs": [
    {
     "name": "stdout",
     "output_type": "stream",
     "text": [
      "[                                        ] | 1% Completed | 19min  1.0s"
     ]
    }
   ],
   "source": [
    "p  = ProgressBar()\n",
    "p.register()\n",
    "mdist_frame = dd.compute(*m_scores)\n",
    "p.unregister()"
   ]
  },
  {
   "cell_type": "code",
   "execution_count": null,
   "metadata": {},
   "outputs": [
    {
     "name": "stdout",
     "output_type": "stream",
     "text": [
      "[########################################] | 100% Completed |  0.7s\n",
      "[                                        ] | 0% Completed | 14min 13.0s"
     ]
    }
   ],
   "source": [
    "mdist_frame, res = run_test(manhattan_dist_frame, 0.01, enroll_utts, test_utts, pairs=pairs_samp)"
   ]
  },
  {
   "cell_type": "code",
   "execution_count": 111,
   "metadata": {},
   "outputs": [
    {
     "name": "stdout",
     "output_type": "stream",
     "text": [
      "CPU times: user 26.5 ms, sys: 1.87 ms, total: 28.3 ms\n",
      "Wall time: 28 ms\n"
     ]
    }
   ],
   "source": [
    "%%time\n",
    "mdist_frame = manhattan_dist_frame_delayed(enroll_utts.loc[4780176039], test_utts.loc['fc_4779876202_1'])"
   ]
  },
  {
   "cell_type": "code",
   "execution_count": 112,
   "metadata": {},
   "outputs": [
    {
     "name": "stdout",
     "output_type": "stream",
     "text": [
      "[########################################] | 100% Completed |  0.1s\n",
      "CPU times: user 72.7 ms, sys: 5.61 ms, total: 78.3 ms\n",
      "Wall time: 106 ms\n"
     ]
    }
   ],
   "source": [
    "%%time\n",
    "mdist_frame = dd.compute(mdist_frame)"
   ]
  },
  {
   "cell_type": "code",
   "execution_count": 110,
   "metadata": {},
   "outputs": [
    {
     "name": "stdout",
     "output_type": "stream",
     "text": [
      "CPU times: user 79.5 ms, sys: 1.7 ms, total: 81.2 ms\n",
      "Wall time: 80.8 ms\n"
     ]
    }
   ],
   "source": [
    "%%time\n",
    "mdist_frame = manhattan_dist_frame(enroll_utts.loc[4780176039], test_utts.loc['fc_4779876202_1'])"
   ]
  },
  {
   "cell_type": "markdown",
   "metadata": {},
   "source": [
    "# Manhattan on spkr level data? - much faster and generally same performance"
   ]
  },
  {
   "cell_type": "code",
   "execution_count": 7,
   "metadata": {},
   "outputs": [
    {
     "name": "stdout",
     "output_type": "stream",
     "text": [
      "num of trials:  11725308\n",
      "       enroll          test_id  result\n",
      "0  4780420411  fc_4779547143_0       0\n",
      "1  4780420411  fc_4779547143_1       0\n",
      "2  4780420411  fc_4779547143_2       0\n",
      "3  4780420411  fc_4779547143_3       0\n",
      "4  4780420411  fc_4779547143_4       0\n"
     ]
    }
   ],
   "source": [
    "pairs = read_trials('trials')"
   ]
  },
  {
   "cell_type": "code",
   "execution_count": 11,
   "metadata": {},
   "outputs": [
    {
     "name": "stdout",
     "output_type": "stream",
     "text": [
      "[[7.83984235 7.97218719 7.92279195]\n",
      " [9.11571291 9.24792605 9.05652069]\n",
      " [8.18590414 8.30821712 8.3403082 ]\n",
      " [7.88416314 7.99446204 7.93492518]\n",
      " [8.11241367 8.29691198 8.17754014]]\n"
     ]
    },
    {
     "data": {
      "text/plain": [
       "8.292655117281006"
      ]
     },
     "execution_count": 11,
     "metadata": {},
     "output_type": "execute_result"
    }
   ],
   "source": [
    "manhattan_dist(enroll_spk_raw.loc[4780420411], test_spk_raw.loc['fc_4779547143_0'])"
   ]
  },
  {
   "cell_type": "code",
   "execution_count": 21,
   "metadata": {},
   "outputs": [
    {
     "name": "stdout",
     "output_type": "stream",
     "text": [
      "[########################################] | 100% Completed |  0.5s\n",
      "[########################################] | 100% Completed |  3min 56.6s\n",
      "[########################################] | 100% Completed |  0.4s\n"
     ]
    }
   ],
   "source": [
    "mdist, res = run_test(manhattan_dist, 0.1, enroll_spk_raw, test_spk_raw, pairs=pairs)"
   ]
  },
  {
   "cell_type": "code",
   "execution_count": 6,
   "metadata": {},
   "outputs": [
    {
     "name": "stdout",
     "output_type": "stream",
     "text": [
      "['/cos_10', '/cos_50', '/cos_samp_100k', '/kl_frame_100k', '/kl_spkr_10', '/kl_spkr_50', '/manhattan_spk_samp_100k', '/manhattan_spkr_10', '/var_10', '/var_50', '/var_samp_100k', '/zscore_10', '/zscore_50', '/zscore_samp_100k']\n"
     ]
    }
   ],
   "source": [
    "showH5('scores.h5')"
   ]
  },
  {
   "cell_type": "code",
   "execution_count": 8,
   "metadata": {},
   "outputs": [
    {
     "name": "stdout",
     "output_type": "stream",
     "text": [
      "[########################################] | 100% Completed |  0.5s\n",
      "[########################################] | 100% Completed | 17min 31.1s\n",
      "[########################################] | 100% Completed |  1.5s\n"
     ]
    }
   ],
   "source": [
    "mdist, res = run_test(manhattan_dist, 0.5, enroll_spk_raw, test_spk_raw, pairs=pairs)\n",
    "sendScores(mdist, res, 'manhattan_50')"
   ]
  },
  {
   "cell_type": "code",
   "execution_count": 22,
   "metadata": {},
   "outputs": [
    {
     "name": "stdout",
     "output_type": "stream",
     "text": [
      "Threshold:  8.34973159476754\n",
      "EER/FPR:  0.8036191249012364\n",
      "FNR:  0.8036605657237936\n"
     ]
    },
    {
     "data": {
      "image/png": "[encoded data removed]",
      "text/plain": [
       "<Figure size 432x288 with 1 Axes>"
      ]
     },
     "metadata": {},
     "output_type": "display_data"
    }
   ],
   "source": [
    "calcEER(mdist, res) #max - is shit"
   ]
  },
  {
   "cell_type": "code",
   "execution_count": 19,
   "metadata": {},
   "outputs": [
    {
     "name": "stdout",
     "output_type": "stream",
     "text": [
      "Threshold:  7.466514835762768\n",
      "EER/FPR:  0.8926861560144355\n",
      "FNR:  0.8929561841375485\n"
     ]
    },
    {
     "data": {
      "image/png": "[encoded data removed]",
      "text/plain": [
       "<Figure size 432x288 with 1 Axes>"
      ]
     },
     "metadata": {},
     "output_type": "display_data"
    }
   ],
   "source": [
    "calcEER(mdist, res) #mean og"
   ]
  }
 ],
 "metadata": {
  "kernelspec": {
   "display_name": "Python 3",
   "language": "python",
   "name": "python3"
  },
  "language_info": {
   "codemirror_mode": {
    "name": "ipython",
    "version": 3
   },
   "file_extension": ".py",
   "mimetype": "text/x-python",
   "name": "python",
   "nbconvert_exporter": "python",
   "pygments_lexer": "ipython3",
   "version": "3.6.5"
  }
 },
 "nbformat": 4,
 "nbformat_minor": 2
}
