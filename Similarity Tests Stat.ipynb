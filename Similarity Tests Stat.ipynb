{
 "cells": [
  {
   "cell_type": "code",
   "execution_count": 4,
   "metadata": {},
   "outputs": [
    {
     "name": "stdout",
     "output_type": "stream",
     "text": [
      "enroll.ark  enroll.spk2utt  test.ark  test.spk2utt  trials\r\n"
     ]
    }
   ],
   "source": [
    "%matplotlib inline\n",
    "\n",
    "import pandas as pd\n",
    "import numpy as np\n",
    "import matplotlib.pyplot as plt\n",
    "import dask.dataframe as dd\n",
    "import dask\n",
    "from dask import delayed\n",
    "from dask.diagnostics import ProgressBar\n",
    "from dask.multiprocessing import get\n",
    "from sklearn.preprocessing import normalize\n",
    "from dask_ml.wrappers import Incremental\n",
    "\n",
    "from scipy.spatial.distance import cosine, mahalanobis\n",
    "from sklearn.metrics import roc_curve\n",
    "from scipy.sparse import csr_matrix\n",
    "\n",
    "VEC_DIM = 400\n",
    "\n",
    "FILE_DIR = \"/work4/tzy/spk_verify_backend/exp_dvectors/\" #folder where all files are located\n",
    "!ls /work4/tzy/spk_verify_backend/exp_dvectors"
   ]
  },
  {
   "cell_type": "code",
   "execution_count": 2,
   "metadata": {},
   "outputs": [],
   "source": [
    "def read_trials(filename):\n",
    "    pairs = pd.read_table(FILE_DIR+filename, names = [\"enroll\",\"test_id\",\"result\"], sep = \" \") \n",
    "    print(\"num of trials: \",len(pairs))\n",
    "\n",
    "    # Encode \"nontarget\" as 0, \"target as 1\"\n",
    "    pairs['result'].replace({\"nontarget\":0, \"target\":1}, inplace = True)\n",
    "    print(pairs.head())\n",
    "    return pairs\n",
    "\n",
    "def calcEER(series, true, name = \"\"):\n",
    "    fpr, tpr, thresholds = roc_curve(true, series)\n",
    "    plt.plot(fpr, tpr)\n",
    "    plt.xlabel('FPR')\n",
    "    plt.ylabel('TPR')\n",
    "    fnr = 1 - tpr\n",
    "    minPt = np.nanargmin(np.absolute((fnr - fpr)))\n",
    "    print(\"Threshold: \", thresholds[minPt])\n",
    "    print(\"EER: \", fpr[minPt])\n",
    "    \n",
    "    if name:\n",
    "        plt.savefig(name)\n",
    "    \n",
    "    return\n",
    "\n",
    "def run_test(score_func, sample_size = 0.10, ESPK = 0, TSPK = 0, n_features = 1, dask_array = False):\n",
    "\n",
    "    def score_vectors(x):\n",
    "        \"\"\"\n",
    "        enroll_id: ID of enrolled speaker \n",
    "        test_id: ID of a test speaker\n",
    "        enroll_spk: Dataframe of enroll speakers and processed utterance vectors \n",
    "        test_spk: As enroll_spk\n",
    "        score_func: scoring function that takes 2 speakers' data and produces a score\n",
    "        \"\"\"\n",
    "        enroll_data = ESPK.loc[x['enroll']] # Pandas series\n",
    "        test_data = TSPK.loc[x['test_id']]\n",
    "        res = score_func(enroll_data, test_data)\n",
    "        return res\n",
    "\n",
    "    dask_pairs = dd.from_pandas(pairs, npartitions=16).sample(frac= sample_size, random_state=1)\n",
    "    #dask_pairs = dd.from_pandas(pairs, npartitions=16)\n",
    "    meta = ('x','f8')\n",
    "\n",
    "    scores = 0\n",
    "    \n",
    "    pbar = ProgressBar()\n",
    "    pbar.register()\n",
    "    scores = dask_pairs.map_partitions(lambda df: df.apply(score_vectors ,axis=1), meta=meta)\n",
    "    \n",
    "    #New impl returns data in stacked format and takes 1/3 time\n",
    "    if n_features>1: # This conditional halves the time if n_features==1\n",
    "        scores = dask.array.from_delayed(delayed(np.vstack)(scores.values), shape=(len(dask_pairs), n_features), dtype='float64')\n",
    "        scores = scores.rechunk((1000,500))\n",
    "    res =  dask.array.from_array(np.array(dask_pairs['result']), (1000,))\n",
    "    #res.rechunk((1000,500))\n",
    "    if dask_array:\n",
    "        pbar.unregister()\n",
    "        return scores, res\n",
    "    \n",
    "    #scores = scores if delayed_res else scores.compute() #Turns out it is faster to do dd.compute(*(scores.compute())) if the inner func produces delayed objs\n",
    "    scores = scores.compute(get=get)\n",
    "    res = res.compute()\n",
    "    pbar.unregister()\n",
    "    \n",
    "    return scores, res\n",
    "\n",
    "def load_sample(enroll, test, eid = 4780420411, tid = 'fc_4779547143_0'):\n",
    "    return enroll.loc[eid], test.loc[tid]\n",
    "\n",
    "def sendScores(scores, res, name):\n",
    "    pd.DataFrame(data=np.vstack((scores, res))).to_hdf(\"scores.h5\", name)"
   ]
  },
  {
   "cell_type": "code",
   "execution_count": 5,
   "metadata": {},
   "outputs": [
    {
     "data": {
      "text/html": [
       "<div>\n",
       "<style scoped>\n",
       "    .dataframe tbody tr th:only-of-type {\n",
       "        vertical-align: middle;\n",
       "    }\n",
       "\n",
       "    .dataframe tbody tr th {\n",
       "        vertical-align: top;\n",
       "    }\n",
       "\n",
       "    .dataframe thead th {\n",
       "        text-align: right;\n",
       "    }\n",
       "</style>\n",
       "<table border=\"1\" class=\"dataframe\">\n",
       "  <thead>\n",
       "    <tr style=\"text-align: right;\">\n",
       "      <th></th>\n",
       "      <th>0</th>\n",
       "      <th>1</th>\n",
       "      <th>2</th>\n",
       "      <th>3</th>\n",
       "      <th>4</th>\n",
       "      <th>5</th>\n",
       "      <th>6</th>\n",
       "      <th>7</th>\n",
       "      <th>8</th>\n",
       "      <th>9</th>\n",
       "      <th>...</th>\n",
       "      <th>390</th>\n",
       "      <th>391</th>\n",
       "      <th>392</th>\n",
       "      <th>393</th>\n",
       "      <th>394</th>\n",
       "      <th>395</th>\n",
       "      <th>396</th>\n",
       "      <th>397</th>\n",
       "      <th>398</th>\n",
       "      <th>399</th>\n",
       "    </tr>\n",
       "    <tr>\n",
       "      <th>id</th>\n",
       "      <th></th>\n",
       "      <th></th>\n",
       "      <th></th>\n",
       "      <th></th>\n",
       "      <th></th>\n",
       "      <th></th>\n",
       "      <th></th>\n",
       "      <th></th>\n",
       "      <th></th>\n",
       "      <th></th>\n",
       "      <th></th>\n",
       "      <th></th>\n",
       "      <th></th>\n",
       "      <th></th>\n",
       "      <th></th>\n",
       "      <th></th>\n",
       "      <th></th>\n",
       "      <th></th>\n",
       "      <th></th>\n",
       "      <th></th>\n",
       "      <th></th>\n",
       "    </tr>\n",
       "  </thead>\n",
       "  <tbody>\n",
       "    <tr>\n",
       "      <th>4780420411</th>\n",
       "      <td>0.014026</td>\n",
       "      <td>0.054789</td>\n",
       "      <td>0.025725</td>\n",
       "      <td>0.016863</td>\n",
       "      <td>0.063301</td>\n",
       "      <td>0.114704</td>\n",
       "      <td>0.070258</td>\n",
       "      <td>0.000567</td>\n",
       "      <td>0.045729</td>\n",
       "      <td>0.044964</td>\n",
       "      <td>...</td>\n",
       "      <td>0.077940</td>\n",
       "      <td>0.032820</td>\n",
       "      <td>0.022656</td>\n",
       "      <td>0.028034</td>\n",
       "      <td>0.035296</td>\n",
       "      <td>0.046987</td>\n",
       "      <td>0.036155</td>\n",
       "      <td>0.016219</td>\n",
       "      <td>0.011507</td>\n",
       "      <td>0.070774</td>\n",
       "    </tr>\n",
       "    <tr>\n",
       "      <th>4779876202</th>\n",
       "      <td>0.030303</td>\n",
       "      <td>0.022931</td>\n",
       "      <td>0.033079</td>\n",
       "      <td>0.058957</td>\n",
       "      <td>0.079296</td>\n",
       "      <td>0.049778</td>\n",
       "      <td>0.068490</td>\n",
       "      <td>0.003525</td>\n",
       "      <td>0.072742</td>\n",
       "      <td>0.030553</td>\n",
       "      <td>...</td>\n",
       "      <td>0.061358</td>\n",
       "      <td>0.044687</td>\n",
       "      <td>0.020264</td>\n",
       "      <td>0.007364</td>\n",
       "      <td>0.051940</td>\n",
       "      <td>0.062175</td>\n",
       "      <td>0.052892</td>\n",
       "      <td>0.026529</td>\n",
       "      <td>0.014570</td>\n",
       "      <td>0.025142</td>\n",
       "    </tr>\n",
       "    <tr>\n",
       "      <th>4778192381</th>\n",
       "      <td>0.055344</td>\n",
       "      <td>0.035090</td>\n",
       "      <td>0.026809</td>\n",
       "      <td>0.068782</td>\n",
       "      <td>0.045188</td>\n",
       "      <td>0.081985</td>\n",
       "      <td>0.033221</td>\n",
       "      <td>0.012631</td>\n",
       "      <td>0.026813</td>\n",
       "      <td>0.046449</td>\n",
       "      <td>...</td>\n",
       "      <td>0.075565</td>\n",
       "      <td>0.056208</td>\n",
       "      <td>0.029324</td>\n",
       "      <td>0.006928</td>\n",
       "      <td>0.055884</td>\n",
       "      <td>0.062326</td>\n",
       "      <td>0.022718</td>\n",
       "      <td>0.040709</td>\n",
       "      <td>0.015717</td>\n",
       "      <td>0.102008</td>\n",
       "    </tr>\n",
       "    <tr>\n",
       "      <th>4780265567</th>\n",
       "      <td>0.012624</td>\n",
       "      <td>0.058721</td>\n",
       "      <td>0.033892</td>\n",
       "      <td>0.054483</td>\n",
       "      <td>0.041132</td>\n",
       "      <td>0.115025</td>\n",
       "      <td>0.074992</td>\n",
       "      <td>0.000893</td>\n",
       "      <td>0.087311</td>\n",
       "      <td>0.076028</td>\n",
       "      <td>...</td>\n",
       "      <td>0.068856</td>\n",
       "      <td>0.051828</td>\n",
       "      <td>0.054921</td>\n",
       "      <td>0.011270</td>\n",
       "      <td>0.066159</td>\n",
       "      <td>0.043747</td>\n",
       "      <td>0.031619</td>\n",
       "      <td>0.033663</td>\n",
       "      <td>0.032096</td>\n",
       "      <td>0.073277</td>\n",
       "    </tr>\n",
       "    <tr>\n",
       "      <th>4777987958</th>\n",
       "      <td>0.054659</td>\n",
       "      <td>0.054360</td>\n",
       "      <td>0.014665</td>\n",
       "      <td>0.050420</td>\n",
       "      <td>0.064626</td>\n",
       "      <td>0.115716</td>\n",
       "      <td>0.107942</td>\n",
       "      <td>0.008013</td>\n",
       "      <td>0.069778</td>\n",
       "      <td>0.092527</td>\n",
       "      <td>...</td>\n",
       "      <td>0.102160</td>\n",
       "      <td>0.041830</td>\n",
       "      <td>0.015103</td>\n",
       "      <td>0.031850</td>\n",
       "      <td>0.061312</td>\n",
       "      <td>0.079773</td>\n",
       "      <td>0.071351</td>\n",
       "      <td>0.070432</td>\n",
       "      <td>0.031396</td>\n",
       "      <td>0.099793</td>\n",
       "    </tr>\n",
       "  </tbody>\n",
       "</table>\n",
       "<p>5 rows × 400 columns</p>\n",
       "</div>"
      ],
      "text/plain": [
       "                   0         1         2         3         4         5  \\\n",
       "id                                                                       \n",
       "4780420411  0.014026  0.054789  0.025725  0.016863  0.063301  0.114704   \n",
       "4779876202  0.030303  0.022931  0.033079  0.058957  0.079296  0.049778   \n",
       "4778192381  0.055344  0.035090  0.026809  0.068782  0.045188  0.081985   \n",
       "4780265567  0.012624  0.058721  0.033892  0.054483  0.041132  0.115025   \n",
       "4777987958  0.054659  0.054360  0.014665  0.050420  0.064626  0.115716   \n",
       "\n",
       "                   6         7         8         9    ...          390  \\\n",
       "id                                                    ...                \n",
       "4780420411  0.070258  0.000567  0.045729  0.044964    ...     0.077940   \n",
       "4779876202  0.068490  0.003525  0.072742  0.030553    ...     0.061358   \n",
       "4778192381  0.033221  0.012631  0.026813  0.046449    ...     0.075565   \n",
       "4780265567  0.074992  0.000893  0.087311  0.076028    ...     0.068856   \n",
       "4777987958  0.107942  0.008013  0.069778  0.092527    ...     0.102160   \n",
       "\n",
       "                 391       392       393       394       395       396  \\\n",
       "id                                                                       \n",
       "4780420411  0.032820  0.022656  0.028034  0.035296  0.046987  0.036155   \n",
       "4779876202  0.044687  0.020264  0.007364  0.051940  0.062175  0.052892   \n",
       "4778192381  0.056208  0.029324  0.006928  0.055884  0.062326  0.022718   \n",
       "4780265567  0.051828  0.054921  0.011270  0.066159  0.043747  0.031619   \n",
       "4777987958  0.041830  0.015103  0.031850  0.061312  0.079773  0.071351   \n",
       "\n",
       "                 397       398       399  \n",
       "id                                        \n",
       "4780420411  0.016219  0.011507  0.070774  \n",
       "4779876202  0.026529  0.014570  0.025142  \n",
       "4778192381  0.040709  0.015717  0.102008  \n",
       "4780265567  0.033663  0.032096  0.073277  \n",
       "4777987958  0.070432  0.031396  0.099793  \n",
       "\n",
       "[5 rows x 400 columns]"
      ]
     },
     "execution_count": 5,
     "metadata": {},
     "output_type": "execute_result"
    }
   ],
   "source": [
    "# Load spk data from h5\n",
    "enroll_spk = pd.read_hdf('spk.h5', 'enroll')\n",
    "test_spk = pd.read_hdf('spk.h5', 'test')\n",
    "enroll_spk_raw = pd.read_hdf('spk_raw.h5', 'enroll_raw')\n",
    "test_spk_raw = pd.read_hdf('spk_raw.h5', 'test_raw')\n",
    "\n",
    "enroll_spk.head()"
   ]
  },
  {
   "cell_type": "code",
   "execution_count": 4,
   "metadata": {},
   "outputs": [],
   "source": [
    "enroll_ark = dd.read_hdf(\"enroll.ark_raw.h5\", '/*')\n",
    "test_ark = dd.read_hdf(\"test.ark_raw.h5\", '/*')"
   ]
  },
  {
   "cell_type": "code",
   "execution_count": 6,
   "metadata": {},
   "outputs": [
    {
     "name": "stdout",
     "output_type": "stream",
     "text": [
      "num of trials:  11725308\n",
      "       enroll          test_id  result\n",
      "0  4780420411  fc_4779547143_0       0\n",
      "1  4780420411  fc_4779547143_1       0\n",
      "2  4780420411  fc_4779547143_2       0\n",
      "3  4780420411  fc_4779547143_3       0\n",
      "4  4780420411  fc_4779547143_4       0\n"
     ]
    }
   ],
   "source": [
    "pairs = read_trials(\"trials\")"
   ]
  },
  {
   "cell_type": "code",
   "execution_count": 6,
   "metadata": {},
   "outputs": [],
   "source": [
    "# some comparison functions\n",
    "\n",
    "def cos_similarity(vect1, vect2):\n",
    "    return 1 - cosine(vect1, vect2)\n",
    "\n",
    "def cos_with_variance(dist1, vect2):\n",
    "    m = dist1.mean(axis=0)\n",
    "    cos = 1 - cosine(m, vect2)\n",
    "    v = dist1.var(axis=0)\n",
    "    return np.concatenate([np.array([cos]), v])"
   ]
  },
  {
   "cell_type": "code",
   "execution_count": 7,
   "metadata": {},
   "outputs": [],
   "source": [
    "from sklearn.preprocessing import StandardScaler\n",
    "from sklearn.preprocessing import MinMaxScaler\n",
    "scaler = MinMaxScaler()\n",
    "sscaler = StandardScaler()"
   ]
  },
  {
   "cell_type": "code",
   "execution_count": 8,
   "metadata": {},
   "outputs": [],
   "source": [
    "spkr, test = load_sample(enroll=enroll_spk_raw, test=test_spk)"
   ]
  },
  {
   "cell_type": "code",
   "execution_count": 8,
   "metadata": {},
   "outputs": [],
   "source": [
    "def read_spk2utt_utts(filename):  \n",
    "    \"\"\"Processes the utterance vectors for each speaker\n",
    "        filename: name of spk2utt file\n",
    "        ark_df: corresponding ark file\"\"\"\n",
    "    df = pd.read_table(FILE_DIR+filename, names = ['id', 'utt1', 'utt2','utt3','utt4','utt5'], sep = \" \") \n",
    "    df.dropna(axis=1, inplace=True)\n",
    "    df.index = df['id']\n",
    "    df = df.drop('id', 1)\n",
    "    return df "
   ]
  },
  {
   "cell_type": "code",
   "execution_count": 9,
   "metadata": {},
   "outputs": [
    {
     "data": {
      "text/html": [
       "<div>\n",
       "<style scoped>\n",
       "    .dataframe tbody tr th:only-of-type {\n",
       "        vertical-align: middle;\n",
       "    }\n",
       "\n",
       "    .dataframe tbody tr th {\n",
       "        vertical-align: top;\n",
       "    }\n",
       "\n",
       "    .dataframe thead th {\n",
       "        text-align: right;\n",
       "    }\n",
       "</style>\n",
       "<table border=\"1\" class=\"dataframe\">\n",
       "  <thead>\n",
       "    <tr style=\"text-align: right;\">\n",
       "      <th></th>\n",
       "      <th>utt1</th>\n",
       "      <th>utt2</th>\n",
       "      <th>utt3</th>\n",
       "      <th>utt4</th>\n",
       "      <th>utt5</th>\n",
       "    </tr>\n",
       "    <tr>\n",
       "      <th>id</th>\n",
       "      <th></th>\n",
       "      <th></th>\n",
       "      <th></th>\n",
       "      <th></th>\n",
       "      <th></th>\n",
       "    </tr>\n",
       "  </thead>\n",
       "  <tbody>\n",
       "    <tr>\n",
       "      <th>4780420411</th>\n",
       "      <td>nn_008b4a786aeb44d7ad7c892080dcee9b_78c9ad8db6...</td>\n",
       "      <td>nn_008b4a786aeb44d7ad7c892080dcee9b_78c9ad8db6...</td>\n",
       "      <td>nn_008b4a786aeb44d7ad7c892080dcee9b_78c9ad8db6...</td>\n",
       "      <td>nn_008b4a786aeb44d7ad7c892080dcee9b_78c9ad8db6...</td>\n",
       "      <td>nn_008b4a786aeb44d7ad7c892080dcee9b_78c9ad8db6...</td>\n",
       "    </tr>\n",
       "    <tr>\n",
       "      <th>4779876202</th>\n",
       "      <td>nn_00bccfae85c34c66b4f1fafe04fc2893_1515bae937...</td>\n",
       "      <td>nn_00bccfae85c34c66b4f1fafe04fc2893_1515bae937...</td>\n",
       "      <td>nn_00bccfae85c34c66b4f1fafe04fc2893_1515bae937...</td>\n",
       "      <td>nn_00bccfae85c34c66b4f1fafe04fc2893_1515bae937...</td>\n",
       "      <td>nn_00bccfae85c34c66b4f1fafe04fc2893_1515bae937...</td>\n",
       "    </tr>\n",
       "    <tr>\n",
       "      <th>4778192381</th>\n",
       "      <td>nn_00d380d1a8664888a2fcf7fe38277c35_25a2943474...</td>\n",
       "      <td>nn_00d380d1a8664888a2fcf7fe38277c35_25a2943474...</td>\n",
       "      <td>nn_00d380d1a8664888a2fcf7fe38277c35_25a2943474...</td>\n",
       "      <td>nn_00d380d1a8664888a2fcf7fe38277c35_25a2943474...</td>\n",
       "      <td>nn_00d380d1a8664888a2fcf7fe38277c35_25a2943474...</td>\n",
       "    </tr>\n",
       "    <tr>\n",
       "      <th>4780265567</th>\n",
       "      <td>nn_00e16d3225bc4a22aff72e97dc8945eb_3c1033eec1...</td>\n",
       "      <td>nn_00e16d3225bc4a22aff72e97dc8945eb_3c1033eec1...</td>\n",
       "      <td>nn_00e16d3225bc4a22aff72e97dc8945eb_3c1033eec1...</td>\n",
       "      <td>nn_00e16d3225bc4a22aff72e97dc8945eb_3c1033eec1...</td>\n",
       "      <td>nn_00e16d3225bc4a22aff72e97dc8945eb_3c1033eec1...</td>\n",
       "    </tr>\n",
       "    <tr>\n",
       "      <th>4777987958</th>\n",
       "      <td>nn_0160846368194819af7bab19847f92cb_77c66f3e7b...</td>\n",
       "      <td>nn_0160846368194819af7bab19847f92cb_77c66f3e7b...</td>\n",
       "      <td>nn_0160846368194819af7bab19847f92cb_77c66f3e7b...</td>\n",
       "      <td>nn_0160846368194819af7bab19847f92cb_77c66f3e7b...</td>\n",
       "      <td>nn_0160846368194819af7bab19847f92cb_77c66f3e7b...</td>\n",
       "    </tr>\n",
       "  </tbody>\n",
       "</table>\n",
       "</div>"
      ],
      "text/plain": [
       "                                                         utt1  \\\n",
       "id                                                              \n",
       "4780420411  nn_008b4a786aeb44d7ad7c892080dcee9b_78c9ad8db6...   \n",
       "4779876202  nn_00bccfae85c34c66b4f1fafe04fc2893_1515bae937...   \n",
       "4778192381  nn_00d380d1a8664888a2fcf7fe38277c35_25a2943474...   \n",
       "4780265567  nn_00e16d3225bc4a22aff72e97dc8945eb_3c1033eec1...   \n",
       "4777987958  nn_0160846368194819af7bab19847f92cb_77c66f3e7b...   \n",
       "\n",
       "                                                         utt2  \\\n",
       "id                                                              \n",
       "4780420411  nn_008b4a786aeb44d7ad7c892080dcee9b_78c9ad8db6...   \n",
       "4779876202  nn_00bccfae85c34c66b4f1fafe04fc2893_1515bae937...   \n",
       "4778192381  nn_00d380d1a8664888a2fcf7fe38277c35_25a2943474...   \n",
       "4780265567  nn_00e16d3225bc4a22aff72e97dc8945eb_3c1033eec1...   \n",
       "4777987958  nn_0160846368194819af7bab19847f92cb_77c66f3e7b...   \n",
       "\n",
       "                                                         utt3  \\\n",
       "id                                                              \n",
       "4780420411  nn_008b4a786aeb44d7ad7c892080dcee9b_78c9ad8db6...   \n",
       "4779876202  nn_00bccfae85c34c66b4f1fafe04fc2893_1515bae937...   \n",
       "4778192381  nn_00d380d1a8664888a2fcf7fe38277c35_25a2943474...   \n",
       "4780265567  nn_00e16d3225bc4a22aff72e97dc8945eb_3c1033eec1...   \n",
       "4777987958  nn_0160846368194819af7bab19847f92cb_77c66f3e7b...   \n",
       "\n",
       "                                                         utt4  \\\n",
       "id                                                              \n",
       "4780420411  nn_008b4a786aeb44d7ad7c892080dcee9b_78c9ad8db6...   \n",
       "4779876202  nn_00bccfae85c34c66b4f1fafe04fc2893_1515bae937...   \n",
       "4778192381  nn_00d380d1a8664888a2fcf7fe38277c35_25a2943474...   \n",
       "4780265567  nn_00e16d3225bc4a22aff72e97dc8945eb_3c1033eec1...   \n",
       "4777987958  nn_0160846368194819af7bab19847f92cb_77c66f3e7b...   \n",
       "\n",
       "                                                         utt5  \n",
       "id                                                             \n",
       "4780420411  nn_008b4a786aeb44d7ad7c892080dcee9b_78c9ad8db6...  \n",
       "4779876202  nn_00bccfae85c34c66b4f1fafe04fc2893_1515bae937...  \n",
       "4778192381  nn_00d380d1a8664888a2fcf7fe38277c35_25a2943474...  \n",
       "4780265567  nn_00e16d3225bc4a22aff72e97dc8945eb_3c1033eec1...  \n",
       "4777987958  nn_0160846368194819af7bab19847f92cb_77c66f3e7b...  "
      ]
     },
     "execution_count": 9,
     "metadata": {},
     "output_type": "execute_result"
    }
   ],
   "source": [
    "enroll_utts = read_spk2utt_utts(\"enroll.spk2utt\")\n",
    "enroll_utts.head()"
   ]
  },
  {
   "cell_type": "markdown",
   "metadata": {},
   "source": [
    "# Tests\n",
    "1. KL Divergence\n",
    "2. Mahalanobis distance (after dimension reduction)\n",
    "\n",
    "These next 3 were actually not pursued for fear of redudancy \n",
    "\n",
    "3. Total variational distance\n",
    "4. Hellinger Distance\n",
    "5. Jensen-Shannon Divergence"
   ]
  },
  {
   "cell_type": "markdown",
   "metadata": {},
   "source": [
    "# 1. Kullback-Leibler Divergence - note: this is revisted in `Similarity Test KL.ipynb` with more successful results\n",
    "\n",
    "https://docs.scipy.org/doc/scipy/reference/generated/scipy.stats.entropy.html\n",
    "\n",
    "Mean and sum end up both getting EER of 50%"
   ]
  },
  {
   "cell_type": "code",
   "execution_count": 12,
   "metadata": {},
   "outputs": [],
   "source": [
    "from scipy.stats import entropy"
   ]
  },
  {
   "cell_type": "code",
   "execution_count": 13,
   "metadata": {},
   "outputs": [],
   "source": [
    "spkr, test = load_sample(enroll_spk_raw, test_spk_raw)"
   ]
  },
  {
   "cell_type": "code",
   "execution_count": 32,
   "metadata": {},
   "outputs": [],
   "source": [
    "def kl_div(spkr, test):\n",
    "    \"\"\"Calc KL divergence of two speakers given utterance vectors of each\"\"\"\n",
    "    # Use a sliding window of n_utterances of the test speaker to go over spkr's utterances \n",
    "    spkr = spkr.values\n",
    "    test = test.values\n",
    "    res = np.array([])\n",
    "    for i in range(len(spkr)-len(test)+1):\n",
    "        a = entropy(spkr[i:i+len(test)], test)\n",
    "        #a[a==np.inf] = 1000\n",
    "        a[np.isnan(a)] = 0\n",
    "        res =np.append(res, a)\n",
    "    return np.min(res)"
   ]
  },
  {
   "cell_type": "code",
   "execution_count": 15,
   "metadata": {},
   "outputs": [],
   "source": [
    "import warnings; warnings.simplefilter('ignore')"
   ]
  },
  {
   "cell_type": "code",
   "execution_count": 46,
   "metadata": {},
   "outputs": [
    {
     "name": "stdout",
     "output_type": "stream",
     "text": [
      "[########################################] | 100% Completed |  0.3s\n",
      "[########################################] | 100% Completed | 27min 37.1s\n",
      "[########################################] | 100% Completed |  0.3s\n"
     ]
    }
   ],
   "source": [
    "kl_scores, res = run_test(kl_div, 0.10, enroll_spk_raw, test_spk_raw)"
   ]
  },
  {
   "cell_type": "code",
   "execution_count": 47,
   "metadata": {
    "scrolled": true
   },
   "outputs": [
    {
     "data": {
      "text/plain": [
       "(array([1.157081e+06, 1.266700e+04, 2.155000e+03, 4.430000e+02,\n",
       "        1.240000e+02, 3.300000e+01, 1.900000e+01, 1.000000e+00,\n",
       "        2.000000e+00, 3.000000e+00]),\n",
       " array([0.00000000e+00, 6.06782008e-05, 1.21356402e-04, 1.82034602e-04,\n",
       "        2.42712803e-04, 3.03391004e-04, 3.64069205e-04, 4.24747406e-04,\n",
       "        4.85425606e-04, 5.46103807e-04, 6.06782008e-04]),\n",
       " <a list of 10 Patch objects>)"
      ]
     },
     "execution_count": 47,
     "metadata": {},
     "output_type": "execute_result"
    },
    {
     "data": {
      "image/png": "[encoded data removed]",
      "text/plain": [
       "<Figure size 432x288 with 1 Axes>"
      ]
     },
     "metadata": {},
     "output_type": "display_data"
    }
   ],
   "source": [
    "plt.hist(kl_scores, bins=10)"
   ]
  },
  {
   "cell_type": "code",
   "execution_count": 38,
   "metadata": {},
   "outputs": [
    {
     "data": {
      "text/plain": [
       "(array([177.,   3.,   4.,   1.,   1.,   1.,   1.,   2.,   1.,   1.]),\n",
       " array([0.00000000e+00, 8.03788001e-06, 1.60757600e-05, 2.41136400e-05,\n",
       "        3.21515200e-05, 4.01894001e-05, 4.82272801e-05, 5.62651601e-05,\n",
       "        6.43030401e-05, 7.23409201e-05, 8.03788001e-05]),\n",
       " <a list of 10 Patch objects>)"
      ]
     },
     "execution_count": 38,
     "metadata": {},
     "output_type": "execute_result"
    },
    {
     "data": {
      "image/png": "[encoded data removed]",
      "text/plain": [
       "<Figure size 432x288 with 1 Axes>"
      ]
     },
     "metadata": {},
     "output_type": "display_data"
    }
   ],
   "source": [
    "plt.hist(kl_scores[res==1])"
   ]
  },
  {
   "cell_type": "code",
   "execution_count": 48,
   "metadata": {
    "scrolled": true
   },
   "outputs": [
    {
     "name": "stdout",
     "output_type": "stream",
     "text": [
      "Threshold:  1.0556269843908271e-11\n",
      "EER:  0.09609088385402208\n"
     ]
    },
    {
     "data": {
      "image/png": "[encoded data removed]",
      "text/plain": [
       "<Figure size 432x288 with 1 Axes>"
      ]
     },
     "metadata": {},
     "output_type": "display_data"
    }
   ],
   "source": [
    "calcEER(kl_scores, res)"
   ]
  },
  {
   "cell_type": "code",
   "execution_count": 50,
   "metadata": {},
   "outputs": [],
   "source": [
    "def kl_div_med(spkr, test):\n",
    "    \"\"\"Calc KL divergence of two speakers given utterance vectors of each\"\"\"\n",
    "    # Use a sliding window of n_utterances of the test speaker to go over spkr's utterances \n",
    "    spkr = spkr.values\n",
    "    test = test.values\n",
    "    res = np.array([])\n",
    "    for i in range(len(spkr)-len(test)+1):\n",
    "        a = entropy(spkr[i:i+len(test)], test)\n",
    "        #a[a==np.inf] = 1000\n",
    "        a[np.isnan(a)] = 0\n",
    "        res =np.append(res, a)\n",
    "    return np.median(res)"
   ]
  },
  {
   "cell_type": "code",
   "execution_count": 51,
   "metadata": {},
   "outputs": [
    {
     "name": "stdout",
     "output_type": "stream",
     "text": [
      "[########################################] | 100% Completed |  1min 13.8s\n",
      "[########################################] | 100% Completed |  1min 13.8s\n",
      "[########################################] | 100% Completed |  2min 55.5s\n",
      "[########################################] | 100% Completed |  2min 55.6s\n",
      "[########################################] | 100% Completed |  0.1s\n",
      "[########################################] | 100% Completed |  0.1s\n"
     ]
    }
   ],
   "source": [
    "kl_scores_med, res = run_test(kl_div_med, 0.01, enroll_spk_raw, test_spk_raw)"
   ]
  },
  {
   "cell_type": "code",
   "execution_count": 52,
   "metadata": {},
   "outputs": [
    {
     "name": "stdout",
     "output_type": "stream",
     "text": [
      "Threshold:  0.039228586223814504\n",
      "EER:  0.5244583788955713\n"
     ]
    },
    {
     "data": {
      "image/png": "[encoded data removed]",
      "text/plain": [
       "<Figure size 432x288 with 1 Axes>"
      ]
     },
     "metadata": {},
     "output_type": "display_data"
    }
   ],
   "source": [
    "calcEER(kl_scores_med, res)"
   ]
  },
  {
   "cell_type": "markdown",
   "metadata": {},
   "source": [
    "## Frame level KL"
   ]
  },
  {
   "cell_type": "code",
   "execution_count": null,
   "metadata": {},
   "outputs": [],
   "source": [
    "def kl_div_med(spkr, test):\n",
    "    \"\"\"Calc KL divergence of two speakers given utterance vectors of each\"\"\"\n",
    "    # Use a sliding window of n_utterances of the test speaker to go over spkr's utterances \n",
    "    spkr = spkr.values\n",
    "    test = test.values\n",
    "    res = np.array([])\n",
    "    for i in range(len(spkr)-len(test)+1):\n",
    "        a = entropy(spkr[i:i+len(test)], test)\n",
    "        #a[a==np.inf] = 1000\n",
    "        a[np.isnan(a)] = 0\n",
    "        res =np.append(res, a)\n",
    "    return np.median(res)\n",
    "\n",
    "def kl_div_frame(spkr_utts, test_utts):\n",
    "    "
   ]
  },
  {
   "cell_type": "markdown",
   "metadata": {},
   "source": [
    "# 2. Mahalanobis Distance\n",
    "\n",
    "It was previously seen that MD couldn't really be pursued with utterance-level speaker vectors because covariances were not always positive-definite and were sometimes singular. \n",
    "\n",
    "Some dimension-reduction can be used beforehand."
   ]
  },
  {
   "cell_type": "markdown",
   "metadata": {},
   "source": [
    "### PCA "
   ]
  },
  {
   "cell_type": "code",
   "execution_count": 9,
   "metadata": {},
   "outputs": [],
   "source": [
    "from sklearn.decomposition import PCA\n",
    "pca = PCA(n_components = 2)"
   ]
  },
  {
   "cell_type": "code",
   "execution_count": 186,
   "metadata": {},
   "outputs": [],
   "source": [
    "def cos_similarity_stdscaled(spkr, test):\n",
    "    sscaler = StandardScaler()\n",
    "    return cos_similarity(sscaler.fit_transform(spkr.values).mean(axis=0), sscaler.transform(test.values).mean(axis=0))"
   ]
  },
  {
   "cell_type": "code",
   "execution_count": 187,
   "metadata": {
    "collapsed": true
   },
   "outputs": [
    {
     "name": "stdout",
     "output_type": "stream",
     "text": [
      "[########################################] | 100% Completed |  0.3s\n",
      "[########################################] | 100% Completed |  0.3s\n",
      "[########################################] | 100% Completed |  0.4s\n",
      "[########################################] | 100% Completed |  0.4s\n",
      "[########################################] | 100% Completed |  0.5s\n",
      "[########################################] | 100% Completed |  0.3s\n",
      "[########################################] | 100% Completed |  0.3s\n",
      "[########################################] | 100% Completed |  0.4s\n",
      "[########################################] | 100% Completed |  0.5s\n",
      "[########################################] | 100% Completed |  0.6s\n",
      "[########################################] | 100% Completed | 39.4s\n",
      "[########################################] | 100% Completed | 39.4s\n",
      "[########################################] | 100% Completed | 39.5s\n",
      "[########################################] | 100% Completed | 39.5s\n",
      "[########################################] | 100% Completed | 39.6s\n",
      "[########################################] | 100% Completed |  0.2s\n",
      "[########################################] | 100% Completed |  0.3s\n",
      "[########################################] | 100% Completed |  0.4s\n",
      "[########################################] | 100% Completed |  0.5s\n",
      "[########################################] | 100% Completed |  0.6s\n"
     ]
    }
   ],
   "source": [
    "scores, res = run_test(cos_similarity_stdscaled, 0.01, enroll_spk_raw, test_spk_raw)"
   ]
  },
  {
   "cell_type": "code",
   "execution_count": 188,
   "metadata": {
    "collapsed": true
   },
   "outputs": [
    {
     "name": "stdout",
     "output_type": "stream",
     "text": [
      "Threshold:  0.5370161987283264\n",
      "EER:  0.45441498086386\n"
     ]
    },
    {
     "data": {
      "image/png": "[encoded data removed]",
      "text/plain": [
       "<Figure size 432x288 with 1 Axes>"
      ]
     },
     "metadata": {},
     "output_type": "display_data"
    }
   ],
   "source": [
    "calcEER(scaler.fit_transform(scores), res )"
   ]
  },
  {
   "cell_type": "code",
   "execution_count": 217,
   "metadata": {},
   "outputs": [],
   "source": [
    "def cos_similarity_pca(spkr, test):\n",
    "    \"\"\"Cos similarity after pca\"\"\"\n",
    "    spkr = spkr.values\n",
    "    test = test.values\n",
    "    sscaler = StandardScaler()\n",
    "    a = pca.fit_transform(sscaler.fit_transform(spkr)).mean(axis=0)\n",
    "    b = pca.transform(sscaler.transform(test)).mean(axis=0)\n",
    "    return cos_similarity(a,b)"
   ]
  },
  {
   "cell_type": "markdown",
   "metadata": {},
   "source": [
    "- ~~See if changing the pca fit for each enroll/test or using same changes anything~~\n",
    "- ~~See if changing scaling fit changes anything~~ On its own - creating a new SScaler for each function improves EER by a bit\n",
    "- ~~See if changing pca components does stuff~~ - 100 components vs 2 is better - but in general this is probably a bad idea\n",
    "- ~~See if operating on ARK data is different~~ - regular zscore is bad "
   ]
  },
  {
   "cell_type": "code",
   "execution_count": 218,
   "metadata": {
    "collapsed": true
   },
   "outputs": [
    {
     "name": "stdout",
     "output_type": "stream",
     "text": [
      "[########################################] | 100% Completed |  0.3s\n",
      "[########################################] | 100% Completed |  0.4s\n",
      "[########################################] | 100% Completed |  0.4s\n",
      "[########################################] | 100% Completed |  0.5s\n",
      "[########################################] | 100% Completed |  0.6s\n",
      "[########################################] | 100% Completed |  0.7s\n",
      "[########################################] | 100% Completed |  0.3s\n",
      "[########################################] | 100% Completed |  0.4s\n",
      "[########################################] | 100% Completed |  0.4s\n",
      "[########################################] | 100% Completed |  0.5s\n",
      "[########################################] | 100% Completed |  0.6s\n",
      "[########################################] | 100% Completed |  0.6s\n",
      "[########################################] | 100% Completed |  2min 49.9s\n",
      "[########################################] | 100% Completed |  2min 49.9s\n",
      "[########################################] | 100% Completed |  2min 50.0s\n",
      "[########################################] | 100% Completed |  2min 50.0s\n",
      "[########################################] | 100% Completed |  2min 50.1s\n",
      "[########################################] | 100% Completed |  2min 50.2s\n",
      "[########################################] | 100% Completed |  0.2s\n",
      "[########################################] | 100% Completed |  0.3s\n",
      "[########################################] | 100% Completed |  0.4s\n",
      "[########################################] | 100% Completed |  0.4s\n",
      "[########################################] | 100% Completed |  0.5s\n",
      "[########################################] | 100% Completed |  0.6s\n"
     ]
    }
   ],
   "source": [
    "scores, res = run_test(cos_similarity_pca, 0.01, enroll_spk_raw, test_spk_raw)"
   ]
  },
  {
   "cell_type": "code",
   "execution_count": 219,
   "metadata": {
    "collapsed": true
   },
   "outputs": [
    {
     "name": "stdout",
     "output_type": "stream",
     "text": [
      "Threshold:  0.03424388547024071\n",
      "EER:  0.4775492072170585\n"
     ]
    },
    {
     "data": {
      "image/png": "[encoded data removed]",
      "text/plain": [
       "<Figure size 432x288 with 1 Axes>"
      ]
     },
     "metadata": {},
     "output_type": "display_data"
    }
   ],
   "source": [
    "calcEER(scores, res )"
   ]
  },
  {
   "cell_type": "code",
   "execution_count": 55,
   "metadata": {},
   "outputs": [],
   "source": [
    "pca = PCA(n_components = 4)"
   ]
  },
  {
   "cell_type": "code",
   "execution_count": 52,
   "metadata": {},
   "outputs": [],
   "source": [
    "def md_pca(spkr, test):\n",
    "    a = spkr.values\n",
    "    m = a.mean(axis=0)\n",
    "    a = pca.fit_transform(a)\n",
    "    m = pca.transform(m.reshape(1,-1))\n",
    "   \n",
    "    test = pca.transform(np.array(test).reshape(1,-1))\n",
    "    cov = np.cov(a, rowvar=False)\n",
    "    inv = np.linalg.inv(cov)\n",
    "\n",
    "    return mahalanobis(test,m , inv)"
   ]
  },
  {
   "cell_type": "code",
   "execution_count": 56,
   "metadata": {},
   "outputs": [
    {
     "data": {
      "text/plain": [
       "1.0636098658359148"
      ]
     },
     "execution_count": 56,
     "metadata": {},
     "output_type": "execute_result"
    }
   ],
   "source": [
    "md_pca(spkr, test)"
   ]
  },
  {
   "cell_type": "code",
   "execution_count": 57,
   "metadata": {
    "collapsed": true
   },
   "outputs": [
    {
     "name": "stdout",
     "output_type": "stream",
     "text": [
      "[########################################] | 100% Completed |  0.3s\n",
      "[########################################] | 100% Completed |  0.4s\n",
      "[########################################] | 100% Completed |  0.3s\n",
      "[########################################] | 100% Completed |  0.4s\n",
      "[########################################] | 100% Completed |  2min 23.6s\n",
      "[########################################] | 100% Completed |  2min 23.7s\n",
      "[########################################] | 100% Completed |  0.1s\n",
      "[########################################] | 100% Completed |  0.2s\n"
     ]
    }
   ],
   "source": [
    "scores, res = run_test(md_pca, 0.01, enroll_spk_raw, test_spk)"
   ]
  },
  {
   "cell_type": "code",
   "execution_count": 60,
   "metadata": {},
   "outputs": [
    {
     "name": "stdout",
     "output_type": "stream",
     "text": [
      "Threshold:  0.8891647208326268\n",
      "EER:  0.5600994395844724\n"
     ]
    },
    {
     "data": {
      "image/png": "[encoded data removed]",
      "text/plain": [
       "<Figure size 432x288 with 1 Axes>"
      ]
     },
     "metadata": {},
     "output_type": "display_data"
    }
   ],
   "source": [
    "calcEER(scores, res)"
   ]
  },
  {
   "cell_type": "markdown",
   "metadata": {},
   "source": [
    "# 3. Z-score stuff\n",
    "\n",
    "Taking the median of vertical z-score produces EER of about 0.20. This was better than taking the mean, which yielded 0.22 EER."
   ]
  },
  {
   "cell_type": "code",
   "execution_count": 115,
   "metadata": {},
   "outputs": [],
   "source": [
    "def sigmoid(x):\n",
    "    return (1/(1+np.exp(-x)))"
   ]
  },
  {
   "cell_type": "code",
   "execution_count": 7,
   "metadata": {},
   "outputs": [],
   "source": [
    "def zscore_col_plusCos(spkr, test):\n",
    "    z = (zscore_col(spkr, test))\n",
    "    c = cos_similarity(spkr.mean(axis=0), test)\n",
    "    return c-0.01*z\n",
    "\n",
    "# takes spkr from raw, test from spk, and returns a single value\n",
    "def zscore_col(spkr, test):\n",
    "    std = np.std(spkr, axis=0)\n",
    "    scores = np.absolute(np.divide((test-spkr.mean(axis=0)), np.where(std!=0, std, 0.0000001)) )\n",
    "    res = np.median(scores)\n",
    "    return np.where(res<50, res, 100) "
   ]
  },
  {
   "cell_type": "markdown",
   "metadata": {},
   "source": [
    "return (np.exp(c) - (z)*1.3) - 0.18 EER\n",
    "return (np.exp(c)-np.log(z)) - 0.16 EER thres 0.56"
   ]
  },
  {
   "cell_type": "code",
   "execution_count": 224,
   "metadata": {
    "collapsed": true
   },
   "outputs": [
    {
     "name": "stdout",
     "output_type": "stream",
     "text": [
      "[########################################] | 100% Completed |  0.5s\n",
      "[########################################] | 100% Completed |  0.6s\n",
      "[########################################] | 100% Completed |  0.6s\n",
      "[########################################] | 100% Completed |  0.6s\n",
      "[########################################] | 100% Completed |  0.7s\n",
      "[########################################] | 100% Completed |  0.8s\n",
      "[########################################] | 100% Completed |  0.4s\n",
      "[########################################] | 100% Completed |  0.5s\n",
      "[########################################] | 100% Completed |  0.6s\n",
      "[########################################] | 100% Completed |  0.7s\n",
      "[########################################] | 100% Completed |  0.7s\n",
      "[########################################] | 100% Completed |  0.8s\n",
      "[########################################] | 100% Completed | 29min 43.2s\n",
      "[########################################] | 100% Completed | 29min 43.2s\n",
      "[########################################] | 100% Completed | 29min 43.2s\n",
      "[########################################] | 100% Completed | 29min 43.3s\n",
      "[########################################] | 100% Completed | 29min 43.4s\n",
      "[########################################] | 100% Completed | 29min 43.5s\n",
      "[########################################] | 100% Completed |  4.5s\n",
      "[########################################] | 100% Completed |  4.5s\n",
      "[########################################] | 100% Completed |  4.6s\n",
      "[########################################] | 100% Completed |  4.7s\n",
      "[########################################] | 100% Completed |  4.7s\n",
      "[########################################] | 100% Completed |  4.8s\n"
     ]
    }
   ],
   "source": [
    "scores, res = run_test(zscore_col_plusCos, 0.5, enroll_spk_raw, test_spk)"
   ]
  },
  {
   "cell_type": "code",
   "execution_count": 225,
   "metadata": {},
   "outputs": [
    {
     "name": "stdout",
     "output_type": "stream",
     "text": [
      "Threshold:  0.8977745569992787\n",
      "EER:  0.08237283792440743\n"
     ]
    },
    {
     "data": {
      "image/png": "[encoded data removed]",
      "text/plain": [
       "<Figure size 432x288 with 1 Axes>"
      ]
     },
     "metadata": {},
     "output_type": "display_data"
    }
   ],
   "source": [
    "calcEER(scores, res)"
   ]
  },
  {
   "cell_type": "code",
   "execution_count": 9,
   "metadata": {},
   "outputs": [
    {
     "name": "stdout",
     "output_type": "stream",
     "text": [
      "[########################################] | 100% Completed |  0.3s\n",
      "[########################################] | 100% Completed |  0.4s\n",
      "[########################################] | 100% Completed | 40.2s\n",
      "[########################################] | 100% Completed | 40.3s\n",
      "[########################################] | 100% Completed |  0.1s\n",
      "[########################################] | 100% Completed |  0.2s\n"
     ]
    }
   ],
   "source": [
    "z, res = run_test(zscore_col, 0.01, enroll_spk_raw, test_spk)\n",
    "#sendScores(z, res, 'z')"
   ]
  },
  {
   "cell_type": "code",
   "execution_count": 231,
   "metadata": {},
   "outputs": [
    {
     "name": "stdout",
     "output_type": "stream",
     "text": [
      "[########################################] | 100% Completed |  0.5s\n",
      "[########################################] | 100% Completed |  0.7s\n",
      "[########################################] | 100% Completed |  0.7s\n",
      "[########################################] | 100% Completed |  0.8s\n",
      "[########################################] | 100% Completed |  0.9s\n",
      "[########################################] | 100% Completed |  1.0s\n",
      "[########################################] | 100% Completed |  1.1s\n",
      "[########################################] | 100% Completed |  5min  2.4s\n",
      "[########################################] | 100% Completed |  5min  2.5s\n",
      "[########################################] | 100% Completed |  5min  2.5s\n",
      "[########################################] | 100% Completed |  5min  2.5s\n",
      "[########################################] | 100% Completed |  5min  2.6s\n",
      "[########################################] | 100% Completed |  5min  2.7s\n",
      "[########################################] | 100% Completed |  5min  2.7s\n",
      "[########################################] | 100% Completed |  5.3s\n",
      "[########################################] | 100% Completed |  5.4s\n",
      "[########################################] | 100% Completed |  5.5s\n",
      "[########################################] | 100% Completed |  5.5s\n",
      "[########################################] | 100% Completed |  5.5s\n",
      "[########################################] | 100% Completed |  5.6s\n",
      "[########################################] | 100% Completed |  5.6s\n"
     ]
    }
   ],
   "source": [
    "c, res = run_test(cos_similarity, 0.5, enroll_spk, test_spk)"
   ]
  },
  {
   "cell_type": "code",
   "execution_count": 229,
   "metadata": {},
   "outputs": [
    {
     "name": "stdout",
     "output_type": "stream",
     "text": [
      "Threshold:  0.9147632933420125\n",
      "EER:  0.07963749733077087\n"
     ]
    },
    {
     "data": {
      "image/png": "[encoded data removed]",
      "text/plain": [
       "<Figure size 432x288 with 1 Axes>"
      ]
     },
     "metadata": {},
     "output_type": "display_data"
    }
   ],
   "source": [
    "calcEER(c, res)"
   ]
  },
  {
   "cell_type": "code",
   "execution_count": 220,
   "metadata": {},
   "outputs": [],
   "source": [
    "t = c-0.01*z"
   ]
  },
  {
   "cell_type": "code",
   "execution_count": 226,
   "metadata": {
    "collapsed": true
   },
   "outputs": [
    {
     "ename": "ValueError",
     "evalue": "Found input variables with inconsistent numbers of samples: [5862654, 117248]",
     "output_type": "error",
     "traceback": [
      "\u001b[0;31m---------------------------------------------------------------------------\u001b[0m",
      "\u001b[0;31mValueError\u001b[0m                                Traceback (most recent call last)",
      "\u001b[0;32m<ipython-input-226-8e9b2d0125d8>\u001b[0m in \u001b[0;36m<module>\u001b[0;34m()\u001b[0m\n\u001b[0;32m----> 1\u001b[0;31m \u001b[0mcalcEER\u001b[0m\u001b[0;34m(\u001b[0m\u001b[0mt\u001b[0m\u001b[0;34m,\u001b[0m \u001b[0mres\u001b[0m\u001b[0;34m)\u001b[0m\u001b[0;34m\u001b[0m\u001b[0m\n\u001b[0m",
      "\u001b[0;32m<ipython-input-2-96c5f55702c9>\u001b[0m in \u001b[0;36mcalcEER\u001b[0;34m(series, true, name)\u001b[0m\n\u001b[1;32m      9\u001b[0m \u001b[0;34m\u001b[0m\u001b[0m\n\u001b[1;32m     10\u001b[0m \u001b[0;32mdef\u001b[0m \u001b[0mcalcEER\u001b[0m\u001b[0;34m(\u001b[0m\u001b[0mseries\u001b[0m\u001b[0;34m,\u001b[0m \u001b[0mtrue\u001b[0m\u001b[0;34m,\u001b[0m \u001b[0mname\u001b[0m \u001b[0;34m=\u001b[0m \u001b[0;34m\"\"\u001b[0m\u001b[0;34m)\u001b[0m\u001b[0;34m:\u001b[0m\u001b[0;34m\u001b[0m\u001b[0m\n\u001b[0;32m---> 11\u001b[0;31m     \u001b[0mfpr\u001b[0m\u001b[0;34m,\u001b[0m \u001b[0mtpr\u001b[0m\u001b[0;34m,\u001b[0m \u001b[0mthresholds\u001b[0m \u001b[0;34m=\u001b[0m \u001b[0mroc_curve\u001b[0m\u001b[0;34m(\u001b[0m\u001b[0mtrue\u001b[0m\u001b[0;34m,\u001b[0m \u001b[0mseries\u001b[0m\u001b[0;34m)\u001b[0m\u001b[0;34m\u001b[0m\u001b[0m\n\u001b[0m\u001b[1;32m     12\u001b[0m     \u001b[0mplt\u001b[0m\u001b[0;34m.\u001b[0m\u001b[0mplot\u001b[0m\u001b[0;34m(\u001b[0m\u001b[0mfpr\u001b[0m\u001b[0;34m,\u001b[0m \u001b[0mtpr\u001b[0m\u001b[0;34m)\u001b[0m\u001b[0;34m\u001b[0m\u001b[0m\n\u001b[1;32m     13\u001b[0m     \u001b[0mplt\u001b[0m\u001b[0;34m.\u001b[0m\u001b[0mxlabel\u001b[0m\u001b[0;34m(\u001b[0m\u001b[0;34m'FPR'\u001b[0m\u001b[0;34m)\u001b[0m\u001b[0;34m\u001b[0m\u001b[0m\n",
      "\u001b[0;32m~/anaconda3/lib/python3.6/site-packages/sklearn/metrics/ranking.py\u001b[0m in \u001b[0;36mroc_curve\u001b[0;34m(y_true, y_score, pos_label, sample_weight, drop_intermediate)\u001b[0m\n\u001b[1;32m    532\u001b[0m     \"\"\"\n\u001b[1;32m    533\u001b[0m     fps, tps, thresholds = _binary_clf_curve(\n\u001b[0;32m--> 534\u001b[0;31m         y_true, y_score, pos_label=pos_label, sample_weight=sample_weight)\n\u001b[0m\u001b[1;32m    535\u001b[0m \u001b[0;34m\u001b[0m\u001b[0m\n\u001b[1;32m    536\u001b[0m     \u001b[0;31m# Attempt to drop thresholds corresponding to points in between and\u001b[0m\u001b[0;34m\u001b[0m\u001b[0;34m\u001b[0m\u001b[0m\n",
      "\u001b[0;32m~/anaconda3/lib/python3.6/site-packages/sklearn/metrics/ranking.py\u001b[0m in \u001b[0;36m_binary_clf_curve\u001b[0;34m(y_true, y_score, pos_label, sample_weight)\u001b[0m\n\u001b[1;32m    318\u001b[0m         \u001b[0;32mraise\u001b[0m \u001b[0mValueError\u001b[0m\u001b[0;34m(\u001b[0m\u001b[0;34m\"{0} format is not supported\"\u001b[0m\u001b[0;34m.\u001b[0m\u001b[0mformat\u001b[0m\u001b[0;34m(\u001b[0m\u001b[0my_type\u001b[0m\u001b[0;34m)\u001b[0m\u001b[0;34m)\u001b[0m\u001b[0;34m\u001b[0m\u001b[0m\n\u001b[1;32m    319\u001b[0m \u001b[0;34m\u001b[0m\u001b[0m\n\u001b[0;32m--> 320\u001b[0;31m     \u001b[0mcheck_consistent_length\u001b[0m\u001b[0;34m(\u001b[0m\u001b[0my_true\u001b[0m\u001b[0;34m,\u001b[0m \u001b[0my_score\u001b[0m\u001b[0;34m,\u001b[0m \u001b[0msample_weight\u001b[0m\u001b[0;34m)\u001b[0m\u001b[0;34m\u001b[0m\u001b[0m\n\u001b[0m\u001b[1;32m    321\u001b[0m     \u001b[0my_true\u001b[0m \u001b[0;34m=\u001b[0m \u001b[0mcolumn_or_1d\u001b[0m\u001b[0;34m(\u001b[0m\u001b[0my_true\u001b[0m\u001b[0;34m)\u001b[0m\u001b[0;34m\u001b[0m\u001b[0m\n\u001b[1;32m    322\u001b[0m     \u001b[0my_score\u001b[0m \u001b[0;34m=\u001b[0m \u001b[0mcolumn_or_1d\u001b[0m\u001b[0;34m(\u001b[0m\u001b[0my_score\u001b[0m\u001b[0;34m)\u001b[0m\u001b[0;34m\u001b[0m\u001b[0m\n",
      "\u001b[0;32m~/anaconda3/lib/python3.6/site-packages/sklearn/utils/validation.py\u001b[0m in \u001b[0;36mcheck_consistent_length\u001b[0;34m(*arrays)\u001b[0m\n\u001b[1;32m    202\u001b[0m     \u001b[0;32mif\u001b[0m \u001b[0mlen\u001b[0m\u001b[0;34m(\u001b[0m\u001b[0muniques\u001b[0m\u001b[0;34m)\u001b[0m \u001b[0;34m>\u001b[0m \u001b[0;36m1\u001b[0m\u001b[0;34m:\u001b[0m\u001b[0;34m\u001b[0m\u001b[0m\n\u001b[1;32m    203\u001b[0m         raise ValueError(\"Found input variables with inconsistent numbers of\"\n\u001b[0;32m--> 204\u001b[0;31m                          \" samples: %r\" % [int(l) for l in lengths])\n\u001b[0m\u001b[1;32m    205\u001b[0m \u001b[0;34m\u001b[0m\u001b[0m\n\u001b[1;32m    206\u001b[0m \u001b[0;34m\u001b[0m\u001b[0m\n",
      "\u001b[0;31mValueError\u001b[0m: Found input variables with inconsistent numbers of samples: [5862654, 117248]"
     ]
    }
   ],
   "source": [
    "calcEER(t, res)"
   ]
  },
  {
   "cell_type": "code",
   "execution_count": 207,
   "metadata": {},
   "outputs": [],
   "source": [
    "def minFunc(x):\n",
    "    fpr, tpr, thresholds = roc_curve(res, c-x*z)\n",
    "    fnr = 1 - tpr\n",
    "    minPt = np.nanargmin(np.absolute((fnr - fpr)))\n",
    "    return fpr[minPt]"
   ]
  },
  {
   "cell_type": "code",
   "execution_count": 212,
   "metadata": {},
   "outputs": [
    {
     "data": {
      "text/plain": [
       "0.07061577364680154"
      ]
     },
     "execution_count": 212,
     "metadata": {},
     "output_type": "execute_result"
    }
   ],
   "source": [
    "minFunc(0)"
   ]
  },
  {
   "cell_type": "code",
   "execution_count": 218,
   "metadata": {},
   "outputs": [
    {
     "data": {
      "text/plain": [
       "[<matplotlib.lines.Line2D at 0x7f371b63be10>]"
      ]
     },
     "execution_count": 218,
     "metadata": {},
     "output_type": "execute_result"
    },
    {
     "data": {
      "image/png": "[encoded data removed]",
      "text/plain": [
       "<Figure size 432x288 with 1 Axes>"
      ]
     },
     "metadata": {},
     "output_type": "display_data"
    }
   ],
   "source": [
    "m = []\n",
    "for p in np.arange(-0.5,0.5,0.001):\n",
    "    m.append(minFunc(p))\n",
    "plt.plot(m)"
   ]
  },
  {
   "cell_type": "code",
   "execution_count": 195,
   "metadata": {
    "scrolled": true
   },
   "outputs": [
    {
     "data": {
      "text/plain": [
       "(array([ 1.,  1.,  8., 20., 27., 41., 29., 31., 19., 15.]),\n",
       " array([0.87803678, 0.88958707, 0.90113735, 0.91268764, 0.92423792,\n",
       "        0.9357882 , 0.94733849, 0.95888877, 0.97043905, 0.98198934,\n",
       "        0.99353962]),\n",
       " <a list of 10 Patch objects>)"
      ]
     },
     "execution_count": 195,
     "metadata": {},
     "output_type": "execute_result"
    },
    {
     "data": {
      "image/png": "[encoded data removed]",
      "text/plain": [
       "<Figure size 720x288 with 2 Axes>"
      ]
     },
     "metadata": {},
     "output_type": "display_data"
    }
   ],
   "source": [
    "plt.figure(figsize=(10,4))\n",
    "plt.subplot(121)\n",
    "plt.hist(t[res==1], color='red', bins=20)\n",
    "\n",
    "plt.subplot(122)\n",
    "plt.hist(c[res==1], bins='auto')"
   ]
  },
  {
   "cell_type": "code",
   "execution_count": 196,
   "metadata": {},
   "outputs": [
    {
     "data": {
      "image/png": "[encoded data removed]",
      "text/plain": [
       "<Figure size 720x288 with 2 Axes>"
      ]
     },
     "metadata": {},
     "output_type": "display_data"
    }
   ],
   "source": [
    "plt.figure(figsize=(10,4))\n",
    "plt.subplot(121)\n",
    "plt.hist(t, bins='auto');\n",
    "\n",
    "plt.subplot(122)\n",
    "plt.hist(c, bins='auto');\n"
   ]
  },
  {
   "cell_type": "markdown",
   "metadata": {},
   "source": [
    "# median of median z-score on frame-level data"
   ]
  },
  {
   "cell_type": "code",
   "execution_count": 9,
   "metadata": {},
   "outputs": [],
   "source": [
    "def ark_to_hdf5_raw(filename, num_utts = 100 ):\n",
    "    \"\"\"Makes each utterance a dataframe of frame-level d-vectors. It is required to run ark_to_hdf5 first to get the index\"\"\"\n",
    "    def genMultiIndex(utt_names, utt_lengths):\n",
    "        names = []\n",
    "        for i, j in enumerate(utt_lengths):\n",
    "            names += [utt_names[i]]*j\n",
    "        cols = []\n",
    "        for i, j in enumerate(utt_lengths):\n",
    "            cols += [k for k in range(j)]\n",
    "        return pd.MultiIndex.from_arrays([names, cols], names = ('utt','row'))\n",
    "    \n",
    "    HDFS_Name = filename+\"_raw.h5\"\n",
    "    store = pd.HDFStore(HDFS_Name)\n",
    "    utt_names = []\n",
    "    utt_lengths = [] #this and utt_names should be same length\n",
    "    last_wd_len = 0\n",
    "    df_count = 0\n",
    "    \n",
    "    with open(FILE_DIR+filename, 'r') as f:\n",
    "        working_data = []\n",
    "        utt_id_past = \"\"\n",
    "        for line in f:\n",
    "            if(line[:2].isalpha()):\n",
    "                utt_id = line[:line.index(\"[\")-2]\n",
    "                if not utt_id_past:\n",
    "                    utt_id_past = utt_id\n",
    "                \n",
    "                if working_data:\n",
    "                    last_utt_len = len(working_data) - last_wd_len\n",
    "                    last_wd_len = len(working_data)\n",
    "                    utt_lengths.append(last_utt_len)\n",
    "                    utt_names.append(utt_id_past)\n",
    "                    \n",
    "                    if (len(utt_names)>num_utts):\n",
    "                        data = np.array(working_data, dtype='float64')\n",
    "                        index = genMultiIndex(utt_names, utt_lengths)\n",
    "                        pd.DataFrame(index=index, data = data).to_hdf(HDFS_Name, filename[:-4]+\"_raw\"+str(int(df_count/num_utts)) ,format=\"table\")\n",
    "                        df_list = np.array([]) \n",
    "                        # ONLY WHEN LAST BATCH HAS BEEN WRITTEN TO DISK\n",
    "                        working_data, utt_lengths, utt_names = [],[],[]\n",
    "                        last_wd_len = 0        \n",
    "                    df_count+=1\n",
    "                    \n",
    "                if df_count%num_utts==0: \n",
    "                    print(\"Utts processed: \", df_count)      \n",
    "                utt_id_past = utt_id\n",
    "                \n",
    "            else:\n",
    "                # Add line as another row to the working matrix of df_utterance\n",
    "                if \"]\" in line[-3:]: line = line[:-2]\n",
    "                working_data.append(line.strip().split())\n",
    "                \n",
    "        if working_data: #Do same thing with tailing data\n",
    "            last_utt_len = len(working_data) - last_wd_len\n",
    "            utt_lengths.append(last_utt_len)\n",
    "            utt_names.append(utt_id_past)\n",
    "            data = np.array(working_data, dtype='float64')\n",
    "            index = genMultiIndex(utt_names, utt_lengths)\n",
    "            pd.DataFrame(index=index, data = data).to_hdf(HDFS_Name,filename[:-4]+\"_raw\"+str(int(df_count/num_utts)+1) ,format=\"table\")\n",
    "            print(\"Utts processed: \", df_count+1)  \n",
    "            \n",
    "            \n",
    "    return store"
   ]
  },
  {
   "cell_type": "code",
   "execution_count": 29,
   "metadata": {
    "scrolled": true
   },
   "outputs": [
    {
     "data": {
      "text/html": [
       "<div>\n",
       "<style scoped>\n",
       "    .dataframe tbody tr th:only-of-type {\n",
       "        vertical-align: middle;\n",
       "    }\n",
       "\n",
       "    .dataframe tbody tr th {\n",
       "        vertical-align: top;\n",
       "    }\n",
       "\n",
       "    .dataframe thead th {\n",
       "        text-align: right;\n",
       "    }\n",
       "</style>\n",
       "<table border=\"1\" class=\"dataframe\">\n",
       "  <thead>\n",
       "    <tr style=\"text-align: right;\">\n",
       "      <th></th>\n",
       "      <th>enroll</th>\n",
       "      <th>test_id</th>\n",
       "      <th>result</th>\n",
       "    </tr>\n",
       "  </thead>\n",
       "  <tbody>\n",
       "    <tr>\n",
       "      <th>0</th>\n",
       "      <td>4780420411</td>\n",
       "      <td>fc_4779547143_0</td>\n",
       "      <td>0</td>\n",
       "    </tr>\n",
       "    <tr>\n",
       "      <th>1</th>\n",
       "      <td>4780420411</td>\n",
       "      <td>fc_4779547143_1</td>\n",
       "      <td>0</td>\n",
       "    </tr>\n",
       "    <tr>\n",
       "      <th>2</th>\n",
       "      <td>4780420411</td>\n",
       "      <td>fc_4779547143_2</td>\n",
       "      <td>0</td>\n",
       "    </tr>\n",
       "    <tr>\n",
       "      <th>3</th>\n",
       "      <td>4780420411</td>\n",
       "      <td>fc_4779547143_3</td>\n",
       "      <td>0</td>\n",
       "    </tr>\n",
       "    <tr>\n",
       "      <th>4</th>\n",
       "      <td>4780420411</td>\n",
       "      <td>fc_4779547143_4</td>\n",
       "      <td>0</td>\n",
       "    </tr>\n",
       "  </tbody>\n",
       "</table>\n",
       "</div>"
      ],
      "text/plain": [
       "       enroll          test_id  result\n",
       "0  4780420411  fc_4779547143_0       0\n",
       "1  4780420411  fc_4779547143_1       0\n",
       "2  4780420411  fc_4779547143_2       0\n",
       "3  4780420411  fc_4779547143_3       0\n",
       "4  4780420411  fc_4779547143_4       0"
      ]
     },
     "execution_count": 29,
     "metadata": {},
     "output_type": "execute_result"
    }
   ],
   "source": [
    "pairs.head()"
   ]
  },
  {
   "cell_type": "code",
   "execution_count": 62,
   "metadata": {},
   "outputs": [],
   "source": [
    "# takes spkr from raw, test from spk, and returns a single value\n",
    "def zscore_col(spkr, test):\n",
    "    std = np.std(spkr, axis=0)\n",
    "    scores = np.absolute(np.divide((test-spkr.mean(axis=0)), np.where(std!=0, std, 0.0000001)) )\n",
    "    res = np.median(scores)\n",
    "    return res\n",
    "\n",
    "def zscore_col_delayed(spkr, test):\n",
    "    std = delayed(np.std)(spkr, axis=0)\n",
    "    scores = delayed(np.absolute)(delayed(np.divide)((delayed(test) - delayed(spkr).mean(axis=0)), delayed(np.where)(std!=0, std, 0.0000001)) )\n",
    "    res = delayed(np.median)(scores)\n",
    "    return res\n",
    "# spkr_utts is a list of utterances associated to one speaker\n",
    "# returns a float\n",
    "def zscore_col_framelvl(spkr_utts, test):\n",
    "    z_res = []\n",
    "    for u in spkr_utts:\n",
    "        u_vecs = delayed(enroll_ark).loc[u].values\n",
    "        z = zscore_col_delayed(u_vecs, test)\n",
    "        z_res.append(z)\n",
    "    return delayed(np.median)(z_res)"
   ]
  },
  {
   "cell_type": "code",
   "execution_count": 145,
   "metadata": {},
   "outputs": [
    {
     "name": "stdout",
     "output_type": "stream",
     "text": [
      "[########################################] | 100% Completed |  0.3s\n",
      "[########################################] | 100% Completed |  0.4s\n",
      "[########################################] | 100% Completed |  0.5s\n",
      "[########################################] | 100% Completed |  0.6s\n",
      "[########################################] | 100% Completed |  1.9s\n",
      "[########################################] | 100% Completed |  1.9s\n",
      "[########################################] | 100% Completed |  2.0s\n",
      "[########################################] | 100% Completed |  2.0s\n",
      "[########################################] | 100% Completed |  0.1s\n",
      "[########################################] | 100% Completed |  0.2s\n",
      "[########################################] | 100% Completed |  0.3s\n",
      "[########################################] | 100% Completed |  0.3s\n"
     ]
    }
   ],
   "source": [
    "z, res = run_test(zscore_col, 0.0001, enroll_spk_raw, test_spk)"
   ]
  },
  {
   "cell_type": "code",
   "execution_count": 128,
   "metadata": {},
   "outputs": [
    {
     "name": "stdout",
     "output_type": "stream",
     "text": [
      "[########################################] | 100% Completed |  0.3s\n",
      "[########################################] | 100% Completed |  0.4s\n",
      "[########################################] | 100% Completed |  0.5s\n",
      "[########################################] | 100% Completed |  1min  7.0s\n",
      "[########################################] | 100% Completed |  1min  7.0s\n",
      "[########################################] | 100% Completed |  1min  7.0s\n",
      "[########################################] | 100% Completed |  0.1s\n",
      "[########################################] | 100% Completed |  0.2s\n",
      "[########################################] | 100% Completed |  0.2s\n"
     ]
    }
   ],
   "source": [
    "z_frame, res = run_test(zscore_col_framelvl, 0.001, enroll_utts, test_spk)"
   ]
  },
  {
   "cell_type": "code",
   "execution_count": 131,
   "metadata": {},
   "outputs": [
    {
     "name": "stdout",
     "output_type": "stream",
     "text": [
      "[########################################] | 100% Completed |  7min 11.0s\n",
      "[########################################] | 100% Completed |  7min 11.1s\n"
     ]
    }
   ],
   "source": [
    "z_frame = dd.compute(*z_frame)"
   ]
  },
  {
   "cell_type": "code",
   "execution_count": 132,
   "metadata": {},
   "outputs": [
    {
     "data": {
      "text/plain": [
       "array([1.50032324, 1.49263836, 1.58997193, 1.76007257, 1.5448861 ,\n",
       "       1.57604872, 1.53370577, 1.38370009, 1.57249453, 1.48792185,\n",
       "       1.60286338, 2.17567701, 1.61840331, 1.84748426, 2.00889771,\n",
       "       1.72971181, 1.80719291, 1.61115703, 1.59304991, 1.7202844 ,\n",
       "       2.07927303])"
      ]
     },
     "execution_count": 132,
     "metadata": {},
     "output_type": "execute_result"
    }
   ],
   "source": [
    "np.array(z_frame)[res==1]"
   ]
  },
  {
   "cell_type": "code",
   "execution_count": 133,
   "metadata": {},
   "outputs": [
    {
     "name": "stdout",
     "output_type": "stream",
     "text": [
      "Threshold:  1.5930499099755848\n",
      "EER:  0.4438370205859742\n"
     ]
    },
    {
     "data": {
      "image/png": "[encoded data removed]",
      "text/plain": [
       "<Figure size 432x288 with 1 Axes>"
      ]
     },
     "metadata": {},
     "output_type": "display_data"
    }
   ],
   "source": [
    "calcEER(z_frame, res)"
   ]
  },
  {
   "cell_type": "code",
   "execution_count": 60,
   "metadata": {},
   "outputs": [
    {
     "data": {
      "text/plain": [
       "(array([5.6317e+04, 3.6006e+04, 1.5058e+04, 6.1840e+03, 2.2430e+03,\n",
       "        8.0600e+02, 4.4400e+02, 1.2900e+02, 4.6000e+01, 1.5000e+01]),\n",
       " array([  3.99348572,  42.85339527,  81.71330483, 120.57321438,\n",
       "        159.43312394, 198.2930335 , 237.15294305, 276.01285261,\n",
       "        314.87276216, 353.73267172, 392.59258127]),\n",
       " <a list of 10 Patch objects>)"
      ]
     },
     "execution_count": 60,
     "metadata": {},
     "output_type": "execute_result"
    },
    {
     "data": {
      "image/png": "[encoded data removed]",
      "text/plain": [
       "<Figure size 432x288 with 1 Axes>"
      ]
     },
     "metadata": {},
     "output_type": "display_data"
    }
   ],
   "source": [
    "plt.hist(z_frame)"
   ]
  },
  {
   "cell_type": "code",
   "execution_count": 61,
   "metadata": {},
   "outputs": [
    {
     "data": {
      "text/plain": [
       "(array([83., 50., 32., 14.,  9.,  1.,  2.,  0.,  0.,  1.]),\n",
       " array([ 13.98935999,  40.75914942,  67.52893884,  94.29872827,\n",
       "        121.06851769, 147.83830712, 174.60809654, 201.37788596,\n",
       "        228.14767539, 254.91746481, 281.68725424]),\n",
       " <a list of 10 Patch objects>)"
      ]
     },
     "execution_count": 61,
     "metadata": {},
     "output_type": "execute_result"
    },
    {
     "data": {
      "image/png": "[encoded data removed]",
      "text/plain": [
       "<Figure size 432x288 with 1 Axes>"
      ]
     },
     "metadata": {},
     "output_type": "display_data"
    }
   ],
   "source": [
    "plt.hist(z_frame[res==1])"
   ]
  },
  {
   "cell_type": "markdown",
   "metadata": {},
   "source": [
    "# KL divergence frame-level"
   ]
  },
  {
   "cell_type": "code",
   "execution_count": null,
   "metadata": {},
   "outputs": [],
   "source": [
    "# Returns a value representative of KL div of 5 speaker utts x 3 test utts\n",
    "# spkr_utts is a list of utterances associated to one speaker\n",
    "# returns a float\n",
    "def kl_framelvl(spkr_utts, test_utts):\n",
    "    s\n",
    "    for u in spkr_utts:\n",
    "        u_vecs = pd.read_hdf('enroll.ark_raw.h5', u)\n",
    "        z = zscore_col(spkr, test)\n",
    "        z_avgs.append(z)\n",
    "    return np.min(z_avgs)"
   ]
  },
  {
   "cell_type": "markdown",
   "metadata": {},
   "source": [
    "# Minimum KS score on sliding frame-level window? \n",
    "This ended up being rather useless because this produces a yes/no result, not exactly a score"
   ]
  },
  {
   "cell_type": "code",
   "execution_count": 7,
   "metadata": {},
   "outputs": [],
   "source": [
    "from scipy.stats import ks_2samp"
   ]
  },
  {
   "cell_type": "code",
   "execution_count": 11,
   "metadata": {},
   "outputs": [
    {
     "data": {
      "text/html": [
       "<div>\n",
       "<style scoped>\n",
       "    .dataframe tbody tr th:only-of-type {\n",
       "        vertical-align: middle;\n",
       "    }\n",
       "\n",
       "    .dataframe tbody tr th {\n",
       "        vertical-align: top;\n",
       "    }\n",
       "\n",
       "    .dataframe thead th {\n",
       "        text-align: right;\n",
       "    }\n",
       "</style>\n",
       "<table border=\"1\" class=\"dataframe\">\n",
       "  <thead>\n",
       "    <tr style=\"text-align: right;\">\n",
       "      <th></th>\n",
       "      <th>0</th>\n",
       "      <th>1</th>\n",
       "      <th>2</th>\n",
       "      <th>3</th>\n",
       "      <th>4</th>\n",
       "      <th>5</th>\n",
       "      <th>6</th>\n",
       "      <th>7</th>\n",
       "      <th>8</th>\n",
       "      <th>9</th>\n",
       "      <th>...</th>\n",
       "      <th>390</th>\n",
       "      <th>391</th>\n",
       "      <th>392</th>\n",
       "      <th>393</th>\n",
       "      <th>394</th>\n",
       "      <th>395</th>\n",
       "      <th>396</th>\n",
       "      <th>397</th>\n",
       "      <th>398</th>\n",
       "      <th>399</th>\n",
       "    </tr>\n",
       "    <tr>\n",
       "      <th>utt</th>\n",
       "      <th></th>\n",
       "      <th></th>\n",
       "      <th></th>\n",
       "      <th></th>\n",
       "      <th></th>\n",
       "      <th></th>\n",
       "      <th></th>\n",
       "      <th></th>\n",
       "      <th></th>\n",
       "      <th></th>\n",
       "      <th></th>\n",
       "      <th></th>\n",
       "      <th></th>\n",
       "      <th></th>\n",
       "      <th></th>\n",
       "      <th></th>\n",
       "      <th></th>\n",
       "      <th></th>\n",
       "      <th></th>\n",
       "      <th></th>\n",
       "      <th></th>\n",
       "    </tr>\n",
       "  </thead>\n",
       "  <tbody>\n",
       "    <tr>\n",
       "      <th>utt1</th>\n",
       "      <td>0.016057</td>\n",
       "      <td>0.063447</td>\n",
       "      <td>0.024169</td>\n",
       "      <td>0.020488</td>\n",
       "      <td>0.067268</td>\n",
       "      <td>0.111295</td>\n",
       "      <td>0.075458</td>\n",
       "      <td>0.002725</td>\n",
       "      <td>0.047470</td>\n",
       "      <td>0.044406</td>\n",
       "      <td>...</td>\n",
       "      <td>0.082196</td>\n",
       "      <td>0.031757</td>\n",
       "      <td>0.026153</td>\n",
       "      <td>0.028168</td>\n",
       "      <td>0.026362</td>\n",
       "      <td>0.048117</td>\n",
       "      <td>0.040820</td>\n",
       "      <td>0.025251</td>\n",
       "      <td>0.012643</td>\n",
       "      <td>0.081232</td>\n",
       "    </tr>\n",
       "    <tr>\n",
       "      <th>utt2</th>\n",
       "      <td>0.004132</td>\n",
       "      <td>0.042350</td>\n",
       "      <td>0.026292</td>\n",
       "      <td>0.021213</td>\n",
       "      <td>0.055774</td>\n",
       "      <td>0.099405</td>\n",
       "      <td>0.056854</td>\n",
       "      <td>0.000000</td>\n",
       "      <td>0.059910</td>\n",
       "      <td>0.034133</td>\n",
       "      <td>...</td>\n",
       "      <td>0.089012</td>\n",
       "      <td>0.023073</td>\n",
       "      <td>0.018801</td>\n",
       "      <td>0.033256</td>\n",
       "      <td>0.028867</td>\n",
       "      <td>0.053247</td>\n",
       "      <td>0.054419</td>\n",
       "      <td>0.009181</td>\n",
       "      <td>0.002636</td>\n",
       "      <td>0.048796</td>\n",
       "    </tr>\n",
       "    <tr>\n",
       "      <th>utt3</th>\n",
       "      <td>0.003735</td>\n",
       "      <td>0.060417</td>\n",
       "      <td>0.041474</td>\n",
       "      <td>0.007404</td>\n",
       "      <td>0.067067</td>\n",
       "      <td>0.119366</td>\n",
       "      <td>0.052364</td>\n",
       "      <td>0.000000</td>\n",
       "      <td>0.056909</td>\n",
       "      <td>0.056164</td>\n",
       "      <td>...</td>\n",
       "      <td>0.094812</td>\n",
       "      <td>0.061538</td>\n",
       "      <td>0.017183</td>\n",
       "      <td>0.027635</td>\n",
       "      <td>0.032651</td>\n",
       "      <td>0.042445</td>\n",
       "      <td>0.030427</td>\n",
       "      <td>0.012174</td>\n",
       "      <td>0.007087</td>\n",
       "      <td>0.087498</td>\n",
       "    </tr>\n",
       "    <tr>\n",
       "      <th>utt4</th>\n",
       "      <td>0.023073</td>\n",
       "      <td>0.047888</td>\n",
       "      <td>0.017589</td>\n",
       "      <td>0.011351</td>\n",
       "      <td>0.062918</td>\n",
       "      <td>0.116655</td>\n",
       "      <td>0.081408</td>\n",
       "      <td>0.000000</td>\n",
       "      <td>0.031385</td>\n",
       "      <td>0.042443</td>\n",
       "      <td>...</td>\n",
       "      <td>0.061069</td>\n",
       "      <td>0.027534</td>\n",
       "      <td>0.018113</td>\n",
       "      <td>0.026473</td>\n",
       "      <td>0.038839</td>\n",
       "      <td>0.047355</td>\n",
       "      <td>0.027251</td>\n",
       "      <td>0.014266</td>\n",
       "      <td>0.017972</td>\n",
       "      <td>0.052178</td>\n",
       "    </tr>\n",
       "    <tr>\n",
       "      <th>utt5</th>\n",
       "      <td>0.021832</td>\n",
       "      <td>0.054759</td>\n",
       "      <td>0.016714</td>\n",
       "      <td>0.022291</td>\n",
       "      <td>0.057607</td>\n",
       "      <td>0.116154</td>\n",
       "      <td>0.078686</td>\n",
       "      <td>0.000058</td>\n",
       "      <td>0.028728</td>\n",
       "      <td>0.043503</td>\n",
       "      <td>...</td>\n",
       "      <td>0.055377</td>\n",
       "      <td>0.017151</td>\n",
       "      <td>0.030925</td>\n",
       "      <td>0.022040</td>\n",
       "      <td>0.046488</td>\n",
       "      <td>0.039413</td>\n",
       "      <td>0.024504</td>\n",
       "      <td>0.018720</td>\n",
       "      <td>0.016129</td>\n",
       "      <td>0.077600</td>\n",
       "    </tr>\n",
       "  </tbody>\n",
       "</table>\n",
       "<p>5 rows × 400 columns</p>\n",
       "</div>"
      ],
      "text/plain": [
       "             0         1         2         3         4         5         6  \\\n",
       "utt                                                                          \n",
       "utt1  0.016057  0.063447  0.024169  0.020488  0.067268  0.111295  0.075458   \n",
       "utt2  0.004132  0.042350  0.026292  0.021213  0.055774  0.099405  0.056854   \n",
       "utt3  0.003735  0.060417  0.041474  0.007404  0.067067  0.119366  0.052364   \n",
       "utt4  0.023073  0.047888  0.017589  0.011351  0.062918  0.116655  0.081408   \n",
       "utt5  0.021832  0.054759  0.016714  0.022291  0.057607  0.116154  0.078686   \n",
       "\n",
       "             7         8         9    ...          390       391       392  \\\n",
       "utt                                   ...                                    \n",
       "utt1  0.002725  0.047470  0.044406    ...     0.082196  0.031757  0.026153   \n",
       "utt2  0.000000  0.059910  0.034133    ...     0.089012  0.023073  0.018801   \n",
       "utt3  0.000000  0.056909  0.056164    ...     0.094812  0.061538  0.017183   \n",
       "utt4  0.000000  0.031385  0.042443    ...     0.061069  0.027534  0.018113   \n",
       "utt5  0.000058  0.028728  0.043503    ...     0.055377  0.017151  0.030925   \n",
       "\n",
       "           393       394       395       396       397       398       399  \n",
       "utt                                                                         \n",
       "utt1  0.028168  0.026362  0.048117  0.040820  0.025251  0.012643  0.081232  \n",
       "utt2  0.033256  0.028867  0.053247  0.054419  0.009181  0.002636  0.048796  \n",
       "utt3  0.027635  0.032651  0.042445  0.030427  0.012174  0.007087  0.087498  \n",
       "utt4  0.026473  0.038839  0.047355  0.027251  0.014266  0.017972  0.052178  \n",
       "utt5  0.022040  0.046488  0.039413  0.024504  0.018720  0.016129  0.077600  \n",
       "\n",
       "[5 rows x 400 columns]"
      ]
     },
     "execution_count": 11,
     "metadata": {},
     "output_type": "execute_result"
    }
   ],
   "source": [
    "spkr"
   ]
  },
  {
   "cell_type": "code",
   "execution_count": 14,
   "metadata": {},
   "outputs": [
    {
     "data": {
      "text/plain": [
       "array([[0.01605674, 0.06344705, 0.02416925, ..., 0.02525054, 0.0126431 ,\n",
       "        0.08123245],\n",
       "       [0.00413164, 0.04235032, 0.02629241, ..., 0.0091815 , 0.00263551,\n",
       "        0.04879643],\n",
       "       [0.00373536, 0.06041709, 0.04147403, ..., 0.01217359, 0.00708702,\n",
       "        0.08749822],\n",
       "       [0.02307299, 0.04788809, 0.01758919, ..., 0.01426579, 0.01797234,\n",
       "        0.05217803],\n",
       "       [0.02183153, 0.05475891, 0.01671441, ..., 0.01872049, 0.01612858,\n",
       "        0.07759994]])"
      ]
     },
     "execution_count": 14,
     "metadata": {},
     "output_type": "execute_result"
    }
   ],
   "source": [
    "spkr.values"
   ]
  },
  {
   "cell_type": "code",
   "execution_count": 20,
   "metadata": {},
   "outputs": [],
   "source": [
    "spkr, test = load_sample(enroll_spk_raw, test_spk_raw)"
   ]
  },
  {
   "cell_type": "code",
   "execution_count": 62,
   "metadata": {},
   "outputs": [],
   "source": [
    "spkr,test = load_sample(enroll_spk_raw, test_spk_raw, tid='fc_4780420411_0')"
   ]
  },
  {
   "cell_type": "code",
   "execution_count": 42,
   "metadata": {},
   "outputs": [
    {
     "data": {
      "text/plain": [
       "(5, 400)"
      ]
     },
     "execution_count": 42,
     "metadata": {},
     "output_type": "execute_result"
    }
   ],
   "source": [
    "spkr.values.shape"
   ]
  },
  {
   "cell_type": "code",
   "execution_count": 63,
   "metadata": {},
   "outputs": [],
   "source": [
    "x = []\n",
    "for i in range(VEC_DIM):\n",
    "    x.append(ks_2samp(spkr.values[:,i], test.values[:,i])[1])"
   ]
  },
  {
   "cell_type": "code",
   "execution_count": 64,
   "metadata": {},
   "outputs": [
    {
     "data": {
      "text/plain": [
       "0.9947617791845264"
      ]
     },
     "execution_count": 64,
     "metadata": {},
     "output_type": "execute_result"
    }
   ],
   "source": [
    "max(x)"
   ]
  },
  {
   "cell_type": "code",
   "execution_count": 60,
   "metadata": {
    "collapsed": true
   },
   "outputs": [
    {
     "data": {
      "text/html": [
       "<div>\n",
       "<style scoped>\n",
       "    .dataframe tbody tr th:only-of-type {\n",
       "        vertical-align: middle;\n",
       "    }\n",
       "\n",
       "    .dataframe tbody tr th {\n",
       "        vertical-align: top;\n",
       "    }\n",
       "\n",
       "    .dataframe thead th {\n",
       "        text-align: right;\n",
       "    }\n",
       "</style>\n",
       "<table border=\"1\" class=\"dataframe\">\n",
       "  <thead>\n",
       "    <tr style=\"text-align: right;\">\n",
       "      <th></th>\n",
       "      <th>enroll</th>\n",
       "      <th>test_id</th>\n",
       "      <th>result</th>\n",
       "    </tr>\n",
       "  </thead>\n",
       "  <tbody>\n",
       "    <tr>\n",
       "      <th>5988</th>\n",
       "      <td>4780420411</td>\n",
       "      <td>fc_4780420411_0</td>\n",
       "      <td>1</td>\n",
       "    </tr>\n",
       "    <tr>\n",
       "      <th>5989</th>\n",
       "      <td>4780420411</td>\n",
       "      <td>fc_4780420411_1</td>\n",
       "      <td>1</td>\n",
       "    </tr>\n",
       "    <tr>\n",
       "      <th>5990</th>\n",
       "      <td>4780420411</td>\n",
       "      <td>fc_4780420411_2</td>\n",
       "      <td>1</td>\n",
       "    </tr>\n",
       "    <tr>\n",
       "      <th>5991</th>\n",
       "      <td>4780420411</td>\n",
       "      <td>fc_4780420411_3</td>\n",
       "      <td>1</td>\n",
       "    </tr>\n",
       "    <tr>\n",
       "      <th>5992</th>\n",
       "      <td>4780420411</td>\n",
       "      <td>fc_4780420411_4</td>\n",
       "      <td>1</td>\n",
       "    </tr>\n",
       "    <tr>\n",
       "      <th>5993</th>\n",
       "      <td>4780420411</td>\n",
       "      <td>fc_4780420411_5</td>\n",
       "      <td>1</td>\n",
       "    </tr>\n",
       "    <tr>\n",
       "      <th>5994</th>\n",
       "      <td>4780420411</td>\n",
       "      <td>fc_4780420411_6</td>\n",
       "      <td>1</td>\n",
       "    </tr>\n",
       "    <tr>\n",
       "      <th>5995</th>\n",
       "      <td>4780420411</td>\n",
       "      <td>fc_4780420411_7</td>\n",
       "      <td>1</td>\n",
       "    </tr>\n",
       "    <tr>\n",
       "      <th>4502097</th>\n",
       "      <td>4780420411</td>\n",
       "      <td>nc_4780420411_0</td>\n",
       "      <td>1</td>\n",
       "    </tr>\n",
       "    <tr>\n",
       "      <th>4502098</th>\n",
       "      <td>4780420411</td>\n",
       "      <td>nc_4780420411_1</td>\n",
       "      <td>1</td>\n",
       "    </tr>\n",
       "    <tr>\n",
       "      <th>4502099</th>\n",
       "      <td>4780420411</td>\n",
       "      <td>nc_4780420411_2</td>\n",
       "      <td>1</td>\n",
       "    </tr>\n",
       "    <tr>\n",
       "      <th>4502100</th>\n",
       "      <td>4780420411</td>\n",
       "      <td>nc_4780420411_3</td>\n",
       "      <td>1</td>\n",
       "    </tr>\n",
       "    <tr>\n",
       "      <th>4502101</th>\n",
       "      <td>4780420411</td>\n",
       "      <td>nc_4780420411_4</td>\n",
       "      <td>1</td>\n",
       "    </tr>\n",
       "    <tr>\n",
       "      <th>4502102</th>\n",
       "      <td>4780420411</td>\n",
       "      <td>nc_4780420411_5</td>\n",
       "      <td>1</td>\n",
       "    </tr>\n",
       "    <tr>\n",
       "      <th>8668980</th>\n",
       "      <td>4780420411</td>\n",
       "      <td>nn_4780420411_0</td>\n",
       "      <td>1</td>\n",
       "    </tr>\n",
       "    <tr>\n",
       "      <th>8668981</th>\n",
       "      <td>4780420411</td>\n",
       "      <td>nn_4780420411_1</td>\n",
       "      <td>1</td>\n",
       "    </tr>\n",
       "    <tr>\n",
       "      <th>8668982</th>\n",
       "      <td>4780420411</td>\n",
       "      <td>nn_4780420411_2</td>\n",
       "      <td>1</td>\n",
       "    </tr>\n",
       "    <tr>\n",
       "      <th>8668983</th>\n",
       "      <td>4780420411</td>\n",
       "      <td>nn_4780420411_3</td>\n",
       "      <td>1</td>\n",
       "    </tr>\n",
       "    <tr>\n",
       "      <th>8668984</th>\n",
       "      <td>4780420411</td>\n",
       "      <td>nn_4780420411_4</td>\n",
       "      <td>1</td>\n",
       "    </tr>\n",
       "    <tr>\n",
       "      <th>8668985</th>\n",
       "      <td>4780420411</td>\n",
       "      <td>nn_4780420411_5</td>\n",
       "      <td>1</td>\n",
       "    </tr>\n",
       "    <tr>\n",
       "      <th>8668986</th>\n",
       "      <td>4780420411</td>\n",
       "      <td>nn_4780420411_6</td>\n",
       "      <td>1</td>\n",
       "    </tr>\n",
       "    <tr>\n",
       "      <th>8668987</th>\n",
       "      <td>4780420411</td>\n",
       "      <td>nn_4780420411_7</td>\n",
       "      <td>1</td>\n",
       "    </tr>\n",
       "    <tr>\n",
       "      <th>8668988</th>\n",
       "      <td>4780420411</td>\n",
       "      <td>nn_4780420411_8</td>\n",
       "      <td>1</td>\n",
       "    </tr>\n",
       "  </tbody>\n",
       "</table>\n",
       "</div>"
      ],
      "text/plain": [
       "             enroll          test_id  result\n",
       "5988     4780420411  fc_4780420411_0       1\n",
       "5989     4780420411  fc_4780420411_1       1\n",
       "5990     4780420411  fc_4780420411_2       1\n",
       "5991     4780420411  fc_4780420411_3       1\n",
       "5992     4780420411  fc_4780420411_4       1\n",
       "5993     4780420411  fc_4780420411_5       1\n",
       "5994     4780420411  fc_4780420411_6       1\n",
       "5995     4780420411  fc_4780420411_7       1\n",
       "4502097  4780420411  nc_4780420411_0       1\n",
       "4502098  4780420411  nc_4780420411_1       1\n",
       "4502099  4780420411  nc_4780420411_2       1\n",
       "4502100  4780420411  nc_4780420411_3       1\n",
       "4502101  4780420411  nc_4780420411_4       1\n",
       "4502102  4780420411  nc_4780420411_5       1\n",
       "8668980  4780420411  nn_4780420411_0       1\n",
       "8668981  4780420411  nn_4780420411_1       1\n",
       "8668982  4780420411  nn_4780420411_2       1\n",
       "8668983  4780420411  nn_4780420411_3       1\n",
       "8668984  4780420411  nn_4780420411_4       1\n",
       "8668985  4780420411  nn_4780420411_5       1\n",
       "8668986  4780420411  nn_4780420411_6       1\n",
       "8668987  4780420411  nn_4780420411_7       1\n",
       "8668988  4780420411  nn_4780420411_8       1"
      ]
     },
     "execution_count": 60,
     "metadata": {},
     "output_type": "execute_result"
    }
   ],
   "source": [
    "pairs[(pairs['enroll']==4780420411) & (pairs['result']==1)]"
   ]
  },
  {
   "cell_type": "code",
   "execution_count": 57,
   "metadata": {},
   "outputs": [
    {
     "data": {
      "text/html": [
       "<div>\n",
       "<style scoped>\n",
       "    .dataframe tbody tr th:only-of-type {\n",
       "        vertical-align: middle;\n",
       "    }\n",
       "\n",
       "    .dataframe tbody tr th {\n",
       "        vertical-align: top;\n",
       "    }\n",
       "\n",
       "    .dataframe thead th {\n",
       "        text-align: right;\n",
       "    }\n",
       "</style>\n",
       "<table border=\"1\" class=\"dataframe\">\n",
       "  <thead>\n",
       "    <tr style=\"text-align: right;\">\n",
       "      <th></th>\n",
       "      <th>enroll</th>\n",
       "      <th>test_id</th>\n",
       "      <th>result</th>\n",
       "    </tr>\n",
       "  </thead>\n",
       "  <tbody>\n",
       "    <tr>\n",
       "      <th>0</th>\n",
       "      <td>4780420411</td>\n",
       "      <td>fc_4779547143_0</td>\n",
       "      <td>0</td>\n",
       "    </tr>\n",
       "    <tr>\n",
       "      <th>1</th>\n",
       "      <td>4780420411</td>\n",
       "      <td>fc_4779547143_1</td>\n",
       "      <td>0</td>\n",
       "    </tr>\n",
       "    <tr>\n",
       "      <th>2</th>\n",
       "      <td>4780420411</td>\n",
       "      <td>fc_4779547143_2</td>\n",
       "      <td>0</td>\n",
       "    </tr>\n",
       "    <tr>\n",
       "      <th>3</th>\n",
       "      <td>4780420411</td>\n",
       "      <td>fc_4779547143_3</td>\n",
       "      <td>0</td>\n",
       "    </tr>\n",
       "    <tr>\n",
       "      <th>4</th>\n",
       "      <td>4780420411</td>\n",
       "      <td>fc_4779547143_4</td>\n",
       "      <td>0</td>\n",
       "    </tr>\n",
       "  </tbody>\n",
       "</table>\n",
       "</div>"
      ],
      "text/plain": [
       "       enroll          test_id  result\n",
       "0  4780420411  fc_4779547143_0       0\n",
       "1  4780420411  fc_4779547143_1       0\n",
       "2  4780420411  fc_4779547143_2       0\n",
       "3  4780420411  fc_4779547143_3       0\n",
       "4  4780420411  fc_4779547143_4       0"
      ]
     },
     "execution_count": 57,
     "metadata": {},
     "output_type": "execute_result"
    }
   ],
   "source": [
    "pairs.head()"
   ]
  },
  {
   "cell_type": "code",
   "execution_count": 55,
   "metadata": {},
   "outputs": [
    {
     "data": {
      "text/plain": [
       "<BarContainer object of 10 artists>"
      ]
     },
     "execution_count": 55,
     "metadata": {},
     "output_type": "execute_result"
    },
    {
     "data": {
      "image/png": "[encoded data removed]",
      "text/plain": [
       "<Figure size 432x288 with 1 Axes>"
      ]
     },
     "metadata": {},
     "output_type": "display_data"
    }
   ],
   "source": [
    "h, b = np.histogram(x)\n",
    "plt.bar(h,b[:-1])"
   ]
  },
  {
   "cell_type": "code",
   "execution_count": 39,
   "metadata": {},
   "outputs": [
    {
     "ename": "ValueError",
     "evalue": "all the input arrays must have same number of dimensions",
     "output_type": "error",
     "traceback": [
      "\u001b[0;31m---------------------------------------------------------------------------\u001b[0m",
      "\u001b[0;31mValueError\u001b[0m                                Traceback (most recent call last)",
      "\u001b[0;32m<ipython-input-39-8acb1d3163e6>\u001b[0m in \u001b[0;36m<module>\u001b[0;34m()\u001b[0m\n\u001b[0;32m----> 1\u001b[0;31m \u001b[0mnp\u001b[0m\u001b[0;34m.\u001b[0m\u001b[0mapply_along_axis\u001b[0m\u001b[0;34m(\u001b[0m\u001b[0mks_2samp\u001b[0m\u001b[0;34m,\u001b[0m \u001b[0;36m0\u001b[0m\u001b[0;34m,\u001b[0m \u001b[0marr\u001b[0m\u001b[0;34m=\u001b[0m\u001b[0mspkr\u001b[0m\u001b[0;34m.\u001b[0m\u001b[0mvalues\u001b[0m\u001b[0;34m,\u001b[0m \u001b[0mdata2\u001b[0m\u001b[0;34m=\u001b[0m\u001b[0mtest\u001b[0m\u001b[0;34m.\u001b[0m\u001b[0mvalues\u001b[0m\u001b[0;34m)\u001b[0m\u001b[0;34m\u001b[0m\u001b[0m\n\u001b[0m",
      "\u001b[0;32m~/anaconda3/lib/python3.6/site-packages/numpy/lib/shape_base.py\u001b[0m in \u001b[0;36mapply_along_axis\u001b[0;34m(func1d, axis, arr, *args, **kwargs)\u001b[0m\n\u001b[1;32m    130\u001b[0m     \u001b[0;32mexcept\u001b[0m \u001b[0mStopIteration\u001b[0m\u001b[0;34m:\u001b[0m\u001b[0;34m\u001b[0m\u001b[0m\n\u001b[1;32m    131\u001b[0m         \u001b[0;32mraise\u001b[0m \u001b[0mValueError\u001b[0m\u001b[0;34m(\u001b[0m\u001b[0;34m'Cannot apply_along_axis when any iteration dimensions are 0'\u001b[0m\u001b[0;34m)\u001b[0m\u001b[0;34m\u001b[0m\u001b[0m\n\u001b[0;32m--> 132\u001b[0;31m     \u001b[0mres\u001b[0m \u001b[0;34m=\u001b[0m \u001b[0masanyarray\u001b[0m\u001b[0;34m(\u001b[0m\u001b[0mfunc1d\u001b[0m\u001b[0;34m(\u001b[0m\u001b[0minarr_view\u001b[0m\u001b[0;34m[\u001b[0m\u001b[0mind0\u001b[0m\u001b[0;34m]\u001b[0m\u001b[0;34m,\u001b[0m \u001b[0;34m*\u001b[0m\u001b[0margs\u001b[0m\u001b[0;34m,\u001b[0m \u001b[0;34m**\u001b[0m\u001b[0mkwargs\u001b[0m\u001b[0;34m)\u001b[0m\u001b[0;34m)\u001b[0m\u001b[0;34m\u001b[0m\u001b[0m\n\u001b[0m\u001b[1;32m    133\u001b[0m \u001b[0;34m\u001b[0m\u001b[0m\n\u001b[1;32m    134\u001b[0m     \u001b[0;31m# build a buffer for storing evaluations of func1d.\u001b[0m\u001b[0;34m\u001b[0m\u001b[0;34m\u001b[0m\u001b[0m\n",
      "\u001b[0;32m~/anaconda3/lib/python3.6/site-packages/scipy/stats/stats.py\u001b[0m in \u001b[0;36mks_2samp\u001b[0;34m(data1, data2)\u001b[0m\n\u001b[1;32m   4771\u001b[0m     \u001b[0mn1\u001b[0m \u001b[0;34m=\u001b[0m \u001b[0mdata1\u001b[0m\u001b[0;34m.\u001b[0m\u001b[0mshape\u001b[0m\u001b[0;34m[\u001b[0m\u001b[0;36m0\u001b[0m\u001b[0;34m]\u001b[0m\u001b[0;34m\u001b[0m\u001b[0m\n\u001b[1;32m   4772\u001b[0m     \u001b[0mn2\u001b[0m \u001b[0;34m=\u001b[0m \u001b[0mdata2\u001b[0m\u001b[0;34m.\u001b[0m\u001b[0mshape\u001b[0m\u001b[0;34m[\u001b[0m\u001b[0;36m0\u001b[0m\u001b[0;34m]\u001b[0m\u001b[0;34m\u001b[0m\u001b[0m\n\u001b[0;32m-> 4773\u001b[0;31m     \u001b[0mdata_all\u001b[0m \u001b[0;34m=\u001b[0m \u001b[0mnp\u001b[0m\u001b[0;34m.\u001b[0m\u001b[0mconcatenate\u001b[0m\u001b[0;34m(\u001b[0m\u001b[0;34m[\u001b[0m\u001b[0mdata1\u001b[0m\u001b[0;34m,\u001b[0m \u001b[0mdata2\u001b[0m\u001b[0;34m]\u001b[0m\u001b[0;34m)\u001b[0m\u001b[0;34m\u001b[0m\u001b[0m\n\u001b[0m\u001b[1;32m   4774\u001b[0m     \u001b[0mcdf1\u001b[0m \u001b[0;34m=\u001b[0m \u001b[0mnp\u001b[0m\u001b[0;34m.\u001b[0m\u001b[0msearchsorted\u001b[0m\u001b[0;34m(\u001b[0m\u001b[0mdata1\u001b[0m\u001b[0;34m,\u001b[0m \u001b[0mdata_all\u001b[0m\u001b[0;34m,\u001b[0m \u001b[0mside\u001b[0m\u001b[0;34m=\u001b[0m\u001b[0;34m'right'\u001b[0m\u001b[0;34m)\u001b[0m \u001b[0;34m/\u001b[0m \u001b[0;34m(\u001b[0m\u001b[0;36m1.0\u001b[0m\u001b[0;34m*\u001b[0m\u001b[0mn1\u001b[0m\u001b[0;34m)\u001b[0m\u001b[0;34m\u001b[0m\u001b[0m\n\u001b[1;32m   4775\u001b[0m     \u001b[0mcdf2\u001b[0m \u001b[0;34m=\u001b[0m \u001b[0mnp\u001b[0m\u001b[0;34m.\u001b[0m\u001b[0msearchsorted\u001b[0m\u001b[0;34m(\u001b[0m\u001b[0mdata2\u001b[0m\u001b[0;34m,\u001b[0m \u001b[0mdata_all\u001b[0m\u001b[0;34m,\u001b[0m \u001b[0mside\u001b[0m\u001b[0;34m=\u001b[0m\u001b[0;34m'right'\u001b[0m\u001b[0;34m)\u001b[0m \u001b[0;34m/\u001b[0m \u001b[0;34m(\u001b[0m\u001b[0;36m1.0\u001b[0m\u001b[0;34m*\u001b[0m\u001b[0mn2\u001b[0m\u001b[0;34m)\u001b[0m\u001b[0;34m\u001b[0m\u001b[0m\n",
      "\u001b[0;31mValueError\u001b[0m: all the input arrays must have same number of dimensions"
     ]
    }
   ],
   "source": [
    "np.apply_along_axis(ks_2samp, 0, arr=spkr.values, data2=test.values)"
   ]
  },
  {
   "cell_type": "code",
   "execution_count": 36,
   "metadata": {},
   "outputs": [
    {
     "data": {
      "text/plain": [
       "Ks_2sampResult(statistic=0.4, pvalue=0.8253945153851224)"
      ]
     },
     "execution_count": 36,
     "metadata": {},
     "output_type": "execute_result"
    }
   ],
   "source": [
    "ks_2samp(spkr.values[:,4], test.values[:,4])"
   ]
  }
 ],
 "metadata": {
  "kernelspec": {
   "display_name": "Python 3",
   "language": "python",
   "name": "python3"
  },
  "language_info": {
   "codemirror_mode": {
    "name": "ipython",
    "version": 3
   },
   "file_extension": ".py",
   "mimetype": "text/x-python",
   "name": "python",
   "nbconvert_exporter": "python",
   "pygments_lexer": "ipython3",
   "version": "3.6.5"
  }
 },
 "nbformat": 4,
 "nbformat_minor": 2
}
