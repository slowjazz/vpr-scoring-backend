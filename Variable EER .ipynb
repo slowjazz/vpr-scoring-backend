{
 "cells": [
  {
   "cell_type": "code",
   "execution_count": 1,
   "metadata": {},
   "outputs": [
    {
     "name": "stdout",
     "output_type": "stream",
     "text": [
      "enroll.ark  enroll.spk2utt  test.ark  test.spk2utt  trials\r\n"
     ]
    }
   ],
   "source": [
    "%matplotlib inline\n",
    "\n",
    "import pandas as pd\n",
    "import numpy as np\n",
    "import matplotlib.pyplot as plt\n",
    "import dask.dataframe as dd\n",
    "import dask\n",
    "from dask import delayed\n",
    "from dask.diagnostics import ProgressBar\n",
    "from dask.multiprocessing import get\n",
    "from sklearn.preprocessing import normalize\n",
    "\n",
    "from scipy.spatial.distance import cosine, mahalanobis\n",
    "from sklearn.metrics import roc_curve, precision_score\n",
    "from scipy.sparse import csr_matrix\n",
    "from scipy.stats import entropy\n",
    "from scipy.optimize import minimize \n",
    "\n",
    "VEC_DIM = 400\n",
    "\n",
    "FILE_DIR = \"/work4/tzy/spk_verify_backend/exp_dvectors/\" #folder where all files are located\n",
    "!ls /work4/tzy/spk_verify_backend/exp_dvectors"
   ]
  },
  {
   "cell_type": "code",
   "execution_count": 2,
   "metadata": {},
   "outputs": [],
   "source": [
    "def run_test(score_func, sample_size = 0.10, ESPK = 0, TSPK = 0, n_features = 1, dask_array = False, pairs=None):\n",
    "\n",
    "    def score_vectors(x):\n",
    "        \"\"\"\n",
    "        enroll_id: ID of enrolled speaker \n",
    "        test_id: ID of a test speaker\n",
    "        enroll_spk: Dataframe of enroll speakers and processed utterance vectors \n",
    "        test_spk: As enroll_spk\n",
    "        score_func: scoring function that takes 2 speakers' data and produces a score\n",
    "        \"\"\"\n",
    "        enroll_data = ESPK.loc[x['enroll']] # Pandas series\n",
    "        test_data = TSPK.loc[x['test_id']]\n",
    "        res = score_func(enroll_data, test_data)\n",
    "        return res\n",
    "\n",
    "    dask_pairs = dd.from_pandas(pairs, npartitions=16).sample(frac= sample_size, random_state=1)\n",
    "    #dask_pairs = dd.from_pandas(pairs, npartitions=16)\n",
    "    meta = ('x','f8')\n",
    "\n",
    "    scores = 0\n",
    "    \n",
    "    pbar = ProgressBar()\n",
    "    pbar.register()\n",
    "    scores = dask_pairs.map_partitions(lambda df: df.apply(score_vectors ,axis=1), meta=meta)\n",
    "    \n",
    "    #New impl returns data in stacked format and takes 1/3 time\n",
    "    if n_features>1: # This conditional halves the time if n_features==1\n",
    "        scores = dask.array.from_delayed(delayed(np.vstack)(scores.values), shape=(len(dask_pairs), n_features), dtype='float64')\n",
    "        scores = scores.rechunk((1000,500))\n",
    "    res =  dask.array.from_array(np.array(dask_pairs['result']), (1000,))\n",
    "    #res.rechunk((1000,500))\n",
    "    if dask_array:\n",
    "        pbar.unregister()\n",
    "        return scores, res\n",
    "    \n",
    "    #scores = scores if delayed_res else scores.compute() #Turns out it is faster to do dd.compute(*(scores.compute())) if the inner func produces delayed objs\n",
    "    scores = scores.compute(get=get)\n",
    "    res = res.compute()\n",
    "    pbar.unregister()\n",
    "    \n",
    "    return scores, res\n",
    "\n",
    "def calcEER(series, true, name = \"\"):\n",
    "    fpr, tpr, thresholds = roc_curve(true, series)\n",
    "    plt.plot(fpr, tpr)\n",
    "    plt.xlabel('FPR')\n",
    "    plt.ylabel('TPR')\n",
    "    fnr = 1 - tpr\n",
    "    minPt = np.nanargmin(np.absolute((fnr - fpr)))\n",
    "    print(\"Threshold: \", thresholds[minPt])\n",
    "    print(\"EER/FPR: \", fpr[minPt])\n",
    "    print(\"FNR: \", fnr[minPt])\n",
    "    \n",
    "    if name:\n",
    "        plt.savefig(name)\n",
    "    \n",
    "    return\n",
    "\n",
    "def read_trials(filename):\n",
    "    pairs = pd.read_table(FILE_DIR+filename, names = [\"enroll\",\"test_id\",\"result\"], sep = \" \") \n",
    "    print(\"num of trials: \",len(pairs))\n",
    "\n",
    "    # Encode \"nontarget\" as 0, \"target as 1\"\n",
    "    pairs['result'].replace({\"nontarget\":0, \"target\":1}, inplace = True)\n",
    "    print(pairs.head())\n",
    "    return pairs\n",
    "\n",
    "def read_spk2utt_utts(filename):  \n",
    "    \"\"\"Processes the utterance vectors for each speaker\n",
    "        filename: name of spk2utt file\n",
    "        ark_df: corresponding ark file\"\"\"\n",
    "    df = pd.read_table(FILE_DIR+filename, names = ['id', 'utt1', 'utt2','utt3','utt4','utt5'], sep = \" \") \n",
    "    df.dropna(axis=1, inplace=True)\n",
    "    df.index = df['id']\n",
    "    df = df.drop('id', 1)\n",
    "    return df \n",
    "\n",
    "def cos_similarity(vect1, vect2):\n",
    "    return 1 - cosine(vect1, vect2)\n",
    "\n",
    "def getVar(dist1, dist2):\n",
    "    var = np.var(dist1.values, axis=0)\n",
    "    return np.mean(var)\n",
    "\n",
    "# takes spkr from raw, test from spk, and returns a single value\n",
    "def zscore_col(spkr, test):\n",
    "    std = np.std(spkr, axis=0)\n",
    "    scores = np.absolute(np.divide((test-spkr.mean(axis=0)), np.where(std!=0, std, 0.0000001)) )\n",
    "    res = np.median(scores)\n",
    "    return res\n",
    "\n",
    "# def zscore_col_delayed(spkr, test):\n",
    "#     std = delayed(np.std)(spkr, axis=0)\n",
    "#     scores = delayed(np.absolute)(delayed(np.divide)(test - spkr.mean(axis=0), delayed(np.where)(std!=0, std, 0.0000001)))\n",
    "#     res = delayed(np.median)(scores)\n",
    "#     return res\n",
    "\n",
    "# Calculate FPR and FNR with variable thresholds for scores\n",
    "# Takes predictions and results \n",
    "def calcFR(pred, true):\n",
    "    fpr = pred[(pred==1) & (true==0)].sum()/(true==0).sum()\n",
    "    fnr = true[(pred==0) & (true==1)].sum()/(true==1).sum()\n",
    "    print(\"FPR: \", fpr)\n",
    "    print(\"FNR: \", fnr)\n",
    "    \n",
    "def sendScores(scores, res, name):\n",
    "    pd.DataFrame(data=np.vstack((scores, res))).to_hdf(\"scores.h5\", name)\n",
    "    \n",
    "def showH5(filename):\n",
    "    with pd.HDFStore(filename) as store:\n",
    "        print(store.keys())"
   ]
  },
  {
   "cell_type": "code",
   "execution_count": 4,
   "metadata": {},
   "outputs": [],
   "source": [
    "# Load spk data from h5\n",
    "enroll_spk = pd.read_hdf('spk.h5', 'enroll')\n",
    "test_spk = pd.read_hdf('spk.h5', 'test')\n",
    "enroll_spk_raw = pd.read_hdf('spk_raw.h5', 'enroll_raw')\n",
    "test_spk_raw = pd.read_hdf('spk_raw.h5', 'test_raw')"
   ]
  },
  {
   "cell_type": "code",
   "execution_count": 4,
   "metadata": {},
   "outputs": [],
   "source": [
    "pairs_samp = pd.read_hdf('samp.h5', 'pairs_samp_100k')"
   ]
  },
  {
   "cell_type": "code",
   "execution_count": 3,
   "metadata": {
    "scrolled": false
   },
   "outputs": [
    {
     "name": "stdout",
     "output_type": "stream",
     "text": [
      "num of trials:  11725308\n",
      "       enroll          test_id  result\n",
      "0  4780420411  fc_4779547143_0       0\n",
      "1  4780420411  fc_4779547143_1       0\n",
      "2  4780420411  fc_4779547143_2       0\n",
      "3  4780420411  fc_4779547143_3       0\n",
      "4  4780420411  fc_4779547143_4       0\n"
     ]
    }
   ],
   "source": [
    "pairs = read_trials('trials')"
   ]
  },
  {
   "cell_type": "code",
   "execution_count": 6,
   "metadata": {},
   "outputs": [
    {
     "data": {
      "text/plain": [
       "17892"
      ]
     },
     "execution_count": 6,
     "metadata": {},
     "output_type": "execute_result"
    }
   ],
   "source": [
    "len(pairs[pairs['result']==1])"
   ]
  },
  {
   "cell_type": "code",
   "execution_count": 5,
   "metadata": {},
   "outputs": [
    {
     "name": "stdout",
     "output_type": "stream",
     "text": [
      "[########################################] | 100% Completed |  0.3s\n",
      "[########################################] | 100% Completed | 32.4s\n",
      "[########################################] | 100% Completed |  0.1s\n"
     ]
    }
   ],
   "source": [
    "cos_1 , res  =run_test(cos_similarity, 0.01, enroll_spk, test_spk, pairs = pairs)"
   ]
  },
  {
   "cell_type": "code",
   "execution_count": 6,
   "metadata": {},
   "outputs": [
    {
     "name": "stdout",
     "output_type": "stream",
     "text": [
      "Threshold:  0.9159605095883305\n",
      "EER/FPR:  0.07061577364680154\n",
      "FNR:  0.07291666666666663\n"
     ]
    },
    {
     "data": {
      "image/png": "[encoded data removed]",
      "text/plain": [
       "<Figure size 432x288 with 1 Axes>"
      ]
     },
     "metadata": {},
     "output_type": "display_data"
    }
   ],
   "source": [
    "calcEER(cos_1, res)"
   ]
  },
  {
   "cell_type": "markdown",
   "metadata": {},
   "source": [
    "# Linear comb of kl, zscore, and some other dist to optimize EER?"
   ]
  },
  {
   "cell_type": "markdown",
   "metadata": {},
   "source": [
    "# Optimization"
   ]
  },
  {
   "cell_type": "code",
   "execution_count": 18,
   "metadata": {},
   "outputs": [],
   "source": [
    "def EER(weights, *args):\n",
    "    series = np.sum(np.multiply(weights.reshape(-1,1), np.vstack(args)),axis=0)\n",
    "    fpr, tpr, thresholds = roc_curve(res, series)\n",
    "    fnr = 1 - tpr\n",
    "    return fpr[np.nanargmin(np.absolute((fnr - fpr)))]"
   ]
  },
  {
   "cell_type": "code",
   "execution_count": 19,
   "metadata": {},
   "outputs": [],
   "source": [
    "# 'Newton-CG' , 'dogleg' , 'trust-ncg'- excluded, need jacobian\n",
    "#methods = ['Nelder-Mead','Powell','CG','BFGS','L-BFGS-B','TNC','COBYLA','SLSQP' ]\n",
    "methods = ['Nelder-Mead','Powell', 'COBYLA']"
   ]
  },
  {
   "cell_type": "code",
   "execution_count": 48,
   "metadata": {},
   "outputs": [
    {
     "name": "stdout",
     "output_type": "stream",
     "text": [
      "['/cos_10', '/cos_samp_100k', '/kl_frame_100k', '/manhattan_spk_samp_100k', '/var_samp_100k', '/zscore_samp_100k']\n"
     ]
    }
   ],
   "source": [
    "showH5('scores.h5')"
   ]
  },
  {
   "cell_type": "markdown",
   "metadata": {},
   "source": [
    "# Cos, Z, KL Frame-level Trials (smaller dataset 100k)\n",
    "Frame-level trials is on such a small dataset because it took a very long time to compute "
   ]
  },
  {
   "cell_type": "code",
   "execution_count": 36,
   "metadata": {},
   "outputs": [],
   "source": [
    "cos_data = pd.read_hdf('scores.h5', 'cos_samp_100k')\n",
    "zscore_data = pd.read_hdf('scores.h5', 'zscore_samp_100k')\n",
    "kl_data = pd.read_hdf('scores.h5', 'kl_frame_100k')\n",
    "\n",
    "cos_scores = cos_data.loc[0].values[:100000]\n",
    "zscore_scores = zscore_data.loc[0].values[:100000]\n",
    "kl_scores = kl_data.loc[0].values\n",
    "res = cos_data.loc[1].values[:100000]"
   ]
  },
  {
   "cell_type": "code",
   "execution_count": 21,
   "metadata": {
    "scrolled": true
   },
   "outputs": [
    {
     "name": "stdout",
     "output_type": "stream",
     "text": [
      "Powell 0.07779057539185738 [ 3.69370293  0.06017137 -0.22348872]\n",
      "COBYLA 0.08466122489859282 [ 0.99609709 -0.00310737  0.06251464]\n",
      "Baseline:  0.09104111372627573\n"
     ]
    }
   ],
   "source": [
    "for m in methods:\n",
    "    r = minimize(EER, np.array([1,0,0]), args = (cos_scores, zscore_scores, kl_scores), method=m)\n",
    "    print(m, r.fun, r.x)\n",
    "\n",
    "print(\"Baseline: \", EER(np.array([1,0,0]), cos_scores, zscore_scores, kl_scores))"
   ]
  },
  {
   "cell_type": "code",
   "execution_count": 37,
   "metadata": {},
   "outputs": [
    {
     "name": "stdout",
     "output_type": "stream",
     "text": [
      "Powell 0.08247784065301217 [107.94532018  -0.49418232  -0.11202656]\n",
      "COBYLA 0.07945315238619861 [2.07762437 0.0172337  0.52094385]\n",
      "Baseline:  0.09104111372627573\n"
     ]
    }
   ],
   "source": [
    "for m in methods:\n",
    "    r = minimize(EER, np.array([1,-0.5,-0.5]), args = (cos_scores, zscore_scores, kl_scores), method=m)\n",
    "    print(m, r.fun, r.x)\n",
    "\n",
    "print(\"Baseline: \", EER(np.array([1,0,0]), cos_scores, zscore_scores, kl_scores))"
   ]
  },
  {
   "cell_type": "code",
   "execution_count": 38,
   "metadata": {},
   "outputs": [],
   "source": [
    "kl_data = pd.read_hdf('scores.h5', 'kl_samp_100k')\n",
    "kl_scores = kl_data.loc[0].values[:100000]"
   ]
  },
  {
   "cell_type": "code",
   "execution_count": 39,
   "metadata": {},
   "outputs": [
    {
     "name": "stdout",
     "output_type": "stream",
     "text": [
      "Powell 0.07299313936601733 [ 6.60328256e+00  1.04412584e-01 -2.82944021e+02]\n",
      "COBYLA 0.08279833742300566 [ 2.36249913 -0.0109397  -0.49229138]\n",
      "Baseline:  0.09104111372627573\n"
     ]
    }
   ],
   "source": [
    "for m in methods:\n",
    "    r = minimize(EER, np.array([1,-0.5,-0.5]), args = (cos_scores, zscore_scores, kl_scores), method=m)\n",
    "    print(m, r.fun, r.x)\n",
    "\n",
    "print(\"Baseline: \", EER(np.array([1,0,0]), cos_scores, zscore_scores, kl_scores))"
   ]
  },
  {
   "cell_type": "code",
   "execution_count": 35,
   "metadata": {},
   "outputs": [
    {
     "name": "stdout",
     "output_type": "stream",
     "text": [
      "Powell 0.07299313936601733 [ 3.49325108e+00  5.54224479e-02 -1.49316884e+02]\n",
      "COBYLA 0.0841404176473534 [1.00373648 0.01648323 0.9998885 ]\n",
      "Baseline:  0.09104111372627573\n"
     ]
    }
   ],
   "source": [
    "for m in methods:\n",
    "    r = minimize(EER, np.array([1,0,0]), args = (cos_scores, zscore_scores, kl_scores), method=m)\n",
    "    print(m, r.fun, r.x)\n",
    "\n",
    "print(\"Baseline: \", EER(np.array([1,0,0]), cos_scores, zscore_scores, kl_scores))"
   ]
  },
  {
   "cell_type": "markdown",
   "metadata": {},
   "source": [
    "# Cos, Z, KL Trials 0.10 data"
   ]
  },
  {
   "cell_type": "code",
   "execution_count": 22,
   "metadata": {},
   "outputs": [],
   "source": [
    "cos_data = pd.read_hdf('scores.h5', 'cos_10')\n",
    "zscore_data = pd.read_hdf('scores.h5', 'zscore_10')\n",
    "kl_data = pd.read_hdf('scores.h5', 'kl_spkr_10')\n",
    "\n",
    "cos_scores = cos_data.loc[0].values\n",
    "zscore_scores = zscore_data.loc[0].values\n",
    "kl_scores = kl_data.loc[0].values\n",
    "res = cos_data.loc[1].values"
   ]
  },
  {
   "cell_type": "code",
   "execution_count": 23,
   "metadata": {},
   "outputs": [
    {
     "name": "stdout",
     "output_type": "stream",
     "text": [
      "Powell 0.08000256251468107 [  46.38144191   -0.27570691 -189.10096246]\n",
      "COBYLA 0.08085673407503897 [ 2.54225563 -0.0143544  -0.35539816]\n",
      "Baseline:  0.08507121655384484\n"
     ]
    }
   ],
   "source": [
    "for m in methods:\n",
    "    r = minimize(EER, np.array([1,-0.5,-0.5]), args = (cos_scores, zscore_scores, kl_scores), method=m)\n",
    "    print(m, r.fun, r.x)\n",
    "    \n",
    "print(\"Baseline: \", EER(np.array([1,0, 0]), cos_scores, zscore_scores, kl_scores))"
   ]
  },
  {
   "cell_type": "markdown",
   "metadata": {},
   "source": [
    "# Cos, Z, KL, Manhattan trials\n",
    "- Powell yields a 0.7% improvement from baseline. However, scalars are not consistent. "
   ]
  },
  {
   "cell_type": "code",
   "execution_count": 24,
   "metadata": {},
   "outputs": [],
   "source": [
    "cos_data = pd.read_hdf('scores.h5', 'cos_10')\n",
    "zscore_data = pd.read_hdf('scores.h5', 'zscore_10')\n",
    "kl_data = pd.read_hdf('scores.h5', 'kl_spkr_10')\n",
    "m_data = pd.read_hdf('scores.h5', 'manhattan_spkr_10')\n",
    "\n",
    "cos_scores = cos_data.loc[0].values\n",
    "zscore_scores = zscore_data.loc[0].values\n",
    "kl_scores = kl_data.loc[0].values\n",
    "m_scores = m_data.loc[0].values\n",
    "res = cos_data.loc[1].values"
   ]
  },
  {
   "cell_type": "code",
   "execution_count": 25,
   "metadata": {},
   "outputs": [
    {
     "name": "stdout",
     "output_type": "stream",
     "text": [
      "Powell 0.07849409553908902 [113.98318403  -0.64186773  -3.87944643   0.36483302]\n",
      "COBYLA 0.09663669948109077 [ 1.97326368 -0.58999121 -0.75009292 -1.45129054]\n",
      "Baseline:  0.08507121655384484\n"
     ]
    }
   ],
   "source": [
    "for m in methods:\n",
    "    r = minimize(EER, np.array([1,-0.5,-0.5, -0.5]), args = (cos_scores, zscore_scores, kl_scores, m_scores), method=m)\n",
    "    print(m, r.fun, r.x)\n",
    "    \n",
    "print(\"Baseline: \", EER(np.array([1,0, 0, 0]), cos_scores, zscore_scores, kl_scores, m_scores))"
   ]
  },
  {
   "cell_type": "code",
   "execution_count": 14,
   "metadata": {},
   "outputs": [
    {
     "name": "stdout",
     "output_type": "stream",
     "text": [
      "Nelder-Mead 0.8981332080548378 [1.16644511 0.85630551 1.03975525 0.97870725]\n",
      "Powell 0.07867347156676419 [167.23120306  -0.82396087 -81.41157443   0.51940213]\n",
      "Baseline:  0.08507121655384484\n"
     ]
    }
   ],
   "source": [
    "for m in methods:\n",
    "    r = minimize(EER, np.array([1,1,1, 1]), args = (cos_scores, zscore_scores, kl_scores, m_scores), method=m)\n",
    "    print(m, r.fun, r.x)"
   ]
  },
  {
   "cell_type": "code",
   "execution_count": 15,
   "metadata": {},
   "outputs": [
    {
     "name": "stdout",
     "output_type": "stream",
     "text": [
      "Nelder-Mead 0.09855858549189604 [ 1.01988402 -1.04132503 -0.99334659 -0.99601366]\n",
      "Powell 0.07876486792372248 [300.86359111  -1.46691945  15.76338169   0.91926267]\n",
      "Baseline:  0.08507121655384484\n"
     ]
    }
   ],
   "source": [
    "for m in methods:\n",
    "    r = minimize(EER, np.array([1,-1,-1, -1]), args = (cos_scores, zscore_scores, kl_scores, m_scores), method=m)\n",
    "    print(m, r.fun, r.x)"
   ]
  },
  {
   "cell_type": "markdown",
   "metadata": {},
   "source": [
    "# Cos, Z, KL, Manhattan, Cosine is a constant"
   ]
  },
  {
   "cell_type": "code",
   "execution_count": 3,
   "metadata": {},
   "outputs": [],
   "source": [
    "cos_data = pd.read_hdf('scores.h5', 'cos_10')\n",
    "zscore_data = pd.read_hdf('scores.h5', 'zscore_10')\n",
    "kl_data = pd.read_hdf('scores.h5', 'kl_spkr_10')\n",
    "m_data = pd.read_hdf('scores.h5', 'manhattan_spkr_10')\n",
    "\n",
    "cos_scores = cos_data.loc[0].values\n",
    "zscore_scores = zscore_data.loc[0].values\n",
    "kl_scores = kl_data.loc[0].values\n",
    "m_scores = m_data.loc[0].values\n",
    "res = cos_data.loc[1].values"
   ]
  },
  {
   "cell_type": "code",
   "execution_count": 13,
   "metadata": {},
   "outputs": [],
   "source": [
    "def EER(weights, *args):\n",
    "    series = 100*cos_scores + np.sum(np.multiply(weights.reshape(-1,1), np.vstack(args)),axis=0)\n",
    "    fpr, tpr, thresholds = roc_curve(res, series)\n",
    "    fnr = 1 - tpr\n",
    "    return fpr[np.nanargmin(np.absolute((fnr - fpr)))]"
   ]
  },
  {
   "cell_type": "code",
   "execution_count": 11,
   "metadata": {},
   "outputs": [],
   "source": [
    "methods = ['Powell','COBYLA']"
   ]
  },
  {
   "cell_type": "code",
   "execution_count": 25,
   "metadata": {},
   "outputs": [
    {
     "name": "stdout",
     "output_type": "stream",
     "text": [
      "Nelder-Mead 0.08291785005018258 [-0.94469867 -0.97503329 -1.21859892]\n",
      "Powell 0.08242072220205428 [ 1.62303041e-02 -2.71786916e+02 -1.24091739e+00]\n",
      "CG 0.08434517072754062 [-1. -1. -1.]\n",
      "BFGS 0.08434517072754062 [-1. -1. -1.]\n",
      "L-BFGS-B 0.08434517072754062 [-1. -1. -1.]\n",
      "TNC 0.08434517072754062 [-1. -1. -1.]\n",
      "COBYLA 0.08307074675948664 [ 0.00756852 -1.00005078 -1.02451957]\n",
      "SLSQP 0.08434517072754062 [-1. -1. -1.]\n",
      "Baseline:  0.08507121655384484\n"
     ]
    }
   ],
   "source": [
    "for m in methods:\n",
    "    r = minimize(EER, np.array([-1,-1,-1]), args = (zscore_scores, kl_scores, m_scores), method=m)\n",
    "    print(m, r.fun, r.x)\n",
    "    \n",
    "print(\"Baseline: \", EER(np.array([0, 0, 0]), zscore_scores, kl_scores, m_scores))"
   ]
  },
  {
   "cell_type": "code",
   "execution_count": 26,
   "metadata": {},
   "outputs": [
    {
     "name": "stdout",
     "output_type": "stream",
     "text": [
      "Nelder-Mead 0.08276922419868031 [-0.51154805 -0.52052286 -0.46807044]\n",
      "Powell 0.07932178778107583 [-0.68732026  3.02417828  0.21355502]\n",
      "CG 0.0833594567468876 [-0.5 -0.5 -0.5]\n",
      "BFGS 0.0833594567468876 [-0.5 -0.5 -0.5]\n",
      "L-BFGS-B 0.0833594567468876 [-0.5 -0.5 -0.5]\n",
      "TNC 0.0833594567468876 [-0.5 -0.5 -0.5]\n",
      "COBYLA 0.07849751222533045 [-0.55645649  0.49673733  0.31624758]\n",
      "SLSQP 0.0833594567468876 [-0.5 -0.5 -0.5]\n"
     ]
    }
   ],
   "source": [
    "for m in methods:\n",
    "    r = minimize(EER, np.array([-0.5,-0.5,-0.5]), args = (zscore_scores, kl_scores, m_scores), method=m)\n",
    "    print(m, r.fun, r.x)"
   ]
  },
  {
   "cell_type": "code",
   "execution_count": 29,
   "metadata": {},
   "outputs": [
    {
     "name": "stdout",
     "output_type": "stream",
     "text": [
      "Threshold:  7.466514835762768\n",
      "EER/FPR:  0.8926861560144355\n",
      "FNR:  0.8929561841375485\n"
     ]
    },
    {
     "data": {
      "image/png": "[encoded data removed]",
      "text/plain": [
       "<Figure size 432x288 with 1 Axes>"
      ]
     },
     "metadata": {},
     "output_type": "display_data"
    }
   ],
   "source": [
    "calcEER(m_scores, res)"
   ]
  },
  {
   "cell_type": "markdown",
   "metadata": {},
   "source": [
    "# Cos, Variance"
   ]
  },
  {
   "cell_type": "code",
   "execution_count": 9,
   "metadata": {},
   "outputs": [
    {
     "name": "stdout",
     "output_type": "stream",
     "text": [
      "['/cos_10', '/cos_samp_100k', '/kl_frame_100k', '/kl_spkr_10', '/manhattan_spk_samp_100k', '/manhattan_spkr_10', '/var_10', '/var_samp_100k', '/zscore_10', '/zscore_samp_100k']\n"
     ]
    }
   ],
   "source": [
    "showH5('scores.h5')"
   ]
  },
  {
   "cell_type": "code",
   "execution_count": 10,
   "metadata": {},
   "outputs": [],
   "source": [
    "cos_data = pd.read_hdf('scores.h5', 'cos_10')\n",
    "zscore_data = pd.read_hdf('scores.h5', 'zscore_10')\n",
    "kl_data = pd.read_hdf('scores.h5', 'kl_spkr_10')\n",
    "m_data = pd.read_hdf('scores.h5', 'manhattan_spkr_10')\n",
    "var_data = pd.read_hdf('scores.h5', 'var_10')\n",
    "\n",
    "cos_scores = cos_data.loc[0].values\n",
    "zscore_scores = zscore_data.loc[0].values\n",
    "kl_scores = kl_data.loc[0].values\n",
    "m_scores = m_data.loc[0].values\n",
    "var = var_data.loc[0].values\n",
    "res = cos_data.loc[1].values"
   ]
  },
  {
   "cell_type": "code",
   "execution_count": 18,
   "metadata": {},
   "outputs": [
    {
     "name": "stdout",
     "output_type": "stream",
     "text": [
      "Powell 0.08328685216425719 129.2983237163476\n",
      "COBYLA 0.08328685216425719 [129.296875]\n",
      "Baseline:  0.08507121655384484\n"
     ]
    }
   ],
   "source": [
    "for m in methods:\n",
    "    r = minimize(EER, np.array([100]), args = (var), method=m)\n",
    "    print(m, r.fun, r.x)\n",
    "    \n",
    "print(\"Baseline: \", EER(np.array([0]), var))"
   ]
  },
  {
   "cell_type": "markdown",
   "metadata": {},
   "source": [
    "## Results indicate Variance can improve EER slightly with these scalars."
   ]
  },
  {
   "cell_type": "markdown",
   "metadata": {},
   "source": [
    "# Testing optimization results on larger datasets "
   ]
  },
  {
   "cell_type": "code",
   "execution_count": 19,
   "metadata": {},
   "outputs": [
    {
     "name": "stdout",
     "output_type": "stream",
     "text": [
      "[########################################] | 100% Completed |  0.5s\n",
      "[########################################] | 100% Completed |  5min  9.5s\n",
      "[########################################] | 100% Completed |  1.6s\n"
     ]
    }
   ],
   "source": [
    "cos_50 , res_50= run_test(cos_similarity, 0.5, enroll_spk, test_spk, pairs=pairs)\n",
    "sendScores(cos_50, res_50, 'cos_50')"
   ]
  },
  {
   "cell_type": "code",
   "execution_count": 20,
   "metadata": {},
   "outputs": [
    {
     "name": "stdout",
     "output_type": "stream",
     "text": [
      "[########################################] | 100% Completed |  0.5s\n",
      "[########################################] | 100% Completed | 11min 11.3s\n",
      "[########################################] | 100% Completed |  1.4s\n"
     ]
    }
   ],
   "source": [
    "var_50 , res_50= run_test(getVar, 0.5, enroll_spk_raw, test_spk, pairs=pairs)\n",
    "sendScores(var_50, res_50, 'var_50')"
   ]
  },
  {
   "cell_type": "code",
   "execution_count": 24,
   "metadata": {},
   "outputs": [
    {
     "name": "stdout",
     "output_type": "stream",
     "text": [
      "Threshold:  0.9147632933420125\n",
      "EER/FPR:  0.07963749733077087\n",
      "FNR:  0.07962713387241693\n"
     ]
    },
    {
     "data": {
      "image/png": "[encoded data removed]",
      "text/plain": [
       "<Figure size 432x288 with 1 Axes>"
      ]
     },
     "metadata": {},
     "output_type": "display_data"
    }
   ],
   "source": [
    "calcEER(cos_50, res_50)"
   ]
  },
  {
   "cell_type": "code",
   "execution_count": 22,
   "metadata": {},
   "outputs": [
    {
     "name": "stdout",
     "output_type": "stream",
     "text": [
      "Threshold:  91.5573446308528\n",
      "EER/FPR:  0.07961341020713218\n",
      "FNR:  0.07962713387241693\n"
     ]
    },
    {
     "data": {
      "image/png": "[encoded data removed]",
      "text/plain": [
       "<Figure size 432x288 with 1 Axes>"
      ]
     },
     "metadata": {},
     "output_type": "display_data"
    }
   ],
   "source": [
    "calcEER(cos_50*100+var_50*129, res_50)"
   ]
  },
  {
   "cell_type": "code",
   "execution_count": 36,
   "metadata": {},
   "outputs": [],
   "source": [
    "cos_scores = cos_50\n",
    "res = res_50"
   ]
  },
  {
   "cell_type": "code",
   "execution_count": 5,
   "metadata": {},
   "outputs": [],
   "source": [
    "def EER(weights, *args):\n",
    "    series = 100*cos_scores + np.sum(np.multiply(weights.reshape(-1,1), np.vstack(args)),axis=0)\n",
    "    fpr, tpr, thresholds = roc_curve(res, series)\n",
    "    fnr = 1 - tpr\n",
    "    return fpr[np.nanargmin(np.absolute((fnr - fpr)))]"
   ]
  },
  {
   "cell_type": "code",
   "execution_count": 44,
   "metadata": {},
   "outputs": [
    {
     "name": "stdout",
     "output_type": "stream",
     "text": [
      "Powell 0.0795250907537903 16.865929594608627\n",
      "COBYLA 0.18439564381806534 [9991.8125]\n",
      "Baseline:  0.07963749733077087\n"
     ]
    }
   ],
   "source": [
    "for m in methods:\n",
    "    r = minimize(EER, np.array([10000]), args = (var_50), method=m)\n",
    "    print(m, r.fun, r.x)\n",
    "    \n",
    "print(\"Baseline: \", EER(np.array([0]), var_50))"
   ]
  },
  {
   "cell_type": "markdown",
   "metadata": {},
   "source": [
    "## Results - VAR has a minimal impact on EER on a larger sample set"
   ]
  },
  {
   "cell_type": "markdown",
   "metadata": {},
   "source": [
    "# All variables on a larger sample set\n",
    "We use all variables to observe how they change on a different sample size and set"
   ]
  },
  {
   "cell_type": "code",
   "execution_count": 40,
   "metadata": {},
   "outputs": [
    {
     "name": "stdout",
     "output_type": "stream",
     "text": [
      "['/cos_10', '/cos_50', '/cos_samp_100k', '/kl_frame_100k', '/kl_samp_100k', '/kl_spkr_10', '/kl_spkr_50', '/manhattan_50', '/manhattan_spk_samp_100k', '/manhattan_spkr_10', '/var_10', '/var_50', '/var_samp_100k', '/zscore_10', '/zscore_50', '/zscore_samp_100k']\n"
     ]
    }
   ],
   "source": [
    "showH5('scores.h5')"
   ]
  },
  {
   "cell_type": "code",
   "execution_count": 41,
   "metadata": {},
   "outputs": [],
   "source": [
    "cos_data = pd.read_hdf('scores.h5', 'cos_50')\n",
    "var_data = pd.read_hdf('scores.h5', 'var_50')\n",
    "kl_data = pd.read_hdf('scores.h5', 'kl_spkr_50')\n",
    "z_data = pd.read_hdf('scores.h5', 'zscore_50')\n",
    "m_data = pd.read_hdf('scores.h5', 'manhattan_50')\n",
    "\n",
    "cos_scores = cos_data.loc[0].values\n",
    "kl_scores = kl_data.loc[0].values\n",
    "z_scores = z_data.loc[0].values\n",
    "m_scores = m_data.loc[0].values\n",
    "var = var_data.loc[0].values\n",
    "res = cos_data.loc[1].values"
   ]
  },
  {
   "cell_type": "code",
   "execution_count": 42,
   "metadata": {},
   "outputs": [
    {
     "name": "stdout",
     "output_type": "stream",
     "text": [
      "Threshold:  7.458965499190901\n",
      "EER/FPR:  0.8947102284860132\n",
      "FNR:  0.8946540880503144\n"
     ]
    },
    {
     "data": {
      "image/png": "[encoded data removed]",
      "text/plain": [
       "<Figure size 432x288 with 1 Axes>"
      ]
     },
     "metadata": {},
     "output_type": "display_data"
    }
   ],
   "source": [
    "calcEER(m_scores, res)"
   ]
  },
  {
   "cell_type": "code",
   "execution_count": 13,
   "metadata": {},
   "outputs": [
    {
     "name": "stdout",
     "output_type": "stream",
     "text": [
      "Threshold:  0.9997187033734809\n",
      "EER/FPR:  0.10586034593209481\n",
      "FNR:  0.10590745732255169\n"
     ]
    },
    {
     "data": {
      "image/png": "[encoded data removed]",
      "text/plain": [
       "<Figure size 432x288 with 1 Axes>"
      ]
     },
     "metadata": {},
     "output_type": "display_data"
    }
   ],
   "source": [
    "calcEER(1-kl_scores, res)"
   ]
  },
  {
   "cell_type": "code",
   "execution_count": 15,
   "metadata": {},
   "outputs": [],
   "source": [
    "m_data = pd.read_hdf('scores.h5', 'manhattan_50')\n",
    "\n",
    "m_scores = m_data.loc[0].values"
   ]
  },
  {
   "cell_type": "code",
   "execution_count": 17,
   "metadata": {},
   "outputs": [
    {
     "name": "stdout",
     "output_type": "stream",
     "text": [
      "Threshold:  -6.458965389225629\n",
      "EER/FPR:  0.10528977151398676\n",
      "FNR:  0.10534591194968557\n"
     ]
    },
    {
     "data": {
      "image/png": "[encoded data removed]",
      "text/plain": [
       "<Figure size 432x288 with 1 Axes>"
      ]
     },
     "metadata": {},
     "output_type": "display_data"
    }
   ],
   "source": [
    "calcEER(1-m_scores, res)"
   ]
  },
  {
   "cell_type": "code",
   "execution_count": 44,
   "metadata": {},
   "outputs": [],
   "source": [
    "def EER(weights, *args):\n",
    "    series = np.sum(np.multiply(weights.reshape(-1,1), np.vstack(args)),axis=0)\n",
    "    fpr, tpr, thresholds = roc_curve(res, series)\n",
    "    fnr = 1 - tpr\n",
    "    return fpr[np.nanargmin(np.absolute((fnr - fpr)))]"
   ]
  },
  {
   "cell_type": "code",
   "execution_count": 45,
   "metadata": {},
   "outputs": [
    {
     "name": "stdout",
     "output_type": "stream",
     "text": [
      "Powell 0.07943181721118941 [ 5.68287866e+01  7.72409233e+01  3.69285485e-02 -2.31777927e-02]\n",
      "COBYLA 0.09164894298526585 [ 2.25022564  0.43747277 -0.5240326  -0.73678336]\n",
      "Baseline:  0.07963749733077087\n"
     ]
    }
   ],
   "source": [
    "for m in methods:\n",
    "    r = minimize(EER, np.array([1, -0.5, -0.5, -0.5]), args = (cos_scores, kl_scores, z_scores, m_scores), method=m)\n",
    "    print(m, r.fun, r.x)\n",
    "    \n",
    "print(\"Baseline: \", EER(np.array([1, 0,0,0]),cos_scores, kl_scores, z_scores, m_scores))"
   ]
  },
  {
   "cell_type": "markdown",
   "metadata": {},
   "source": [
    "# No Cos"
   ]
  },
  {
   "cell_type": "code",
   "execution_count": 4,
   "metadata": {},
   "outputs": [],
   "source": [
    "def EER(weights, *args):\n",
    "    series = np.sum(np.multiply(weights.reshape(-1,1), np.vstack(args)),axis=0)\n",
    "    fpr, tpr, thresholds = roc_curve(res, series)\n",
    "    fnr = 1 - tpr\n",
    "    return fpr[np.nanargmin(np.absolute((fnr - fpr)))]"
   ]
  },
  {
   "cell_type": "code",
   "execution_count": 7,
   "metadata": {},
   "outputs": [
    {
     "name": "stdout",
     "output_type": "stream",
     "text": [
      "Powell 0.10155592568866112 [-172.75814613    4.98880963]\n",
      "COBYLA 0.10154533418748665 [-9.6914616   0.29579291]\n"
     ]
    }
   ],
   "source": [
    "for m in methods:\n",
    "    r = minimize(EER, np.array([-0.5, 5]), args = (kl_scores, var), method=m)\n",
    "    print(m, r.fun, r.x)"
   ]
  },
  {
   "cell_type": "markdown",
   "metadata": {},
   "source": [
    "# Conclusions\n",
    "- In terms of individual indicators, cosine similarity still performs the best with a **8.5%** EER in this data sample. Other individual test results are as follows:\n",
    "\n",
    "\n",
    "- **zscore:** 13%\n",
    "- **kl:** 11%\n",
    "- **manhattan distance:** 11%\n",
    "\n",
    "- The best combination of factors seems to be:\n",
    "1. (cos, zscore, kl, manhattan)\n",
    "2. (zscore, kl, manhattan) if cosine is set to a constant scalar of **100**. \n",
    "\n",
    "These yield an EER of **7.8%** on the 0.1 sample."
   ]
  },
  {
   "cell_type": "markdown",
   "metadata": {},
   "source": [
    "# Analysis "
   ]
  },
  {
   "cell_type": "code",
   "execution_count": 8,
   "metadata": {},
   "outputs": [],
   "source": [
    "cos_data = pd.read_hdf('scores.h5', 'cos_10')\n",
    "zscore_data = pd.read_hdf('scores.h5', 'zscore_10')\n",
    "kl_data = pd.read_hdf('scores.h5', 'kl_spkr_10')\n",
    "m_data = pd.read_hdf('scores.h5', 'manhattan_spkr_10')\n",
    "var_data = pd.read_hdf('scores.h5', 'var_10')\n",
    "\n",
    "cos_scores = cos_data.loc[0].values\n",
    "zscore_scores = zscore_data.loc[0].values\n",
    "kl_scores = kl_data.loc[0].values\n",
    "m_scores = m_data.loc[0].values\n",
    "var = var_data.loc[0].values\n",
    "res = cos_data.loc[1].values"
   ]
  },
  {
   "cell_type": "code",
   "execution_count": 16,
   "metadata": {},
   "outputs": [
    {
     "data": {
      "text/plain": [
       "<matplotlib.collections.PathCollection at 0x7f9029b2eba8>"
      ]
     },
     "execution_count": 16,
     "metadata": {},
     "output_type": "execute_result"
    },
    {
     "data": {
      "image/png": "[encoded data removed]",
      "text/plain": [
       "<Figure size 432x288 with 1 Axes>"
      ]
     },
     "metadata": {},
     "output_type": "display_data"
    }
   ],
   "source": [
    "plt.scatter(cos_scores, m_scores, s=3)\n",
    "plt.scatter(cos_scores[res==1], m_scores[res==1], s=1)"
   ]
  },
  {
   "cell_type": "code",
   "execution_count": 7,
   "metadata": {},
   "outputs": [],
   "source": [
    "cos_data = pd.read_hdf('scores.h5', 'cos_samp_100k')\n",
    "zscore_data = pd.read_hdf('scores.h5', 'zscore_samp_100k')\n",
    "kl_data = pd.read_hdf('scores.h5', 'kl_frame_100k')\n",
    "\n",
    "cos_scores = cos_data.loc[0].values[:100000]\n",
    "zscore_scores = zscore_data.loc[0].values[:100000]\n",
    "kl_scores = kl_data.loc[0].values\n",
    "res = cos_data.loc[1].values[:100000]"
   ]
  },
  {
   "cell_type": "code",
   "execution_count": 13,
   "metadata": {},
   "outputs": [
    {
     "data": {
      "text/plain": [
       "<matplotlib.collections.PathCollection at 0x7fe97503f1d0>"
      ]
     },
     "execution_count": 13,
     "metadata": {},
     "output_type": "execute_result"
    },
    {
     "data": {
      "image/png": "[encoded data removed]",
      "text/plain": [
       "<Figure size 432x288 with 1 Axes>"
      ]
     },
     "metadata": {},
     "output_type": "display_data"
    }
   ],
   "source": [
    "plt.scatter(cos_scores, zscore_scores, s=2)\n",
    "plt.scatter(cos_scores[res==1], zscore_scores[res==1], s=2, c='red')"
   ]
  },
  {
   "cell_type": "code",
   "execution_count": 62,
   "metadata": {},
   "outputs": [
    {
     "data": {
      "text/plain": [
       "<matplotlib.collections.PathCollection at 0x7ff5c3a74e10>"
      ]
     },
     "execution_count": 62,
     "metadata": {},
     "output_type": "execute_result"
    },
    {
     "data": {
      "image/png": "[encoded data removed]",
      "text/plain": [
       "<Figure size 432x288 with 1 Axes>"
      ]
     },
     "metadata": {},
     "output_type": "display_data"
    }
   ],
   "source": [
    "plt.scatter(cos_scores, cos_scores-np.sqrt(zscore_scores), s=2)\n",
    "plt.scatter(cos_scores[res==1], (cos_scores-np.sqrt(zscore_scores))[res==1], s=2, c='red')"
   ]
  },
  {
   "cell_type": "code",
   "execution_count": 50,
   "metadata": {},
   "outputs": [],
   "source": [
    "kl_data = pd.read_hdf('scores.h5', 'kl_frame_100k')"
   ]
  },
  {
   "cell_type": "code",
   "execution_count": 55,
   "metadata": {
    "scrolled": true
   },
   "outputs": [
    {
     "data": {
      "text/plain": [
       "<matplotlib.collections.PathCollection at 0x7ff5c3c68048>"
      ]
     },
     "execution_count": 55,
     "metadata": {},
     "output_type": "execute_result"
    },
    {
     "data": {
      "image/png": "[encoded data removed]",
      "text/plain": [
       "<Figure size 432x288 with 1 Axes>"
      ]
     },
     "metadata": {},
     "output_type": "display_data"
    }
   ],
   "source": [
    "plt.scatter(cos_scores[:100000], kl_data.loc[0].values, s=2)\n",
    "plt.scatter(cos_scores[:100000][kl_data.loc[1].values==1], kl_data.loc[0].values[kl_data.loc[1].values==1], s=2, c='red')"
   ]
  }
 ],
 "metadata": {
  "kernelspec": {
   "display_name": "Python 3",
   "language": "python",
   "name": "python3"
  },
  "language_info": {
   "codemirror_mode": {
    "name": "ipython",
    "version": 3
   },
   "file_extension": ".py",
   "mimetype": "text/x-python",
   "name": "python",
   "nbconvert_exporter": "python",
   "pygments_lexer": "ipython3",
   "version": "3.6.5"
  }
 },
 "nbformat": 4,
 "nbformat_minor": 2
}
