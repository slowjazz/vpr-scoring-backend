{
 "cells": [
  {
   "cell_type": "code",
   "execution_count": 1,
   "metadata": {},
   "outputs": [
    {
     "name": "stdout",
     "output_type": "stream",
     "text": [
      "enroll.ark  enroll.spk2utt  test.ark  test.spk2utt  trials\r\n"
     ]
    }
   ],
   "source": [
    "%matplotlib inline\n",
    "\n",
    "import pandas as pd\n",
    "import numpy as np\n",
    "import matplotlib.pyplot as plt\n",
    "import dask.dataframe as dd\n",
    "import dask\n",
    "from dask import delayed\n",
    "from dask.diagnostics import ProgressBar\n",
    "from dask.multiprocessing import get\n",
    "from sklearn.preprocessing import normalize\n",
    "from dask_ml.wrappers import Incremental\n",
    "\n",
    "from scipy.spatial.distance import cosine, mahalanobis\n",
    "from sklearn.metrics import roc_curve\n",
    "import time, re, os, sys\n",
    "\n",
    "from scipy.sparse import csr_matrix\n",
    "from scipy.stats import zscore\n",
    "from sklearn.ensemble import RandomForestClassifier\n",
    "from sklearn.preprocessing import MinMaxScaler\n",
    "\n",
    "VEC_DIM = 400\n",
    "\n",
    "FILE_DIR = \"/work4/tzy/spk_verify_backend/exp_dvectors/\" #folder where all files are located\n",
    "!ls /work4/tzy/spk_verify_backend/exp_dvectors"
   ]
  },
  {
   "cell_type": "code",
   "execution_count": 2,
   "metadata": {},
   "outputs": [
    {
     "data": {
      "text/html": [
       "<div>\n",
       "<style scoped>\n",
       "    .dataframe tbody tr th:only-of-type {\n",
       "        vertical-align: middle;\n",
       "    }\n",
       "\n",
       "    .dataframe tbody tr th {\n",
       "        vertical-align: top;\n",
       "    }\n",
       "\n",
       "    .dataframe thead th {\n",
       "        text-align: right;\n",
       "    }\n",
       "</style>\n",
       "<table border=\"1\" class=\"dataframe\">\n",
       "  <thead>\n",
       "    <tr style=\"text-align: right;\">\n",
       "      <th></th>\n",
       "      <th>0</th>\n",
       "      <th>1</th>\n",
       "      <th>2</th>\n",
       "      <th>3</th>\n",
       "      <th>4</th>\n",
       "      <th>5</th>\n",
       "      <th>6</th>\n",
       "      <th>7</th>\n",
       "      <th>8</th>\n",
       "      <th>9</th>\n",
       "      <th>...</th>\n",
       "      <th>390</th>\n",
       "      <th>391</th>\n",
       "      <th>392</th>\n",
       "      <th>393</th>\n",
       "      <th>394</th>\n",
       "      <th>395</th>\n",
       "      <th>396</th>\n",
       "      <th>397</th>\n",
       "      <th>398</th>\n",
       "      <th>399</th>\n",
       "    </tr>\n",
       "    <tr>\n",
       "      <th>id</th>\n",
       "      <th></th>\n",
       "      <th></th>\n",
       "      <th></th>\n",
       "      <th></th>\n",
       "      <th></th>\n",
       "      <th></th>\n",
       "      <th></th>\n",
       "      <th></th>\n",
       "      <th></th>\n",
       "      <th></th>\n",
       "      <th></th>\n",
       "      <th></th>\n",
       "      <th></th>\n",
       "      <th></th>\n",
       "      <th></th>\n",
       "      <th></th>\n",
       "      <th></th>\n",
       "      <th></th>\n",
       "      <th></th>\n",
       "      <th></th>\n",
       "      <th></th>\n",
       "    </tr>\n",
       "  </thead>\n",
       "  <tbody>\n",
       "    <tr>\n",
       "      <th>4780420411</th>\n",
       "      <td>0.014026</td>\n",
       "      <td>0.054789</td>\n",
       "      <td>0.025725</td>\n",
       "      <td>0.016863</td>\n",
       "      <td>0.063301</td>\n",
       "      <td>0.114704</td>\n",
       "      <td>0.070258</td>\n",
       "      <td>0.000567</td>\n",
       "      <td>0.045729</td>\n",
       "      <td>0.044964</td>\n",
       "      <td>...</td>\n",
       "      <td>0.077940</td>\n",
       "      <td>0.032820</td>\n",
       "      <td>0.022656</td>\n",
       "      <td>0.028034</td>\n",
       "      <td>0.035296</td>\n",
       "      <td>0.046987</td>\n",
       "      <td>0.036155</td>\n",
       "      <td>0.016219</td>\n",
       "      <td>0.011507</td>\n",
       "      <td>0.070774</td>\n",
       "    </tr>\n",
       "    <tr>\n",
       "      <th>4779876202</th>\n",
       "      <td>0.030303</td>\n",
       "      <td>0.022931</td>\n",
       "      <td>0.033079</td>\n",
       "      <td>0.058957</td>\n",
       "      <td>0.079296</td>\n",
       "      <td>0.049778</td>\n",
       "      <td>0.068490</td>\n",
       "      <td>0.003525</td>\n",
       "      <td>0.072742</td>\n",
       "      <td>0.030553</td>\n",
       "      <td>...</td>\n",
       "      <td>0.061358</td>\n",
       "      <td>0.044687</td>\n",
       "      <td>0.020264</td>\n",
       "      <td>0.007364</td>\n",
       "      <td>0.051940</td>\n",
       "      <td>0.062175</td>\n",
       "      <td>0.052892</td>\n",
       "      <td>0.026529</td>\n",
       "      <td>0.014570</td>\n",
       "      <td>0.025142</td>\n",
       "    </tr>\n",
       "    <tr>\n",
       "      <th>4778192381</th>\n",
       "      <td>0.055344</td>\n",
       "      <td>0.035090</td>\n",
       "      <td>0.026809</td>\n",
       "      <td>0.068782</td>\n",
       "      <td>0.045188</td>\n",
       "      <td>0.081985</td>\n",
       "      <td>0.033221</td>\n",
       "      <td>0.012631</td>\n",
       "      <td>0.026813</td>\n",
       "      <td>0.046449</td>\n",
       "      <td>...</td>\n",
       "      <td>0.075565</td>\n",
       "      <td>0.056208</td>\n",
       "      <td>0.029324</td>\n",
       "      <td>0.006928</td>\n",
       "      <td>0.055884</td>\n",
       "      <td>0.062326</td>\n",
       "      <td>0.022718</td>\n",
       "      <td>0.040709</td>\n",
       "      <td>0.015717</td>\n",
       "      <td>0.102008</td>\n",
       "    </tr>\n",
       "    <tr>\n",
       "      <th>4780265567</th>\n",
       "      <td>0.012624</td>\n",
       "      <td>0.058721</td>\n",
       "      <td>0.033892</td>\n",
       "      <td>0.054483</td>\n",
       "      <td>0.041132</td>\n",
       "      <td>0.115025</td>\n",
       "      <td>0.074992</td>\n",
       "      <td>0.000893</td>\n",
       "      <td>0.087311</td>\n",
       "      <td>0.076028</td>\n",
       "      <td>...</td>\n",
       "      <td>0.068856</td>\n",
       "      <td>0.051828</td>\n",
       "      <td>0.054921</td>\n",
       "      <td>0.011270</td>\n",
       "      <td>0.066159</td>\n",
       "      <td>0.043747</td>\n",
       "      <td>0.031619</td>\n",
       "      <td>0.033663</td>\n",
       "      <td>0.032096</td>\n",
       "      <td>0.073277</td>\n",
       "    </tr>\n",
       "    <tr>\n",
       "      <th>4777987958</th>\n",
       "      <td>0.054659</td>\n",
       "      <td>0.054360</td>\n",
       "      <td>0.014665</td>\n",
       "      <td>0.050420</td>\n",
       "      <td>0.064626</td>\n",
       "      <td>0.115716</td>\n",
       "      <td>0.107942</td>\n",
       "      <td>0.008013</td>\n",
       "      <td>0.069778</td>\n",
       "      <td>0.092527</td>\n",
       "      <td>...</td>\n",
       "      <td>0.102160</td>\n",
       "      <td>0.041830</td>\n",
       "      <td>0.015103</td>\n",
       "      <td>0.031850</td>\n",
       "      <td>0.061312</td>\n",
       "      <td>0.079773</td>\n",
       "      <td>0.071351</td>\n",
       "      <td>0.070432</td>\n",
       "      <td>0.031396</td>\n",
       "      <td>0.099793</td>\n",
       "    </tr>\n",
       "  </tbody>\n",
       "</table>\n",
       "<p>5 rows × 400 columns</p>\n",
       "</div>"
      ],
      "text/plain": [
       "                   0         1         2         3         4         5  \\\n",
       "id                                                                       \n",
       "4780420411  0.014026  0.054789  0.025725  0.016863  0.063301  0.114704   \n",
       "4779876202  0.030303  0.022931  0.033079  0.058957  0.079296  0.049778   \n",
       "4778192381  0.055344  0.035090  0.026809  0.068782  0.045188  0.081985   \n",
       "4780265567  0.012624  0.058721  0.033892  0.054483  0.041132  0.115025   \n",
       "4777987958  0.054659  0.054360  0.014665  0.050420  0.064626  0.115716   \n",
       "\n",
       "                   6         7         8         9    ...          390  \\\n",
       "id                                                    ...                \n",
       "4780420411  0.070258  0.000567  0.045729  0.044964    ...     0.077940   \n",
       "4779876202  0.068490  0.003525  0.072742  0.030553    ...     0.061358   \n",
       "4778192381  0.033221  0.012631  0.026813  0.046449    ...     0.075565   \n",
       "4780265567  0.074992  0.000893  0.087311  0.076028    ...     0.068856   \n",
       "4777987958  0.107942  0.008013  0.069778  0.092527    ...     0.102160   \n",
       "\n",
       "                 391       392       393       394       395       396  \\\n",
       "id                                                                       \n",
       "4780420411  0.032820  0.022656  0.028034  0.035296  0.046987  0.036155   \n",
       "4779876202  0.044687  0.020264  0.007364  0.051940  0.062175  0.052892   \n",
       "4778192381  0.056208  0.029324  0.006928  0.055884  0.062326  0.022718   \n",
       "4780265567  0.051828  0.054921  0.011270  0.066159  0.043747  0.031619   \n",
       "4777987958  0.041830  0.015103  0.031850  0.061312  0.079773  0.071351   \n",
       "\n",
       "                 397       398       399  \n",
       "id                                        \n",
       "4780420411  0.016219  0.011507  0.070774  \n",
       "4779876202  0.026529  0.014570  0.025142  \n",
       "4778192381  0.040709  0.015717  0.102008  \n",
       "4780265567  0.033663  0.032096  0.073277  \n",
       "4777987958  0.070432  0.031396  0.099793  \n",
       "\n",
       "[5 rows x 400 columns]"
      ]
     },
     "execution_count": 2,
     "metadata": {},
     "output_type": "execute_result"
    }
   ],
   "source": [
    "# Load spk data from h5\n",
    "enroll_spk = pd.read_hdf('spk.h5', 'enroll')\n",
    "test_spk = pd.read_hdf('spk.h5', 'test')\n",
    "enroll_spk_raw = pd.read_hdf('spk_raw.h5', 'enroll_raw')\n",
    "test_spk_raw = pd.read_hdf('spk_raw.h5', 'test_raw')\n",
    "\n",
    "enroll_spk.head()"
   ]
  },
  {
   "cell_type": "code",
   "execution_count": 5,
   "metadata": {},
   "outputs": [],
   "source": [
    "# For tests\n",
    "\n",
    "spkr = enroll_spk_raw.loc[4780420411]\n",
    "test = test_spk_raw.loc['fc_4779547143_0']"
   ]
  },
  {
   "cell_type": "code",
   "execution_count": null,
   "metadata": {},
   "outputs": [],
   "source": [
    "from DataFunctions import calcEER"
   ]
  },
  {
   "cell_type": "code",
   "execution_count": 6,
   "metadata": {},
   "outputs": [],
   "source": [
    "def cos_similarity(vect1, vect2):\n",
    "    return 1 - cosine(vect1, vect2)"
   ]
  },
  {
   "cell_type": "code",
   "execution_count": 7,
   "metadata": {},
   "outputs": [],
   "source": [
    "def cos_with_variance(dist1, vect2):\n",
    "    m = dist1.mean(axis=0)\n",
    "    cos = 1 - cosine(m, vect2)\n",
    "    v = dist1.var(axis=0)\n",
    "    return np.concatenate([np.array([cos]), v])"
   ]
  },
  {
   "cell_type": "markdown",
   "metadata": {},
   "source": [
    "# Load data "
   ]
  },
  {
   "cell_type": "code",
   "execution_count": 8,
   "metadata": {},
   "outputs": [
    {
     "name": "stdout",
     "output_type": "stream",
     "text": [
      "[########################################] | 100% Completed |  0.3s\n",
      "[########################################] | 100% Completed |  0.3s\n"
     ]
    }
   ],
   "source": [
    "X_cos, Y_cos = run_test(cos_similarity, 0.01, True, enroll_spk, test_spk, n_features=1)"
   ]
  },
  {
   "cell_type": "code",
   "execution_count": 21,
   "metadata": {},
   "outputs": [
    {
     "name": "stdout",
     "output_type": "stream",
     "text": [
      "[########################################] | 100% Completed |  0.3s\n",
      "[########################################] | 100% Completed |  0.3s\n"
     ]
    }
   ],
   "source": [
    "X_cos_tenth, Y_cos_tenth = run_test(cos_similarity, 0.1, True, enroll_spk, test_spk, n_features=1)"
   ]
  },
  {
   "cell_type": "markdown",
   "metadata": {},
   "source": [
    "# 1a. Cos/Variance with RF"
   ]
  },
  {
   "cell_type": "code",
   "execution_count": 21,
   "metadata": {},
   "outputs": [
    {
     "name": "stdout",
     "output_type": "stream",
     "text": [
      "[########################################] | 100% Completed | 35.3s\n",
      "[########################################] | 100% Completed | 35.4s\n",
      "[########################################] | 100% Completed | 35.4s\n",
      "[########################################] | 100% Completed | 35.5s\n",
      "[########################################] | 100% Completed |  0.4s\n",
      "[########################################] | 100% Completed |  0.5s\n",
      "[########################################] | 100% Completed |  0.6s\n"
     ]
    },
    {
     "name": "stderr",
     "output_type": "stream",
     "text": [
      "[Parallel(n_jobs=8)]: Done   6 out of  10 | elapsed:    5.0s remaining:    3.3s\n",
      "[Parallel(n_jobs=8)]: Done  10 out of  10 | elapsed:    7.1s finished\n"
     ]
    },
    {
     "data": {
      "text/plain": [
       "RandomForestClassifier(bootstrap=True, class_weight=None, criterion='gini',\n",
       "            max_depth=None, max_features='auto', max_leaf_nodes=None,\n",
       "            min_impurity_decrease=0.0, min_impurity_split=None,\n",
       "            min_samples_leaf=1, min_samples_split=2,\n",
       "            min_weight_fraction_leaf=0.0, n_estimators=10, n_jobs=8,\n",
       "            oob_score=False, random_state=None, verbose=1,\n",
       "            warm_start=False)"
      ]
     },
     "execution_count": 21,
     "metadata": {},
     "output_type": "execute_result"
    }
   ],
   "source": [
    "X, Y = run_test(cos_with_variance, 0.01)\n",
    "X_csr = csr_matrix(np.vstack(X.values))\n",
    "rf = RandomForestClassifier(verbose = 1, n_jobs=8)\n",
    "rf.fit(X_csr, Y)"
   ]
  },
  {
   "cell_type": "code",
   "execution_count": 12,
   "metadata": {},
   "outputs": [
    {
     "name": "stderr",
     "output_type": "stream",
     "text": [
      "[Parallel(n_jobs=8)]: Done   6 out of  10 | elapsed:    0.1s remaining:    0.1s\n",
      "[Parallel(n_jobs=8)]: Done  10 out of  10 | elapsed:    0.2s finished\n"
     ]
    },
    {
     "data": {
      "text/plain": [
       "RandomForestClassifier(bootstrap=True, class_weight=None, criterion='gini',\n",
       "            max_depth=None, max_features='auto', max_leaf_nodes=None,\n",
       "            min_impurity_decrease=0.0, min_impurity_split=None,\n",
       "            min_samples_leaf=1, min_samples_split=2,\n",
       "            min_weight_fraction_leaf=0.0, n_estimators=10, n_jobs=8,\n",
       "            oob_score=False, random_state=None, verbose=1,\n",
       "            warm_start=False)"
      ]
     },
     "execution_count": 12,
     "metadata": {},
     "output_type": "execute_result"
    }
   ],
   "source": [
    "rf_cos = RandomForestClassifier(verbose = 1, n_jobs=8)\n",
    "X_cos_a = np.array(X_cos).reshape((-1,1))\n",
    "rf_cos.fit(X_cos_a, Y_cos)"
   ]
  },
  {
   "cell_type": "markdown",
   "metadata": {},
   "source": [
    "# 1b. Cos/Variance with PAC (incremental learning)\n",
    "We try to see if PAC performs as well as RF so that we can work with larger datasets. \n",
    "I don't believe there is a workaround using large data with sklearn on limited memory besides using online learning to learn on data sequentially. \n",
    "\n",
    "http://scikit-learn.org/stable/modules/scaling_strategies.html\n",
    "\n",
    "http://dask-ml.readthedocs.io/en/latest/incremental.html - addresses this exact problem"
   ]
  },
  {
   "cell_type": "code",
   "execution_count": 17,
   "metadata": {},
   "outputs": [],
   "source": [
    "from sklearn.neural_network import MLPClassifier"
   ]
  },
  {
   "cell_type": "code",
   "execution_count": 19,
   "metadata": {},
   "outputs": [],
   "source": [
    "nn = Incremental(MLPClassifier(random_state=1, verbose=True))"
   ]
  },
  {
   "cell_type": "code",
   "execution_count": 20,
   "metadata": {},
   "outputs": [
    {
     "name": "stderr",
     "output_type": "stream",
     "text": [
      "/work4/kenneth/anaconda3/lib/python3.6/site-packages/sklearn/neural_network/multilayer_perceptron.py:927: DeprecationWarning: The truth value of an empty array is ambiguous. Returning False, but in future this will result in an error. Use `array.size > 0` to check that an array is not empty.\n",
      "  if np.setdiff1d(classes, self.classes_, assume_unique=True):\n",
      "/work4/kenneth/anaconda3/lib/python3.6/site-packages/sklearn/neural_network/multilayer_perceptron.py:927: DeprecationWarning: The truth value of an empty array is ambiguous. Returning False, but in future this will result in an error. Use `array.size > 0` to check that an array is not empty.\n",
      "  if np.setdiff1d(classes, self.classes_, assume_unique=True):\n",
      "/work4/kenneth/anaconda3/lib/python3.6/site-packages/sklearn/neural_network/multilayer_perceptron.py:927: DeprecationWarning: The truth value of an empty array is ambiguous. Returning False, but in future this will result in an error. Use `array.size > 0` to check that an array is not empty.\n",
      "  if np.setdiff1d(classes, self.classes_, assume_unique=True):\n",
      "/work4/kenneth/anaconda3/lib/python3.6/site-packages/sklearn/neural_network/multilayer_perceptron.py:927: DeprecationWarning: The truth value of an empty array is ambiguous. Returning False, but in future this will result in an error. Use `array.size > 0` to check that an array is not empty.\n",
      "  if np.setdiff1d(classes, self.classes_, assume_unique=True):\n",
      "/work4/kenneth/anaconda3/lib/python3.6/site-packages/sklearn/neural_network/multilayer_perceptron.py:927: DeprecationWarning: The truth value of an empty array is ambiguous. Returning False, but in future this will result in an error. Use `array.size > 0` to check that an array is not empty.\n",
      "  if np.setdiff1d(classes, self.classes_, assume_unique=True):\n",
      "/work4/kenneth/anaconda3/lib/python3.6/site-packages/sklearn/neural_network/multilayer_perceptron.py:927: DeprecationWarning: The truth value of an empty array is ambiguous. Returning False, but in future this will result in an error. Use `array.size > 0` to check that an array is not empty.\n",
      "  if np.setdiff1d(classes, self.classes_, assume_unique=True):\n",
      "/work4/kenneth/anaconda3/lib/python3.6/site-packages/sklearn/neural_network/multilayer_perceptron.py:927: DeprecationWarning: The truth value of an empty array is ambiguous. Returning False, but in future this will result in an error. Use `array.size > 0` to check that an array is not empty.\n",
      "  if np.setdiff1d(classes, self.classes_, assume_unique=True):\n",
      "/work4/kenneth/anaconda3/lib/python3.6/site-packages/sklearn/neural_network/multilayer_perceptron.py:927: DeprecationWarning: The truth value of an empty array is ambiguous. Returning False, but in future this will result in an error. Use `array.size > 0` to check that an array is not empty.\n",
      "  if np.setdiff1d(classes, self.classes_, assume_unique=True):\n",
      "/work4/kenneth/anaconda3/lib/python3.6/site-packages/sklearn/neural_network/multilayer_perceptron.py:927: DeprecationWarning: The truth value of an empty array is ambiguous. Returning False, but in future this will result in an error. Use `array.size > 0` to check that an array is not empty.\n",
      "  if np.setdiff1d(classes, self.classes_, assume_unique=True):\n",
      "/work4/kenneth/anaconda3/lib/python3.6/site-packages/sklearn/neural_network/multilayer_perceptron.py:927: DeprecationWarning: The truth value of an empty array is ambiguous. Returning False, but in future this will result in an error. Use `array.size > 0` to check that an array is not empty.\n",
      "  if np.setdiff1d(classes, self.classes_, assume_unique=True):\n",
      "/work4/kenneth/anaconda3/lib/python3.6/site-packages/sklearn/neural_network/multilayer_perceptron.py:927: DeprecationWarning: The truth value of an empty array is ambiguous. Returning False, but in future this will result in an error. Use `array.size > 0` to check that an array is not empty.\n",
      "  if np.setdiff1d(classes, self.classes_, assume_unique=True):\n",
      "/work4/kenneth/anaconda3/lib/python3.6/site-packages/sklearn/neural_network/multilayer_perceptron.py:927: DeprecationWarning: The truth value of an empty array is ambiguous. Returning False, but in future this will result in an error. Use `array.size > 0` to check that an array is not empty.\n",
      "  if np.setdiff1d(classes, self.classes_, assume_unique=True):\n",
      "/work4/kenneth/anaconda3/lib/python3.6/site-packages/sklearn/neural_network/multilayer_perceptron.py:927: DeprecationWarning: The truth value of an empty array is ambiguous. Returning False, but in future this will result in an error. Use `array.size > 0` to check that an array is not empty.\n",
      "  if np.setdiff1d(classes, self.classes_, assume_unique=True):\n",
      "/work4/kenneth/anaconda3/lib/python3.6/site-packages/sklearn/neural_network/multilayer_perceptron.py:927: DeprecationWarning: The truth value of an empty array is ambiguous. Returning False, but in future this will result in an error. Use `array.size > 0` to check that an array is not empty.\n",
      "  if np.setdiff1d(classes, self.classes_, assume_unique=True):\n",
      "/work4/kenneth/anaconda3/lib/python3.6/site-packages/sklearn/neural_network/multilayer_perceptron.py:927: DeprecationWarning: The truth value of an empty array is ambiguous. Returning False, but in future this will result in an error. Use `array.size > 0` to check that an array is not empty.\n",
      "  if np.setdiff1d(classes, self.classes_, assume_unique=True):\n",
      "/work4/kenneth/anaconda3/lib/python3.6/site-packages/sklearn/neural_network/multilayer_perceptron.py:927: DeprecationWarning: The truth value of an empty array is ambiguous. Returning False, but in future this will result in an error. Use `array.size > 0` to check that an array is not empty.\n",
      "  if np.setdiff1d(classes, self.classes_, assume_unique=True):\n",
      "/work4/kenneth/anaconda3/lib/python3.6/site-packages/sklearn/neural_network/multilayer_perceptron.py:927: DeprecationWarning: The truth value of an empty array is ambiguous. Returning False, but in future this will result in an error. Use `array.size > 0` to check that an array is not empty.\n",
      "  if np.setdiff1d(classes, self.classes_, assume_unique=True):\n",
      "/work4/kenneth/anaconda3/lib/python3.6/site-packages/sklearn/neural_network/multilayer_perceptron.py:927: DeprecationWarning: The truth value of an empty array is ambiguous. Returning False, but in future this will result in an error. Use `array.size > 0` to check that an array is not empty.\n",
      "  if np.setdiff1d(classes, self.classes_, assume_unique=True):\n",
      "/work4/kenneth/anaconda3/lib/python3.6/site-packages/sklearn/neural_network/multilayer_perceptron.py:927: DeprecationWarning: The truth value of an empty array is ambiguous. Returning False, but in future this will result in an error. Use `array.size > 0` to check that an array is not empty.\n",
      "  if np.setdiff1d(classes, self.classes_, assume_unique=True):\n",
      "/work4/kenneth/anaconda3/lib/python3.6/site-packages/sklearn/neural_network/multilayer_perceptron.py:927: DeprecationWarning: The truth value of an empty array is ambiguous. Returning False, but in future this will result in an error. Use `array.size > 0` to check that an array is not empty.\n",
      "  if np.setdiff1d(classes, self.classes_, assume_unique=True):\n",
      "/work4/kenneth/anaconda3/lib/python3.6/site-packages/sklearn/neural_network/multilayer_perceptron.py:927: DeprecationWarning: The truth value of an empty array is ambiguous. Returning False, but in future this will result in an error. Use `array.size > 0` to check that an array is not empty.\n",
      "  if np.setdiff1d(classes, self.classes_, assume_unique=True):\n",
      "/work4/kenneth/anaconda3/lib/python3.6/site-packages/sklearn/neural_network/multilayer_perceptron.py:927: DeprecationWarning: The truth value of an empty array is ambiguous. Returning False, but in future this will result in an error. Use `array.size > 0` to check that an array is not empty.\n",
      "  if np.setdiff1d(classes, self.classes_, assume_unique=True):\n",
      "/work4/kenneth/anaconda3/lib/python3.6/site-packages/sklearn/neural_network/multilayer_perceptron.py:927: DeprecationWarning: The truth value of an empty array is ambiguous. Returning False, but in future this will result in an error. Use `array.size > 0` to check that an array is not empty.\n",
      "  if np.setdiff1d(classes, self.classes_, assume_unique=True):\n",
      "/work4/kenneth/anaconda3/lib/python3.6/site-packages/sklearn/neural_network/multilayer_perceptron.py:927: DeprecationWarning: The truth value of an empty array is ambiguous. Returning False, but in future this will result in an error. Use `array.size > 0` to check that an array is not empty.\n",
      "  if np.setdiff1d(classes, self.classes_, assume_unique=True):\n",
      "/work4/kenneth/anaconda3/lib/python3.6/site-packages/sklearn/neural_network/multilayer_perceptron.py:927: DeprecationWarning: The truth value of an empty array is ambiguous. Returning False, but in future this will result in an error. Use `array.size > 0` to check that an array is not empty.\n",
      "  if np.setdiff1d(classes, self.classes_, assume_unique=True):\n",
      "/work4/kenneth/anaconda3/lib/python3.6/site-packages/sklearn/neural_network/multilayer_perceptron.py:927: DeprecationWarning: The truth value of an empty array is ambiguous. Returning False, but in future this will result in an error. Use `array.size > 0` to check that an array is not empty.\n",
      "  if np.setdiff1d(classes, self.classes_, assume_unique=True):\n",
      "/work4/kenneth/anaconda3/lib/python3.6/site-packages/sklearn/neural_network/multilayer_perceptron.py:927: DeprecationWarning: The truth value of an empty array is ambiguous. Returning False, but in future this will result in an error. Use `array.size > 0` to check that an array is not empty.\n",
      "  if np.setdiff1d(classes, self.classes_, assume_unique=True):\n",
      "/work4/kenneth/anaconda3/lib/python3.6/site-packages/sklearn/neural_network/multilayer_perceptron.py:927: DeprecationWarning: The truth value of an empty array is ambiguous. Returning False, but in future this will result in an error. Use `array.size > 0` to check that an array is not empty.\n",
      "  if np.setdiff1d(classes, self.classes_, assume_unique=True):\n"
     ]
    },
    {
     "name": "stdout",
     "output_type": "stream",
     "text": [
      "Iteration 1, loss = 0.85373559\n",
      "Iteration 2, loss = 0.80209452\n",
      "Iteration 3, loss = 0.75273747\n",
      "Iteration 4, loss = 0.70617010\n",
      "Iteration 5, loss = 0.66205026\n",
      "Iteration 6, loss = 0.62092906\n",
      "Iteration 7, loss = 0.58306952\n",
      "Iteration 8, loss = 0.54634894\n",
      "Iteration 9, loss = 0.51084818\n",
      "Iteration 10, loss = 0.47929058\n",
      "Iteration 11, loss = 0.44553839\n",
      "Iteration 12, loss = 0.41523888\n",
      "Iteration 13, loss = 0.38785631\n",
      "Iteration 14, loss = 0.36061563\n",
      "Iteration 15, loss = 0.33401985\n",
      "Iteration 16, loss = 0.31056922\n",
      "Iteration 17, loss = 0.28585256\n",
      "Iteration 18, loss = 0.26814792\n",
      "Iteration 19, loss = 0.24712180\n",
      "Iteration 20, loss = 0.22610379\n",
      "Iteration 21, loss = 0.21195280\n",
      "Iteration 22, loss = 0.19774158\n",
      "Iteration 23, loss = 0.18011730\n",
      "Iteration 24, loss = 0.16867914\n",
      "Iteration 25, loss = 0.15455025\n",
      "Iteration 26, loss = 0.14351748\n",
      "Iteration 27, loss = 0.13334258\n",
      "Iteration 28, loss = 0.12613541\n",
      "Iteration 29, loss = 0.11326864\n",
      "Iteration 30, loss = 0.11202583\n",
      "Iteration 31, loss = 0.10749686\n",
      "Iteration 32, loss = 0.09655527\n",
      "Iteration 33, loss = 0.08815743\n",
      "Iteration 34, loss = 0.08536649\n",
      "Iteration 35, loss = 0.07518667\n",
      "Iteration 36, loss = 0.07056336\n",
      "Iteration 37, loss = 0.07188668\n",
      "Iteration 38, loss = 0.06532867\n",
      "Iteration 39, loss = 0.06177282\n",
      "Iteration 40, loss = 0.06436372\n",
      "Iteration 41, loss = 0.05547012\n",
      "Iteration 42, loss = 0.04966240\n",
      "Iteration 43, loss = 0.05327520\n",
      "Iteration 44, loss = 0.05099847\n",
      "Iteration 45, loss = 0.04875399\n",
      "Iteration 46, loss = 0.04337568\n",
      "Iteration 47, loss = 0.04803601\n",
      "Iteration 48, loss = 0.04299757\n",
      "Iteration 49, loss = 0.03783029\n",
      "Iteration 50, loss = 0.03612630\n",
      "Iteration 51, loss = 0.03083129\n",
      "Iteration 52, loss = 0.03274295\n",
      "Iteration 53, loss = 0.03118393\n",
      "Iteration 54, loss = 0.03713761\n",
      "Training loss did not improve more than tol=0.000100 for two consecutive epochs. Stopping.\n",
      "Iteration 55, loss = 0.03218309\n",
      "Training loss did not improve more than tol=0.000100 for two consecutive epochs. Stopping.\n",
      "Iteration 56, loss = 0.03108535\n",
      "Training loss did not improve more than tol=0.000100 for two consecutive epochs. Stopping.\n",
      "Iteration 57, loss = 0.02600331\n",
      "Iteration 58, loss = 0.02091248\n",
      "Iteration 59, loss = 0.01975725\n",
      "Iteration 60, loss = 0.01873481\n",
      "Iteration 61, loss = 0.03009058\n",
      "Iteration 62, loss = 0.02094318\n",
      "Iteration 63, loss = 0.01581921\n",
      "Iteration 64, loss = 0.02350763\n",
      "Iteration 65, loss = 0.01844797\n",
      "Iteration 66, loss = 0.03117022\n",
      "Training loss did not improve more than tol=0.000100 for two consecutive epochs. Stopping.\n",
      "Iteration 67, loss = 0.02149902\n",
      "Training loss did not improve more than tol=0.000100 for two consecutive epochs. Stopping.\n",
      "Iteration 68, loss = 0.01651691\n",
      "Training loss did not improve more than tol=0.000100 for two consecutive epochs. Stopping.\n"
     ]
    },
    {
     "name": "stderr",
     "output_type": "stream",
     "text": [
      "/work4/kenneth/anaconda3/lib/python3.6/site-packages/sklearn/neural_network/multilayer_perceptron.py:927: DeprecationWarning: The truth value of an empty array is ambiguous. Returning False, but in future this will result in an error. Use `array.size > 0` to check that an array is not empty.\n",
      "  if np.setdiff1d(classes, self.classes_, assume_unique=True):\n",
      "/work4/kenneth/anaconda3/lib/python3.6/site-packages/sklearn/neural_network/multilayer_perceptron.py:927: DeprecationWarning: The truth value of an empty array is ambiguous. Returning False, but in future this will result in an error. Use `array.size > 0` to check that an array is not empty.\n",
      "  if np.setdiff1d(classes, self.classes_, assume_unique=True):\n",
      "/work4/kenneth/anaconda3/lib/python3.6/site-packages/sklearn/neural_network/multilayer_perceptron.py:927: DeprecationWarning: The truth value of an empty array is ambiguous. Returning False, but in future this will result in an error. Use `array.size > 0` to check that an array is not empty.\n",
      "  if np.setdiff1d(classes, self.classes_, assume_unique=True):\n",
      "/work4/kenneth/anaconda3/lib/python3.6/site-packages/sklearn/neural_network/multilayer_perceptron.py:927: DeprecationWarning: The truth value of an empty array is ambiguous. Returning False, but in future this will result in an error. Use `array.size > 0` to check that an array is not empty.\n",
      "  if np.setdiff1d(classes, self.classes_, assume_unique=True):\n",
      "/work4/kenneth/anaconda3/lib/python3.6/site-packages/sklearn/neural_network/multilayer_perceptron.py:927: DeprecationWarning: The truth value of an empty array is ambiguous. Returning False, but in future this will result in an error. Use `array.size > 0` to check that an array is not empty.\n",
      "  if np.setdiff1d(classes, self.classes_, assume_unique=True):\n",
      "/work4/kenneth/anaconda3/lib/python3.6/site-packages/sklearn/neural_network/multilayer_perceptron.py:927: DeprecationWarning: The truth value of an empty array is ambiguous. Returning False, but in future this will result in an error. Use `array.size > 0` to check that an array is not empty.\n",
      "  if np.setdiff1d(classes, self.classes_, assume_unique=True):\n",
      "/work4/kenneth/anaconda3/lib/python3.6/site-packages/sklearn/neural_network/multilayer_perceptron.py:927: DeprecationWarning: The truth value of an empty array is ambiguous. Returning False, but in future this will result in an error. Use `array.size > 0` to check that an array is not empty.\n",
      "  if np.setdiff1d(classes, self.classes_, assume_unique=True):\n",
      "/work4/kenneth/anaconda3/lib/python3.6/site-packages/sklearn/neural_network/multilayer_perceptron.py:927: DeprecationWarning: The truth value of an empty array is ambiguous. Returning False, but in future this will result in an error. Use `array.size > 0` to check that an array is not empty.\n",
      "  if np.setdiff1d(classes, self.classes_, assume_unique=True):\n",
      "/work4/kenneth/anaconda3/lib/python3.6/site-packages/sklearn/neural_network/multilayer_perceptron.py:927: DeprecationWarning: The truth value of an empty array is ambiguous. Returning False, but in future this will result in an error. Use `array.size > 0` to check that an array is not empty.\n",
      "  if np.setdiff1d(classes, self.classes_, assume_unique=True):\n",
      "/work4/kenneth/anaconda3/lib/python3.6/site-packages/sklearn/neural_network/multilayer_perceptron.py:927: DeprecationWarning: The truth value of an empty array is ambiguous. Returning False, but in future this will result in an error. Use `array.size > 0` to check that an array is not empty.\n",
      "  if np.setdiff1d(classes, self.classes_, assume_unique=True):\n",
      "/work4/kenneth/anaconda3/lib/python3.6/site-packages/sklearn/neural_network/multilayer_perceptron.py:927: DeprecationWarning: The truth value of an empty array is ambiguous. Returning False, but in future this will result in an error. Use `array.size > 0` to check that an array is not empty.\n",
      "  if np.setdiff1d(classes, self.classes_, assume_unique=True):\n",
      "/work4/kenneth/anaconda3/lib/python3.6/site-packages/sklearn/neural_network/multilayer_perceptron.py:927: DeprecationWarning: The truth value of an empty array is ambiguous. Returning False, but in future this will result in an error. Use `array.size > 0` to check that an array is not empty.\n",
      "  if np.setdiff1d(classes, self.classes_, assume_unique=True):\n",
      "/work4/kenneth/anaconda3/lib/python3.6/site-packages/sklearn/neural_network/multilayer_perceptron.py:927: DeprecationWarning: The truth value of an empty array is ambiguous. Returning False, but in future this will result in an error. Use `array.size > 0` to check that an array is not empty.\n",
      "  if np.setdiff1d(classes, self.classes_, assume_unique=True):\n",
      "/work4/kenneth/anaconda3/lib/python3.6/site-packages/sklearn/neural_network/multilayer_perceptron.py:927: DeprecationWarning: The truth value of an empty array is ambiguous. Returning False, but in future this will result in an error. Use `array.size > 0` to check that an array is not empty.\n",
      "  if np.setdiff1d(classes, self.classes_, assume_unique=True):\n",
      "/work4/kenneth/anaconda3/lib/python3.6/site-packages/sklearn/neural_network/multilayer_perceptron.py:927: DeprecationWarning: The truth value of an empty array is ambiguous. Returning False, but in future this will result in an error. Use `array.size > 0` to check that an array is not empty.\n",
      "  if np.setdiff1d(classes, self.classes_, assume_unique=True):\n",
      "/work4/kenneth/anaconda3/lib/python3.6/site-packages/sklearn/neural_network/multilayer_perceptron.py:927: DeprecationWarning: The truth value of an empty array is ambiguous. Returning False, but in future this will result in an error. Use `array.size > 0` to check that an array is not empty.\n",
      "  if np.setdiff1d(classes, self.classes_, assume_unique=True):\n",
      "/work4/kenneth/anaconda3/lib/python3.6/site-packages/sklearn/neural_network/multilayer_perceptron.py:927: DeprecationWarning: The truth value of an empty array is ambiguous. Returning False, but in future this will result in an error. Use `array.size > 0` to check that an array is not empty.\n",
      "  if np.setdiff1d(classes, self.classes_, assume_unique=True):\n",
      "/work4/kenneth/anaconda3/lib/python3.6/site-packages/sklearn/neural_network/multilayer_perceptron.py:927: DeprecationWarning: The truth value of an empty array is ambiguous. Returning False, but in future this will result in an error. Use `array.size > 0` to check that an array is not empty.\n",
      "  if np.setdiff1d(classes, self.classes_, assume_unique=True):\n",
      "/work4/kenneth/anaconda3/lib/python3.6/site-packages/sklearn/neural_network/multilayer_perceptron.py:927: DeprecationWarning: The truth value of an empty array is ambiguous. Returning False, but in future this will result in an error. Use `array.size > 0` to check that an array is not empty.\n",
      "  if np.setdiff1d(classes, self.classes_, assume_unique=True):\n",
      "/work4/kenneth/anaconda3/lib/python3.6/site-packages/sklearn/neural_network/multilayer_perceptron.py:927: DeprecationWarning: The truth value of an empty array is ambiguous. Returning False, but in future this will result in an error. Use `array.size > 0` to check that an array is not empty.\n",
      "  if np.setdiff1d(classes, self.classes_, assume_unique=True):\n",
      "/work4/kenneth/anaconda3/lib/python3.6/site-packages/sklearn/neural_network/multilayer_perceptron.py:927: DeprecationWarning: The truth value of an empty array is ambiguous. Returning False, but in future this will result in an error. Use `array.size > 0` to check that an array is not empty.\n",
      "  if np.setdiff1d(classes, self.classes_, assume_unique=True):\n",
      "/work4/kenneth/anaconda3/lib/python3.6/site-packages/sklearn/neural_network/multilayer_perceptron.py:927: DeprecationWarning: The truth value of an empty array is ambiguous. Returning False, but in future this will result in an error. Use `array.size > 0` to check that an array is not empty.\n",
      "  if np.setdiff1d(classes, self.classes_, assume_unique=True):\n",
      "/work4/kenneth/anaconda3/lib/python3.6/site-packages/sklearn/neural_network/multilayer_perceptron.py:927: DeprecationWarning: The truth value of an empty array is ambiguous. Returning False, but in future this will result in an error. Use `array.size > 0` to check that an array is not empty.\n",
      "  if np.setdiff1d(classes, self.classes_, assume_unique=True):\n",
      "/work4/kenneth/anaconda3/lib/python3.6/site-packages/sklearn/neural_network/multilayer_perceptron.py:927: DeprecationWarning: The truth value of an empty array is ambiguous. Returning False, but in future this will result in an error. Use `array.size > 0` to check that an array is not empty.\n",
      "  if np.setdiff1d(classes, self.classes_, assume_unique=True):\n",
      "/work4/kenneth/anaconda3/lib/python3.6/site-packages/sklearn/neural_network/multilayer_perceptron.py:927: DeprecationWarning: The truth value of an empty array is ambiguous. Returning False, but in future this will result in an error. Use `array.size > 0` to check that an array is not empty.\n",
      "  if np.setdiff1d(classes, self.classes_, assume_unique=True):\n",
      "/work4/kenneth/anaconda3/lib/python3.6/site-packages/sklearn/neural_network/multilayer_perceptron.py:927: DeprecationWarning: The truth value of an empty array is ambiguous. Returning False, but in future this will result in an error. Use `array.size > 0` to check that an array is not empty.\n",
      "  if np.setdiff1d(classes, self.classes_, assume_unique=True):\n",
      "/work4/kenneth/anaconda3/lib/python3.6/site-packages/sklearn/neural_network/multilayer_perceptron.py:927: DeprecationWarning: The truth value of an empty array is ambiguous. Returning False, but in future this will result in an error. Use `array.size > 0` to check that an array is not empty.\n",
      "  if np.setdiff1d(classes, self.classes_, assume_unique=True):\n",
      "/work4/kenneth/anaconda3/lib/python3.6/site-packages/sklearn/neural_network/multilayer_perceptron.py:927: DeprecationWarning: The truth value of an empty array is ambiguous. Returning False, but in future this will result in an error. Use `array.size > 0` to check that an array is not empty.\n",
      "  if np.setdiff1d(classes, self.classes_, assume_unique=True):\n",
      "/work4/kenneth/anaconda3/lib/python3.6/site-packages/sklearn/neural_network/multilayer_perceptron.py:927: DeprecationWarning: The truth value of an empty array is ambiguous. Returning False, but in future this will result in an error. Use `array.size > 0` to check that an array is not empty.\n",
      "  if np.setdiff1d(classes, self.classes_, assume_unique=True):\n",
      "/work4/kenneth/anaconda3/lib/python3.6/site-packages/sklearn/neural_network/multilayer_perceptron.py:927: DeprecationWarning: The truth value of an empty array is ambiguous. Returning False, but in future this will result in an error. Use `array.size > 0` to check that an array is not empty.\n",
      "  if np.setdiff1d(classes, self.classes_, assume_unique=True):\n",
      "/work4/kenneth/anaconda3/lib/python3.6/site-packages/sklearn/neural_network/multilayer_perceptron.py:927: DeprecationWarning: The truth value of an empty array is ambiguous. Returning False, but in future this will result in an error. Use `array.size > 0` to check that an array is not empty.\n",
      "  if np.setdiff1d(classes, self.classes_, assume_unique=True):\n",
      "/work4/kenneth/anaconda3/lib/python3.6/site-packages/sklearn/neural_network/multilayer_perceptron.py:927: DeprecationWarning: The truth value of an empty array is ambiguous. Returning False, but in future this will result in an error. Use `array.size > 0` to check that an array is not empty.\n",
      "  if np.setdiff1d(classes, self.classes_, assume_unique=True):\n",
      "/work4/kenneth/anaconda3/lib/python3.6/site-packages/sklearn/neural_network/multilayer_perceptron.py:927: DeprecationWarning: The truth value of an empty array is ambiguous. Returning False, but in future this will result in an error. Use `array.size > 0` to check that an array is not empty.\n",
      "  if np.setdiff1d(classes, self.classes_, assume_unique=True):\n",
      "/work4/kenneth/anaconda3/lib/python3.6/site-packages/sklearn/neural_network/multilayer_perceptron.py:927: DeprecationWarning: The truth value of an empty array is ambiguous. Returning False, but in future this will result in an error. Use `array.size > 0` to check that an array is not empty.\n",
      "  if np.setdiff1d(classes, self.classes_, assume_unique=True):\n",
      "/work4/kenneth/anaconda3/lib/python3.6/site-packages/sklearn/neural_network/multilayer_perceptron.py:927: DeprecationWarning: The truth value of an empty array is ambiguous. Returning False, but in future this will result in an error. Use `array.size > 0` to check that an array is not empty.\n",
      "  if np.setdiff1d(classes, self.classes_, assume_unique=True):\n",
      "/work4/kenneth/anaconda3/lib/python3.6/site-packages/sklearn/neural_network/multilayer_perceptron.py:927: DeprecationWarning: The truth value of an empty array is ambiguous. Returning False, but in future this will result in an error. Use `array.size > 0` to check that an array is not empty.\n",
      "  if np.setdiff1d(classes, self.classes_, assume_unique=True):\n",
      "/work4/kenneth/anaconda3/lib/python3.6/site-packages/sklearn/neural_network/multilayer_perceptron.py:927: DeprecationWarning: The truth value of an empty array is ambiguous. Returning False, but in future this will result in an error. Use `array.size > 0` to check that an array is not empty.\n",
      "  if np.setdiff1d(classes, self.classes_, assume_unique=True):\n",
      "/work4/kenneth/anaconda3/lib/python3.6/site-packages/sklearn/neural_network/multilayer_perceptron.py:927: DeprecationWarning: The truth value of an empty array is ambiguous. Returning False, but in future this will result in an error. Use `array.size > 0` to check that an array is not empty.\n",
      "  if np.setdiff1d(classes, self.classes_, assume_unique=True):\n",
      "/work4/kenneth/anaconda3/lib/python3.6/site-packages/sklearn/neural_network/multilayer_perceptron.py:927: DeprecationWarning: The truth value of an empty array is ambiguous. Returning False, but in future this will result in an error. Use `array.size > 0` to check that an array is not empty.\n",
      "  if np.setdiff1d(classes, self.classes_, assume_unique=True):\n",
      "/work4/kenneth/anaconda3/lib/python3.6/site-packages/sklearn/neural_network/multilayer_perceptron.py:927: DeprecationWarning: The truth value of an empty array is ambiguous. Returning False, but in future this will result in an error. Use `array.size > 0` to check that an array is not empty.\n",
      "  if np.setdiff1d(classes, self.classes_, assume_unique=True):\n"
     ]
    },
    {
     "name": "stderr",
     "output_type": "stream",
     "text": [
      "/work4/kenneth/anaconda3/lib/python3.6/site-packages/sklearn/neural_network/multilayer_perceptron.py:927: DeprecationWarning: The truth value of an empty array is ambiguous. Returning False, but in future this will result in an error. Use `array.size > 0` to check that an array is not empty.\n",
      "  if np.setdiff1d(classes, self.classes_, assume_unique=True):\n",
      "/work4/kenneth/anaconda3/lib/python3.6/site-packages/sklearn/neural_network/multilayer_perceptron.py:927: DeprecationWarning: The truth value of an empty array is ambiguous. Returning False, but in future this will result in an error. Use `array.size > 0` to check that an array is not empty.\n",
      "  if np.setdiff1d(classes, self.classes_, assume_unique=True):\n",
      "/work4/kenneth/anaconda3/lib/python3.6/site-packages/sklearn/neural_network/multilayer_perceptron.py:927: DeprecationWarning: The truth value of an empty array is ambiguous. Returning False, but in future this will result in an error. Use `array.size > 0` to check that an array is not empty.\n",
      "  if np.setdiff1d(classes, self.classes_, assume_unique=True):\n",
      "/work4/kenneth/anaconda3/lib/python3.6/site-packages/sklearn/neural_network/multilayer_perceptron.py:927: DeprecationWarning: The truth value of an empty array is ambiguous. Returning False, but in future this will result in an error. Use `array.size > 0` to check that an array is not empty.\n",
      "  if np.setdiff1d(classes, self.classes_, assume_unique=True):\n",
      "/work4/kenneth/anaconda3/lib/python3.6/site-packages/sklearn/neural_network/multilayer_perceptron.py:927: DeprecationWarning: The truth value of an empty array is ambiguous. Returning False, but in future this will result in an error. Use `array.size > 0` to check that an array is not empty.\n",
      "  if np.setdiff1d(classes, self.classes_, assume_unique=True):\n",
      "/work4/kenneth/anaconda3/lib/python3.6/site-packages/sklearn/neural_network/multilayer_perceptron.py:927: DeprecationWarning: The truth value of an empty array is ambiguous. Returning False, but in future this will result in an error. Use `array.size > 0` to check that an array is not empty.\n",
      "  if np.setdiff1d(classes, self.classes_, assume_unique=True):\n",
      "/work4/kenneth/anaconda3/lib/python3.6/site-packages/sklearn/neural_network/multilayer_perceptron.py:927: DeprecationWarning: The truth value of an empty array is ambiguous. Returning False, but in future this will result in an error. Use `array.size > 0` to check that an array is not empty.\n",
      "  if np.setdiff1d(classes, self.classes_, assume_unique=True):\n"
     ]
    },
    {
     "name": "stdout",
     "output_type": "stream",
     "text": [
      "Iteration 69, loss = 0.01599366\n",
      "Training loss did not improve more than tol=0.000100 for two consecutive epochs. Stopping.\n",
      "Iteration 70, loss = 0.02475803\n",
      "Training loss did not improve more than tol=0.000100 for two consecutive epochs. Stopping.\n",
      "Iteration 71, loss = 0.02441286\n",
      "Training loss did not improve more than tol=0.000100 for two consecutive epochs. Stopping.\n",
      "Iteration 72, loss = 0.00990752\n",
      "Iteration 73, loss = 0.01420483\n",
      "Iteration 74, loss = 0.00896606\n",
      "Iteration 75, loss = 0.01336830\n",
      "Iteration 76, loss = 0.02287803\n",
      "Iteration 77, loss = 0.01771259\n",
      "Training loss did not improve more than tol=0.000100 for two consecutive epochs. Stopping.\n",
      "Iteration 78, loss = 0.00742751\n",
      "Iteration 79, loss = 0.02740675\n",
      "Iteration 80, loss = 0.02213877\n",
      "Iteration 81, loss = 0.01685434\n",
      "Training loss did not improve more than tol=0.000100 for two consecutive epochs. Stopping.\n",
      "Iteration 82, loss = 0.00633713\n",
      "Iteration 83, loss = 0.01126431\n",
      "Iteration 84, loss = 0.01113292\n",
      "Iteration 85, loss = 0.02148984\n",
      "Training loss did not improve more than tol=0.000100 for two consecutive epochs. Stopping.\n",
      "Iteration 86, loss = 0.01070150\n",
      "Training loss did not improve more than tol=0.000100 for two consecutive epochs. Stopping.\n",
      "Iteration 87, loss = 0.01583897\n",
      "Training loss did not improve more than tol=0.000100 for two consecutive epochs. Stopping.\n",
      "Iteration 88, loss = 0.00473015\n",
      "Iteration 89, loss = 0.02122054\n",
      "Iteration 90, loss = 0.01557290\n",
      "Iteration 91, loss = 0.01559186\n",
      "Training loss did not improve more than tol=0.000100 for two consecutive epochs. Stopping.\n",
      "Iteration 92, loss = 0.02123308\n",
      "Training loss did not improve more than tol=0.000100 for two consecutive epochs. Stopping.\n",
      "Iteration 93, loss = 0.02125584\n",
      "Training loss did not improve more than tol=0.000100 for two consecutive epochs. Stopping.\n",
      "Iteration 94, loss = 0.00379084\n",
      "Iteration 95, loss = 0.01529656\n",
      "Iteration 96, loss = 0.00353885\n",
      "Iteration 97, loss = 0.01515858\n",
      "Iteration 98, loss = 0.02097730\n",
      "Iteration 99, loss = 0.00320556\n",
      "Iteration 100, loss = 0.00911755\n",
      "Iteration 101, loss = 0.00902157\n",
      "Iteration 102, loss = 0.00896474\n",
      "Training loss did not improve more than tol=0.000100 for two consecutive epochs. Stopping.\n",
      "Iteration 103, loss = 0.02109806\n",
      "Training loss did not improve more than tol=0.000100 for two consecutive epochs. Stopping.\n",
      "Iteration 104, loss = 0.02099069\n",
      "Training loss did not improve more than tol=0.000100 for two consecutive epochs. Stopping.\n",
      "Iteration 105, loss = 0.00876155\n",
      "Training loss did not improve more than tol=0.000100 for two consecutive epochs. Stopping.\n",
      "Iteration 106, loss = 0.01488355\n",
      "Training loss did not improve more than tol=0.000100 for two consecutive epochs. Stopping.\n",
      "Iteration 107, loss = 0.01495822\n",
      "Training loss did not improve more than tol=0.000100 for two consecutive epochs. Stopping.\n",
      "Iteration 108, loss = 0.00878043\n",
      "Training loss did not improve more than tol=0.000100 for two consecutive epochs. Stopping.\n"
     ]
    },
    {
     "name": "stderr",
     "output_type": "stream",
     "text": [
      "/work4/kenneth/anaconda3/lib/python3.6/site-packages/sklearn/neural_network/multilayer_perceptron.py:927: DeprecationWarning: The truth value of an empty array is ambiguous. Returning False, but in future this will result in an error. Use `array.size > 0` to check that an array is not empty.\n",
      "  if np.setdiff1d(classes, self.classes_, assume_unique=True):\n",
      "/work4/kenneth/anaconda3/lib/python3.6/site-packages/sklearn/neural_network/multilayer_perceptron.py:927: DeprecationWarning: The truth value of an empty array is ambiguous. Returning False, but in future this will result in an error. Use `array.size > 0` to check that an array is not empty.\n",
      "  if np.setdiff1d(classes, self.classes_, assume_unique=True):\n",
      "/work4/kenneth/anaconda3/lib/python3.6/site-packages/sklearn/neural_network/multilayer_perceptron.py:927: DeprecationWarning: The truth value of an empty array is ambiguous. Returning False, but in future this will result in an error. Use `array.size > 0` to check that an array is not empty.\n",
      "  if np.setdiff1d(classes, self.classes_, assume_unique=True):\n",
      "/work4/kenneth/anaconda3/lib/python3.6/site-packages/sklearn/neural_network/multilayer_perceptron.py:927: DeprecationWarning: The truth value of an empty array is ambiguous. Returning False, but in future this will result in an error. Use `array.size > 0` to check that an array is not empty.\n",
      "  if np.setdiff1d(classes, self.classes_, assume_unique=True):\n",
      "/work4/kenneth/anaconda3/lib/python3.6/site-packages/sklearn/neural_network/multilayer_perceptron.py:927: DeprecationWarning: The truth value of an empty array is ambiguous. Returning False, but in future this will result in an error. Use `array.size > 0` to check that an array is not empty.\n",
      "  if np.setdiff1d(classes, self.classes_, assume_unique=True):\n",
      "/work4/kenneth/anaconda3/lib/python3.6/site-packages/sklearn/neural_network/multilayer_perceptron.py:927: DeprecationWarning: The truth value of an empty array is ambiguous. Returning False, but in future this will result in an error. Use `array.size > 0` to check that an array is not empty.\n",
      "  if np.setdiff1d(classes, self.classes_, assume_unique=True):\n",
      "/work4/kenneth/anaconda3/lib/python3.6/site-packages/sklearn/neural_network/multilayer_perceptron.py:927: DeprecationWarning: The truth value of an empty array is ambiguous. Returning False, but in future this will result in an error. Use `array.size > 0` to check that an array is not empty.\n",
      "  if np.setdiff1d(classes, self.classes_, assume_unique=True):\n",
      "/work4/kenneth/anaconda3/lib/python3.6/site-packages/sklearn/neural_network/multilayer_perceptron.py:927: DeprecationWarning: The truth value of an empty array is ambiguous. Returning False, but in future this will result in an error. Use `array.size > 0` to check that an array is not empty.\n",
      "  if np.setdiff1d(classes, self.classes_, assume_unique=True):\n",
      "/work4/kenneth/anaconda3/lib/python3.6/site-packages/sklearn/neural_network/multilayer_perceptron.py:927: DeprecationWarning: The truth value of an empty array is ambiguous. Returning False, but in future this will result in an error. Use `array.size > 0` to check that an array is not empty.\n",
      "  if np.setdiff1d(classes, self.classes_, assume_unique=True):\n",
      "/work4/kenneth/anaconda3/lib/python3.6/site-packages/sklearn/neural_network/multilayer_perceptron.py:927: DeprecationWarning: The truth value of an empty array is ambiguous. Returning False, but in future this will result in an error. Use `array.size > 0` to check that an array is not empty.\n",
      "  if np.setdiff1d(classes, self.classes_, assume_unique=True):\n",
      "/work4/kenneth/anaconda3/lib/python3.6/site-packages/sklearn/neural_network/multilayer_perceptron.py:927: DeprecationWarning: The truth value of an empty array is ambiguous. Returning False, but in future this will result in an error. Use `array.size > 0` to check that an array is not empty.\n",
      "  if np.setdiff1d(classes, self.classes_, assume_unique=True):\n",
      "/work4/kenneth/anaconda3/lib/python3.6/site-packages/sklearn/neural_network/multilayer_perceptron.py:927: DeprecationWarning: The truth value of an empty array is ambiguous. Returning False, but in future this will result in an error. Use `array.size > 0` to check that an array is not empty.\n",
      "  if np.setdiff1d(classes, self.classes_, assume_unique=True):\n",
      "/work4/kenneth/anaconda3/lib/python3.6/site-packages/sklearn/neural_network/multilayer_perceptron.py:927: DeprecationWarning: The truth value of an empty array is ambiguous. Returning False, but in future this will result in an error. Use `array.size > 0` to check that an array is not empty.\n",
      "  if np.setdiff1d(classes, self.classes_, assume_unique=True):\n",
      "/work4/kenneth/anaconda3/lib/python3.6/site-packages/sklearn/neural_network/multilayer_perceptron.py:927: DeprecationWarning: The truth value of an empty array is ambiguous. Returning False, but in future this will result in an error. Use `array.size > 0` to check that an array is not empty.\n",
      "  if np.setdiff1d(classes, self.classes_, assume_unique=True):\n",
      "/work4/kenneth/anaconda3/lib/python3.6/site-packages/sklearn/neural_network/multilayer_perceptron.py:927: DeprecationWarning: The truth value of an empty array is ambiguous. Returning False, but in future this will result in an error. Use `array.size > 0` to check that an array is not empty.\n",
      "  if np.setdiff1d(classes, self.classes_, assume_unique=True):\n",
      "/work4/kenneth/anaconda3/lib/python3.6/site-packages/sklearn/neural_network/multilayer_perceptron.py:927: DeprecationWarning: The truth value of an empty array is ambiguous. Returning False, but in future this will result in an error. Use `array.size > 0` to check that an array is not empty.\n",
      "  if np.setdiff1d(classes, self.classes_, assume_unique=True):\n",
      "/work4/kenneth/anaconda3/lib/python3.6/site-packages/sklearn/neural_network/multilayer_perceptron.py:927: DeprecationWarning: The truth value of an empty array is ambiguous. Returning False, but in future this will result in an error. Use `array.size > 0` to check that an array is not empty.\n",
      "  if np.setdiff1d(classes, self.classes_, assume_unique=True):\n",
      "/work4/kenneth/anaconda3/lib/python3.6/site-packages/sklearn/neural_network/multilayer_perceptron.py:927: DeprecationWarning: The truth value of an empty array is ambiguous. Returning False, but in future this will result in an error. Use `array.size > 0` to check that an array is not empty.\n",
      "  if np.setdiff1d(classes, self.classes_, assume_unique=True):\n",
      "/work4/kenneth/anaconda3/lib/python3.6/site-packages/sklearn/neural_network/multilayer_perceptron.py:927: DeprecationWarning: The truth value of an empty array is ambiguous. Returning False, but in future this will result in an error. Use `array.size > 0` to check that an array is not empty.\n",
      "  if np.setdiff1d(classes, self.classes_, assume_unique=True):\n",
      "/work4/kenneth/anaconda3/lib/python3.6/site-packages/sklearn/neural_network/multilayer_perceptron.py:927: DeprecationWarning: The truth value of an empty array is ambiguous. Returning False, but in future this will result in an error. Use `array.size > 0` to check that an array is not empty.\n",
      "  if np.setdiff1d(classes, self.classes_, assume_unique=True):\n",
      "/work4/kenneth/anaconda3/lib/python3.6/site-packages/sklearn/neural_network/multilayer_perceptron.py:927: DeprecationWarning: The truth value of an empty array is ambiguous. Returning False, but in future this will result in an error. Use `array.size > 0` to check that an array is not empty.\n",
      "  if np.setdiff1d(classes, self.classes_, assume_unique=True):\n",
      "/work4/kenneth/anaconda3/lib/python3.6/site-packages/sklearn/neural_network/multilayer_perceptron.py:927: DeprecationWarning: The truth value of an empty array is ambiguous. Returning False, but in future this will result in an error. Use `array.size > 0` to check that an array is not empty.\n",
      "  if np.setdiff1d(classes, self.classes_, assume_unique=True):\n",
      "/work4/kenneth/anaconda3/lib/python3.6/site-packages/sklearn/neural_network/multilayer_perceptron.py:927: DeprecationWarning: The truth value of an empty array is ambiguous. Returning False, but in future this will result in an error. Use `array.size > 0` to check that an array is not empty.\n",
      "  if np.setdiff1d(classes, self.classes_, assume_unique=True):\n",
      "/work4/kenneth/anaconda3/lib/python3.6/site-packages/sklearn/neural_network/multilayer_perceptron.py:927: DeprecationWarning: The truth value of an empty array is ambiguous. Returning False, but in future this will result in an error. Use `array.size > 0` to check that an array is not empty.\n",
      "  if np.setdiff1d(classes, self.classes_, assume_unique=True):\n",
      "/work4/kenneth/anaconda3/lib/python3.6/site-packages/sklearn/neural_network/multilayer_perceptron.py:927: DeprecationWarning: The truth value of an empty array is ambiguous. Returning False, but in future this will result in an error. Use `array.size > 0` to check that an array is not empty.\n",
      "  if np.setdiff1d(classes, self.classes_, assume_unique=True):\n",
      "/work4/kenneth/anaconda3/lib/python3.6/site-packages/sklearn/neural_network/multilayer_perceptron.py:927: DeprecationWarning: The truth value of an empty array is ambiguous. Returning False, but in future this will result in an error. Use `array.size > 0` to check that an array is not empty.\n",
      "  if np.setdiff1d(classes, self.classes_, assume_unique=True):\n",
      "/work4/kenneth/anaconda3/lib/python3.6/site-packages/sklearn/neural_network/multilayer_perceptron.py:927: DeprecationWarning: The truth value of an empty array is ambiguous. Returning False, but in future this will result in an error. Use `array.size > 0` to check that an array is not empty.\n",
      "  if np.setdiff1d(classes, self.classes_, assume_unique=True):\n",
      "/work4/kenneth/anaconda3/lib/python3.6/site-packages/sklearn/neural_network/multilayer_perceptron.py:927: DeprecationWarning: The truth value of an empty array is ambiguous. Returning False, but in future this will result in an error. Use `array.size > 0` to check that an array is not empty.\n",
      "  if np.setdiff1d(classes, self.classes_, assume_unique=True):\n",
      "/work4/kenneth/anaconda3/lib/python3.6/site-packages/sklearn/neural_network/multilayer_perceptron.py:927: DeprecationWarning: The truth value of an empty array is ambiguous. Returning False, but in future this will result in an error. Use `array.size > 0` to check that an array is not empty.\n",
      "  if np.setdiff1d(classes, self.classes_, assume_unique=True):\n",
      "/work4/kenneth/anaconda3/lib/python3.6/site-packages/sklearn/neural_network/multilayer_perceptron.py:927: DeprecationWarning: The truth value of an empty array is ambiguous. Returning False, but in future this will result in an error. Use `array.size > 0` to check that an array is not empty.\n",
      "  if np.setdiff1d(classes, self.classes_, assume_unique=True):\n",
      "/work4/kenneth/anaconda3/lib/python3.6/site-packages/sklearn/neural_network/multilayer_perceptron.py:927: DeprecationWarning: The truth value of an empty array is ambiguous. Returning False, but in future this will result in an error. Use `array.size > 0` to check that an array is not empty.\n",
      "  if np.setdiff1d(classes, self.classes_, assume_unique=True):\n",
      "/work4/kenneth/anaconda3/lib/python3.6/site-packages/sklearn/neural_network/multilayer_perceptron.py:927: DeprecationWarning: The truth value of an empty array is ambiguous. Returning False, but in future this will result in an error. Use `array.size > 0` to check that an array is not empty.\n",
      "  if np.setdiff1d(classes, self.classes_, assume_unique=True):\n",
      "/work4/kenneth/anaconda3/lib/python3.6/site-packages/sklearn/neural_network/multilayer_perceptron.py:927: DeprecationWarning: The truth value of an empty array is ambiguous. Returning False, but in future this will result in an error. Use `array.size > 0` to check that an array is not empty.\n",
      "  if np.setdiff1d(classes, self.classes_, assume_unique=True):\n",
      "/work4/kenneth/anaconda3/lib/python3.6/site-packages/sklearn/neural_network/multilayer_perceptron.py:927: DeprecationWarning: The truth value of an empty array is ambiguous. Returning False, but in future this will result in an error. Use `array.size > 0` to check that an array is not empty.\n",
      "  if np.setdiff1d(classes, self.classes_, assume_unique=True):\n"
     ]
    },
    {
     "name": "stdout",
     "output_type": "stream",
     "text": [
      "Iteration 109, loss = 0.03346157\n",
      "Training loss did not improve more than tol=0.000100 for two consecutive epochs. Stopping.\n",
      "Iteration 110, loss = 0.00879612\n",
      "Training loss did not improve more than tol=0.000100 for two consecutive epochs. Stopping.\n",
      "Iteration 111, loss = 0.02100397\n",
      "Training loss did not improve more than tol=0.000100 for two consecutive epochs. Stopping.\n",
      "Iteration 112, loss = 0.01494667\n",
      "Training loss did not improve more than tol=0.000100 for two consecutive epochs. Stopping.\n",
      "Iteration 113, loss = 0.01494372\n",
      "Training loss did not improve more than tol=0.000100 for two consecutive epochs. Stopping.\n",
      "Iteration 114, loss = 0.00253206\n",
      "Iteration 115, loss = 0.01489807\n",
      "Iteration 116, loss = 0.00861475\n",
      "Iteration 117, loss = 0.02750289\n",
      "Training loss did not improve more than tol=0.000100 for two consecutive epochs. Stopping.\n",
      "Iteration 118, loss = 0.02750072\n",
      "Training loss did not improve more than tol=0.000100 for two consecutive epochs. Stopping.\n"
     ]
    },
    {
     "name": "stderr",
     "output_type": "stream",
     "text": [
      "/work4/kenneth/anaconda3/lib/python3.6/site-packages/sklearn/neural_network/multilayer_perceptron.py:927: DeprecationWarning: The truth value of an empty array is ambiguous. Returning False, but in future this will result in an error. Use `array.size > 0` to check that an array is not empty.\n",
      "  if np.setdiff1d(classes, self.classes_, assume_unique=True):\n",
      "/work4/kenneth/anaconda3/lib/python3.6/site-packages/sklearn/neural_network/multilayer_perceptron.py:927: DeprecationWarning: The truth value of an empty array is ambiguous. Returning False, but in future this will result in an error. Use `array.size > 0` to check that an array is not empty.\n",
      "  if np.setdiff1d(classes, self.classes_, assume_unique=True):\n",
      "/work4/kenneth/anaconda3/lib/python3.6/site-packages/sklearn/neural_network/multilayer_perceptron.py:927: DeprecationWarning: The truth value of an empty array is ambiguous. Returning False, but in future this will result in an error. Use `array.size > 0` to check that an array is not empty.\n",
      "  if np.setdiff1d(classes, self.classes_, assume_unique=True):\n",
      "/work4/kenneth/anaconda3/lib/python3.6/site-packages/sklearn/neural_network/multilayer_perceptron.py:927: DeprecationWarning: The truth value of an empty array is ambiguous. Returning False, but in future this will result in an error. Use `array.size > 0` to check that an array is not empty.\n",
      "  if np.setdiff1d(classes, self.classes_, assume_unique=True):\n",
      "/work4/kenneth/anaconda3/lib/python3.6/site-packages/sklearn/neural_network/multilayer_perceptron.py:927: DeprecationWarning: The truth value of an empty array is ambiguous. Returning False, but in future this will result in an error. Use `array.size > 0` to check that an array is not empty.\n",
      "  if np.setdiff1d(classes, self.classes_, assume_unique=True):\n",
      "/work4/kenneth/anaconda3/lib/python3.6/site-packages/sklearn/neural_network/multilayer_perceptron.py:927: DeprecationWarning: The truth value of an empty array is ambiguous. Returning False, but in future this will result in an error. Use `array.size > 0` to check that an array is not empty.\n",
      "  if np.setdiff1d(classes, self.classes_, assume_unique=True):\n",
      "/work4/kenneth/anaconda3/lib/python3.6/site-packages/sklearn/neural_network/multilayer_perceptron.py:927: DeprecationWarning: The truth value of an empty array is ambiguous. Returning False, but in future this will result in an error. Use `array.size > 0` to check that an array is not empty.\n",
      "  if np.setdiff1d(classes, self.classes_, assume_unique=True):\n",
      "/work4/kenneth/anaconda3/lib/python3.6/site-packages/sklearn/neural_network/multilayer_perceptron.py:927: DeprecationWarning: The truth value of an empty array is ambiguous. Returning False, but in future this will result in an error. Use `array.size > 0` to check that an array is not empty.\n",
      "  if np.setdiff1d(classes, self.classes_, assume_unique=True):\n",
      "/work4/kenneth/anaconda3/lib/python3.6/site-packages/sklearn/neural_network/multilayer_perceptron.py:927: DeprecationWarning: The truth value of an empty array is ambiguous. Returning False, but in future this will result in an error. Use `array.size > 0` to check that an array is not empty.\n",
      "  if np.setdiff1d(classes, self.classes_, assume_unique=True):\n"
     ]
    },
    {
     "data": {
      "text/plain": [
       "Incremental(MLPClassifier(activation='relu', alpha=0.0001, batch_size='auto', beta_1=0.9,\n",
       "       beta_2=0.999, early_stopping=False, epsilon=1e-08,\n",
       "       hidden_layer_sizes=(100,), learning_rate='constant',\n",
       "       learning_rate_init=0.001, max_iter=200, momentum=0.9,\n",
       "       nesterovs_momentum=True, power_t=0.5, random_state=1, shuffle=True,\n",
       "       solver='adam', tol=0.0001, validation_fraction=0.1, verbose=True,\n",
       "       warm_start=False))"
      ]
     },
     "execution_count": 20,
     "metadata": {},
     "output_type": "execute_result"
    }
   ],
   "source": [
    "nn.fit(X_cos, Y_cos, classes=[0,1])"
   ]
  },
  {
   "cell_type": "code",
   "execution_count": 22,
   "metadata": {},
   "outputs": [],
   "source": [
    "nn_cos_tenth_prob = nn.predict_proba(X_cos_tenth)"
   ]
  },
  {
   "cell_type": "code",
   "execution_count": 25,
   "metadata": {},
   "outputs": [
    {
     "name": "stdout",
     "output_type": "stream",
     "text": [
      "[########################################] | 100% Completed |  6min  4.6s\n"
     ]
    }
   ],
   "source": [
    "p = ProgressBar()\n",
    "p.register()\n",
    "res = nn_cos_tenth_prob[:,1].compute()\n",
    "p.unregister()"
   ]
  },
  {
   "cell_type": "code",
   "execution_count": 28,
   "metadata": {},
   "outputs": [
    {
     "data": {
      "text/plain": [
       "array([0, 0, 0, ..., 0, 0, 0])"
      ]
     },
     "execution_count": 28,
     "metadata": {},
     "output_type": "execute_result"
    }
   ],
   "source": [
    "Y_cos_tenth.compute()"
   ]
  },
  {
   "cell_type": "code",
   "execution_count": 32,
   "metadata": {},
   "outputs": [
    {
     "data": {
      "text/plain": [
       "array([0.99754769, 0.99743965, 0.99728786, ..., 0.99761713, 0.99757408,\n",
       "       0.99745455])"
      ]
     },
     "execution_count": 32,
     "metadata": {},
     "output_type": "execute_result"
    }
   ],
   "source": [
    "1-res"
   ]
  },
  {
   "cell_type": "code",
   "execution_count": 33,
   "metadata": {},
   "outputs": [
    {
     "name": "stdout",
     "output_type": "stream",
     "text": [
      "Threshold:  0.9977736497541141\n",
      "EER:  0.08507121655384484\n"
     ]
    },
    {
     "data": {
      "image/png": "[encoded data removed]",
      "text/plain": [
       "<Figure size 432x288 with 1 Axes>"
      ]
     },
     "metadata": {},
     "output_type": "display_data"
    }
   ],
   "source": [
    "calcEER(1-res, Y_cos_tenth.compute())"
   ]
  },
  {
   "cell_type": "code",
   "execution_count": 38,
   "metadata": {},
   "outputs": [],
   "source": [
    "def calcEER_print(series, true, name = \"\"):\n",
    "    fpr, tpr, thresholds = roc_curve(true, series)\n",
    "    print(fpr)\n",
    "    print(tpr)\n",
    "    print(thresholds)\n",
    "    fnr = 1 - tpr\n",
    "    minPt = np.nanargmin(np.absolute((fnr - fpr)))\n",
    "    print(\"Threshold: \", thresholds[minPt])\n",
    "    print(\"EER: \", fpr[minPt])\n",
    "    \n",
    "    return"
   ]
  }
 ],
 "metadata": {
  "kernelspec": {
   "display_name": "Python 3",
   "language": "python",
   "name": "python3"
  },
  "language_info": {
   "codemirror_mode": {
    "name": "ipython",
    "version": 3
   },
   "file_extension": ".py",
   "mimetype": "text/x-python",
   "name": "python",
   "nbconvert_exporter": "python",
   "pygments_lexer": "ipython3",
   "version": "3.6.5"
  }
 },
 "nbformat": 4,
 "nbformat_minor": 2
}
