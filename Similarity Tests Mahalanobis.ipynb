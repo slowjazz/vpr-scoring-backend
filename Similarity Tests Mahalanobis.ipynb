{
 "cells": [
  {
   "cell_type": "code",
   "execution_count": 6,
   "metadata": {},
   "outputs": [
    {
     "name": "stdout",
     "output_type": "stream",
     "text": [
      "enroll.ark  enroll.spk2utt  test.ark  test.spk2utt  trials\r\n"
     ]
    }
   ],
   "source": [
    "%matplotlib inline\n",
    "\n",
    "import pandas as pd\n",
    "import numpy as np\n",
    "import matplotlib.pyplot as plt\n",
    "import dask.dataframe as dd\n",
    "import dask\n",
    "from dask import delayed\n",
    "from dask.diagnostics import ProgressBar\n",
    "from dask.multiprocessing import get\n",
    "from sklearn.preprocessing import normalize\n",
    "\n",
    "from scipy.spatial.distance import cosine, mahalanobis, cdist\n",
    "from sklearn.metrics import roc_curve, precision_score\n",
    "from scipy.sparse import csr_matrix\n",
    "from scipy.stats import entropy\n",
    "from scipy.optimize import minimize \n",
    "\n",
    "VEC_DIM = 400\n",
    "\n",
    "FILE_DIR = \"/work4/tzy/spk_verify_backend/exp_dvectors/\" #folder where all files are located\n",
    "!ls /work4/tzy/spk_verify_backend/exp_dvectors"
   ]
  },
  {
   "cell_type": "code",
   "execution_count": 2,
   "metadata": {},
   "outputs": [],
   "source": [
    "def run_test(score_func, sample_size = 0.10, ESPK = 0, TSPK = 0, n_features = 1, dask_array = False, pairs=None):\n",
    "\n",
    "    def score_vectors(x):\n",
    "        \"\"\"\n",
    "        enroll_id: ID of enrolled speaker \n",
    "        test_id: ID of a test speaker\n",
    "        enroll_spk: Dataframe of enroll speakers and processed utterance vectors \n",
    "        test_spk: As enroll_spk\n",
    "        score_func: scoring function that takes 2 speakers' data and produces a score\n",
    "        \"\"\"\n",
    "        enroll_data = ESPK.loc[x['enroll']] # Pandas series\n",
    "        test_data = TSPK.loc[x['test_id']]\n",
    "        res = score_func(enroll_data, test_data)\n",
    "        return res\n",
    "\n",
    "    dask_pairs = dd.from_pandas(pairs, npartitions=16).sample(frac= sample_size, random_state=1)\n",
    "    #dask_pairs = dd.from_pandas(pairs, npartitions=16)\n",
    "    meta = ('x','f8')\n",
    "\n",
    "    scores = 0\n",
    "    \n",
    "    pbar = ProgressBar()\n",
    "    pbar.register()\n",
    "    scores = dask_pairs.map_partitions(lambda df: df.apply(score_vectors ,axis=1), meta=meta)\n",
    "    \n",
    "    #New impl returns data in stacked format and takes 1/3 time\n",
    "    if n_features>1: # This conditional halves the time if n_features==1\n",
    "        scores = dask.array.from_delayed(delayed(np.vstack)(scores.values), shape=(len(dask_pairs), n_features), dtype='float64')\n",
    "        scores = scores.rechunk((1000,500))\n",
    "    res =  dask.array.from_array(np.array(dask_pairs['result']), (1000,))\n",
    "    #res.rechunk((1000,500))\n",
    "    if dask_array:\n",
    "        pbar.unregister()\n",
    "        return scores, res\n",
    "    \n",
    "    #scores = scores if delayed_res else scores.compute() #Turns out it is faster to do dd.compute(*(scores.compute())) if the inner func produces delayed objs\n",
    "    scores = scores.compute(get=get)\n",
    "    res = res.compute()\n",
    "    pbar.unregister()\n",
    "    \n",
    "    return scores, res\n",
    "\n",
    "def calcEER(series, true, name = \"\"):\n",
    "    fpr, tpr, thresholds = roc_curve(true, series)\n",
    "    plt.plot(fpr, tpr)\n",
    "    plt.xlabel('FPR')\n",
    "    plt.ylabel('TPR')\n",
    "    fnr = 1 - tpr\n",
    "    minPt = np.nanargmin(np.absolute((fnr - fpr)))\n",
    "    print(\"Threshold: \", thresholds[minPt])\n",
    "    print(\"EER/FPR: \", fpr[minPt])\n",
    "    print(\"FNR: \", fnr[minPt])\n",
    "    \n",
    "    if name:\n",
    "        plt.savefig(name)\n",
    "    \n",
    "    return\n",
    "\n",
    "def read_trials(filename):\n",
    "    pairs = pd.read_table(FILE_DIR+filename, names = [\"enroll\",\"test_id\",\"result\"], sep = \" \") \n",
    "    print(\"num of trials: \",len(pairs))\n",
    "\n",
    "    # Encode \"nontarget\" as 0, \"target as 1\"\n",
    "    pairs['result'].replace({\"nontarget\":0, \"target\":1}, inplace = True)\n",
    "    print(pairs.head())\n",
    "    return pairs\n",
    "\n",
    "def read_spk2utt_utts(filename):  \n",
    "    \"\"\"Processes the utterance vectors for each speaker\n",
    "        filename: name of spk2utt file\n",
    "        ark_df: corresponding ark file\"\"\"\n",
    "    df = pd.read_table(FILE_DIR+filename, names = ['id', 'utt1', 'utt2','utt3','utt4','utt5'], sep = \" \") \n",
    "    df.dropna(axis=1, inplace=True)\n",
    "    df.index = df['id']\n",
    "    df = df.drop('id', 1)\n",
    "    return df \n",
    "\n",
    "def cos_similarity(vect1, vect2):\n",
    "    return 1 - cosine(vect1, vect2)\n",
    "\n",
    "def getVar(dist1, dist2):\n",
    "    var = np.var(dist1.values, axis=0)\n",
    "    return np.mean(var)\n",
    "\n",
    "# takes spkr from raw, test from spk, and returns a single value\n",
    "def zscore_col(spkr, test):\n",
    "    std = np.std(spkr, axis=0)\n",
    "    scores = np.absolute(np.divide((test-spkr.mean(axis=0)), np.where(std!=0, std, 0.0000001)) )\n",
    "    res = np.median(scores)\n",
    "    return res\n",
    "\n",
    "# def zscore_col_delayed(spkr, test):\n",
    "#     std = delayed(np.std)(spkr, axis=0)\n",
    "#     scores = delayed(np.absolute)(delayed(np.divide)(test - spkr.mean(axis=0), delayed(np.where)(std!=0, std, 0.0000001)))\n",
    "#     res = delayed(np.median)(scores)\n",
    "#     return res\n",
    "\n",
    "# Calculate FPR and FNR with variable thresholds for scores\n",
    "# Takes predictions and results \n",
    "def calcFR(pred, true):\n",
    "    fpr = pred[(pred==1) & (true==0)].sum()/(true==0).sum()\n",
    "    fnr = true[(pred==0) & (true==1)].sum()/(true==1).sum()\n",
    "    print(\"FPR: \", fpr)\n",
    "    print(\"FNR: \", fnr)\n",
    "    \n",
    "def sendScores(scores, res, name):\n",
    "    pd.DataFrame(data=np.vstack((scores, res))).to_hdf(\"scores.h5\", name)\n",
    "    \n",
    "def showH5(filename):\n",
    "    with pd.HDFStore(filename) as store:\n",
    "        print(store.keys())"
   ]
  },
  {
   "cell_type": "code",
   "execution_count": 3,
   "metadata": {},
   "outputs": [],
   "source": [
    "# Load spk data from h5\n",
    "enroll_spk = pd.read_hdf('spk.h5', 'enroll')\n",
    "test_spk = pd.read_hdf('spk.h5', 'test')\n",
    "enroll_spk_raw = pd.read_hdf('spk_raw.h5', 'enroll_raw')\n",
    "test_spk_raw = pd.read_hdf('spk_raw.h5', 'test_raw')"
   ]
  },
  {
   "cell_type": "code",
   "execution_count": 249,
   "metadata": {},
   "outputs": [
    {
     "name": "stdout",
     "output_type": "stream",
     "text": [
      "['/enroll_ark_samp_tenth', '/enroll_ark_samp_tenth_spkrs', '/pairs_samp_100k', '/test_ark_samp_tenth', '/test_ark_samp_tenth_spkrs']\n"
     ]
    }
   ],
   "source": [
    "showH5('samp.h5')"
   ]
  },
  {
   "cell_type": "code",
   "execution_count": 250,
   "metadata": {},
   "outputs": [],
   "source": [
    "enroll_ark_samp = pd.read_hdf('samp.h5', 'enroll_ark_samp_tenth')\n",
    "test_ark_samp = pd.read_hdf('samp.h5', 'test_ark_samp_tenth')\n"
   ]
  },
  {
   "cell_type": "code",
   "execution_count": 252,
   "metadata": {},
   "outputs": [],
   "source": [
    "enroll_utts = read_spk2utt_utts('enroll.spk2utt')\n",
    "test_utts = read_spk2utt_utts('test.spk2utt')"
   ]
  },
  {
   "cell_type": "code",
   "execution_count": 260,
   "metadata": {},
   "outputs": [],
   "source": [
    "pairs_samp = pd.read_hdf('samp.h5', 'pairs_samp_100k')"
   ]
  },
  {
   "cell_type": "code",
   "execution_count": 5,
   "metadata": {},
   "outputs": [
    {
     "name": "stdout",
     "output_type": "stream",
     "text": [
      "num of trials:  11725308\n",
      "       enroll          test_id  result\n",
      "0  4780420411  fc_4779547143_0       0\n",
      "1  4780420411  fc_4779547143_1       0\n",
      "2  4780420411  fc_4779547143_2       0\n",
      "3  4780420411  fc_4779547143_3       0\n",
      "4  4780420411  fc_4779547143_4       0\n"
     ]
    }
   ],
   "source": [
    "pairs = read_trials('trials')"
   ]
  },
  {
   "cell_type": "code",
   "execution_count": 261,
   "metadata": {},
   "outputs": [
    {
     "data": {
      "text/html": [
       "<div>\n",
       "<style scoped>\n",
       "    .dataframe tbody tr th:only-of-type {\n",
       "        vertical-align: middle;\n",
       "    }\n",
       "\n",
       "    .dataframe tbody tr th {\n",
       "        vertical-align: top;\n",
       "    }\n",
       "\n",
       "    .dataframe thead th {\n",
       "        text-align: right;\n",
       "    }\n",
       "</style>\n",
       "<table border=\"1\" class=\"dataframe\">\n",
       "  <thead>\n",
       "    <tr style=\"text-align: right;\">\n",
       "      <th></th>\n",
       "      <th>enroll</th>\n",
       "      <th>test_id</th>\n",
       "      <th>result</th>\n",
       "    </tr>\n",
       "  </thead>\n",
       "  <tbody>\n",
       "    <tr>\n",
       "      <th>51449</th>\n",
       "      <td>4780176039</td>\n",
       "      <td>fc_4779876202_1</td>\n",
       "      <td>0</td>\n",
       "    </tr>\n",
       "    <tr>\n",
       "      <th>51452</th>\n",
       "      <td>4780176039</td>\n",
       "      <td>fc_4779876202_4</td>\n",
       "      <td>0</td>\n",
       "    </tr>\n",
       "    <tr>\n",
       "      <th>51469</th>\n",
       "      <td>4780176039</td>\n",
       "      <td>fc_4777209389_0</td>\n",
       "      <td>0</td>\n",
       "    </tr>\n",
       "    <tr>\n",
       "      <th>51507</th>\n",
       "      <td>4780176039</td>\n",
       "      <td>fc_4777329354_7</td>\n",
       "      <td>0</td>\n",
       "    </tr>\n",
       "    <tr>\n",
       "      <th>51519</th>\n",
       "      <td>4780176039</td>\n",
       "      <td>fc_4777418300_0</td>\n",
       "      <td>0</td>\n",
       "    </tr>\n",
       "  </tbody>\n",
       "</table>\n",
       "</div>"
      ],
      "text/plain": [
       "           enroll          test_id  result\n",
       "51449  4780176039  fc_4779876202_1       0\n",
       "51452  4780176039  fc_4779876202_4       0\n",
       "51469  4780176039  fc_4777209389_0       0\n",
       "51507  4780176039  fc_4777329354_7       0\n",
       "51519  4780176039  fc_4777418300_0       0"
      ]
     },
     "execution_count": 261,
     "metadata": {},
     "output_type": "execute_result"
    }
   ],
   "source": [
    "pairs_samp.head()"
   ]
  },
  {
   "cell_type": "code",
   "execution_count": 211,
   "metadata": {},
   "outputs": [],
   "source": [
    "spkr, test = enroll_ark_samp.loc[4780420411], test_spk_raw.loc['fc_4779547143_0']"
   ]
  },
  {
   "cell_type": "code",
   "execution_count": 267,
   "metadata": {},
   "outputs": [
    {
     "data": {
      "text/plain": [
       "(569, 400)"
      ]
     },
     "execution_count": 267,
     "metadata": {},
     "output_type": "execute_result"
    }
   ],
   "source": [
    "enroll_ark_samp.loc[enroll_utts.loc[4780176039].values].values.shape"
   ]
  },
  {
   "cell_type": "code",
   "execution_count": 288,
   "metadata": {},
   "outputs": [],
   "source": [
    "# also think about length normalization\n",
    "def md_frame(spkr_utts, test):\n",
    "    # pool all spkr d-vecs together\n",
    "    s = enroll_ark_samp.loc[spkr_utts.values].values\n",
    "    c = np.cov(s.T)\n",
    "    return mahalanobis(s.mean(axis=0), test, np.linalg.pinv(c) )"
   ]
  },
  {
   "cell_type": "code",
   "execution_count": 287,
   "metadata": {},
   "outputs": [
    {
     "data": {
      "text/plain": [
       "620.9250764596275"
      ]
     },
     "execution_count": 287,
     "metadata": {},
     "output_type": "execute_result"
    }
   ],
   "source": [
    "md_frame(enroll_utts.loc[4780176039], test_spk.loc['fc_4779876202_1'])"
   ]
  },
  {
   "cell_type": "code",
   "execution_count": 289,
   "metadata": {},
   "outputs": [
    {
     "name": "stdout",
     "output_type": "stream",
     "text": [
      "[########################################] | 100% Completed |  0.1s\n",
      "[########################################] | 100% Completed |  0.1s\n",
      "[########################################] | 100% Completed |  0.2s\n",
      "[########################################] | 100% Completed |  9min 13.2s\n",
      "[########################################] | 100% Completed |  9min 13.3s\n",
      "[########################################] | 100% Completed |  9min 13.4s\n",
      "[########################################] | 100% Completed |  0.1s\n",
      "[########################################] | 100% Completed |  0.2s\n",
      "[########################################] | 100% Completed |  0.2s\n"
     ]
    }
   ],
   "source": [
    "md_scores, res = run_test(md_frame, 0.1, enroll_utts, test_spk, pairs = pairs_samp)"
   ]
  },
  {
   "cell_type": "code",
   "execution_count": 290,
   "metadata": {},
   "outputs": [
    {
     "name": "stdout",
     "output_type": "stream",
     "text": [
      "Threshold:  347.2988798722079\n",
      "EER/FPR:  0.46154726482032504\n",
      "FNR:  0.4444444444444444\n"
     ]
    },
    {
     "data": {
      "image/png": "[encoded data removed]",
      "text/plain": [
       "<Figure size 432x288 with 1 Axes>"
      ]
     },
     "metadata": {},
     "output_type": "display_data"
    }
   ],
   "source": [
    "calcEER(md_scores, res)"
   ]
  },
  {
   "cell_type": "code",
   "execution_count": 247,
   "metadata": {},
   "outputs": [],
   "source": [
    "def md_cut(spkr, test):\n",
    "    c = np.cov(spkr.values.T)\n",
    "    #print(c)\n",
    "    return (mahalanobis(spkr.values[0], test.values[0], np.linalg.inv(c)))"
   ]
  },
  {
   "cell_type": "code",
   "execution_count": 248,
   "metadata": {},
   "outputs": [
    {
     "data": {
      "text/plain": [
       "1017617876.8853925"
      ]
     },
     "execution_count": 248,
     "metadata": {},
     "output_type": "execute_result"
    }
   ],
   "source": [
    "md_cut(spkr, test)"
   ]
  },
  {
   "cell_type": "code",
   "execution_count": 166,
   "metadata": {},
   "outputs": [
    {
     "data": {
      "text/plain": [
       "array([[ 2.31805299e+19, -1.87867258e+18,  7.38062716e+17, ...,\n",
       "        -1.43655028e+19, -3.45502433e+19, -1.29501456e+19],\n",
       "       [ 2.42093746e+19,  2.33708189e+18, -4.47982548e+18, ...,\n",
       "         4.88036979e+16,  8.34247192e+18,  5.25009689e+18],\n",
       "       [-1.74058593e+18, -6.56113468e+18, -4.82235055e+18, ...,\n",
       "         4.10719194e+18, -1.89547593e+19, -7.58319976e+18],\n",
       "       ...,\n",
       "       [ 1.55782522e+19,  6.67990892e+18, -6.69738819e+18, ...,\n",
       "        -1.05748036e+18,  1.57821922e+19,  1.07948367e+19],\n",
       "       [-5.00547259e+18, -7.06273651e+18,  8.16058053e+17, ...,\n",
       "         3.00105405e+18, -2.93823039e+19, -2.39906286e+18],\n",
       "       [-5.48423320e+17, -1.56841411e+18,  1.26922828e+18, ...,\n",
       "        -1.22466697e+18, -2.46847943e+18, -3.65477805e+18]])"
      ]
     },
     "execution_count": 166,
     "metadata": {},
     "output_type": "execute_result"
    }
   ],
   "source": [
    "np.linalg.inv(np.cov(spkr[:3].T))"
   ]
  },
  {
   "cell_type": "code",
   "execution_count": 203,
   "metadata": {},
   "outputs": [],
   "source": [
    "def md(spkr, test):\n",
    "    #d = cdist(spkr.T, test.T, 'mahalanobis', VI= np.linalg.inv(np.cov(spkr[:3].T)))\n",
    "    d = cdist(spkr, test, 'mahalanobis', VI= None)\n",
    "    return d.mean(axis=0).mean()"
   ]
  },
  {
   "cell_type": "code",
   "execution_count": 150,
   "metadata": {},
   "outputs": [
    {
     "name": "stdout",
     "output_type": "stream",
     "text": [
      "[########################################] | 100% Completed |  0.4s\n",
      "[########################################] | 100% Completed |  0.5s\n",
      "[########################################] | 100% Completed |  5min 12.4s\n",
      "[########################################] | 100% Completed |  5min 12.5s\n",
      "[########################################] | 100% Completed |  0.1s\n",
      "[########################################] | 100% Completed |  0.1s\n"
     ]
    }
   ],
   "source": [
    "md_scores, res = run_test(md, 0.01, enroll_spk_raw, test_spk_raw, pairs = pairs)"
   ]
  },
  {
   "cell_type": "code",
   "execution_count": 152,
   "metadata": {},
   "outputs": [
    {
     "name": "stdout",
     "output_type": "stream",
     "text": [
      "Threshold:  2.285357065532386\n",
      "EER/FPR:  0.50281916347731\n",
      "FNR:  0.5\n"
     ]
    },
    {
     "data": {
      "image/png": "[encoded data removed]",
      "text/plain": [
       "<Figure size 432x288 with 1 Axes>"
      ]
     },
     "metadata": {},
     "output_type": "display_data"
    }
   ],
   "source": [
    "calcEER(md_scores, res)"
   ]
  },
  {
   "cell_type": "code",
   "execution_count": 158,
   "metadata": {},
   "outputs": [
    {
     "data": {
      "text/plain": [
       "(array([7.1443e+04, 3.5993e+04, 7.6370e+03, 1.6020e+03, 4.0600e+02,\n",
       "        1.0400e+02, 3.2000e+01, 1.8000e+01, 6.0000e+00, 7.0000e+00]),\n",
       " array([1.84355687, 2.37362727, 2.90369767, 3.43376807, 3.96383847,\n",
       "        4.49390887, 5.02397927, 5.55404967, 6.08412007, 6.61419047,\n",
       "        7.14426087]),\n",
       " <a list of 10 Patch objects>)"
      ]
     },
     "execution_count": 158,
     "metadata": {},
     "output_type": "execute_result"
    },
    {
     "data": {
      "image/png": "[encoded data removed]",
      "text/plain": [
       "<Figure size 432x288 with 1 Axes>"
      ]
     },
     "metadata": {},
     "output_type": "display_data"
    }
   ],
   "source": [
    "plt.hist(md_scores)"
   ]
  },
  {
   "cell_type": "code",
   "execution_count": 159,
   "metadata": {},
   "outputs": [
    {
     "data": {
      "text/plain": [
       "(array([58., 76., 35., 13.,  7.,  1.,  0.,  0.,  0.,  2.]),\n",
       " array([1.93138171, 2.17854349, 2.42570527, 2.67286705, 2.92002882,\n",
       "        3.1671906 , 3.41435238, 3.66151416, 3.90867593, 4.15583771,\n",
       "        4.40299949]),\n",
       " <a list of 10 Patch objects>)"
      ]
     },
     "execution_count": 159,
     "metadata": {},
     "output_type": "execute_result"
    },
    {
     "data": {
      "image/png": "[encoded data removed]",
      "text/plain": [
       "<Figure size 432x288 with 1 Axes>"
      ]
     },
     "metadata": {},
     "output_type": "display_data"
    }
   ],
   "source": [
    "plt.hist(md_scores[res==1])"
   ]
  },
  {
   "cell_type": "markdown",
   "metadata": {},
   "source": [
    "# Conclusion: Mahalanobis distance can be implemented in a number of ways but these trials were unsuccessful - need more work"
   ]
  }
 ],
 "metadata": {
  "kernelspec": {
   "display_name": "Python 3",
   "language": "python",
   "name": "python3"
  },
  "language_info": {
   "codemirror_mode": {
    "name": "ipython",
    "version": 3
   },
   "file_extension": ".py",
   "mimetype": "text/x-python",
   "name": "python",
   "nbconvert_exporter": "python",
   "pygments_lexer": "ipython3",
   "version": "3.6.5"
  }
 },
 "nbformat": 4,
 "nbformat_minor": 2
}
