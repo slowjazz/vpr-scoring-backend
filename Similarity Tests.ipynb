{
 "cells": [
  {
   "cell_type": "code",
   "execution_count": 1,
   "metadata": {},
   "outputs": [
    {
     "name": "stdout",
     "output_type": "stream",
     "text": [
      "enroll.ark  enroll.spk2utt  test.ark  test.spk2utt  trials\r\n"
     ]
    }
   ],
   "source": [
    "%matplotlib inline\n",
    "\n",
    "import pandas as pd\n",
    "import numpy as np\n",
    "import matplotlib.pyplot as plt\n",
    "import dask.dataframe as dd\n",
    "import dask\n",
    "from dask import delayed\n",
    "from dask.diagnostics import ProgressBar\n",
    "from dask.multiprocessing import get\n",
    "from sklearn.preprocessing import normalize\n",
    "from scipy.spatial.distance import cosine, mahalanobis\n",
    "from sklearn.metrics import roc_curve\n",
    "import time, re, os, sys\n",
    "\n",
    "from scipy.sparse import csr_matrix\n",
    "from scipy.stats import zscore\n",
    "from sklearn.svm import SVC\n",
    "from sklearn.ensemble import RandomForestClassifier\n",
    "from sklearn.preprocessing import MinMaxScaler\n",
    "\n",
    "VEC_DIM = 400\n",
    "\n",
    "FILE_DIR = \"/work4/tzy/spk_verify_backend/exp_dvectors/\" #folder where all files are located\n",
    "!ls /work4/tzy/spk_verify_backend/exp_dvectors"
   ]
  },
  {
   "cell_type": "code",
   "execution_count": 2,
   "metadata": {},
   "outputs": [
    {
     "data": {
      "text/html": [
       "<div>\n",
       "<style scoped>\n",
       "    .dataframe tbody tr th:only-of-type {\n",
       "        vertical-align: middle;\n",
       "    }\n",
       "\n",
       "    .dataframe tbody tr th {\n",
       "        vertical-align: top;\n",
       "    }\n",
       "\n",
       "    .dataframe thead th {\n",
       "        text-align: right;\n",
       "    }\n",
       "</style>\n",
       "<table border=\"1\" class=\"dataframe\">\n",
       "  <thead>\n",
       "    <tr style=\"text-align: right;\">\n",
       "      <th></th>\n",
       "      <th>0</th>\n",
       "      <th>1</th>\n",
       "      <th>2</th>\n",
       "      <th>3</th>\n",
       "      <th>4</th>\n",
       "      <th>5</th>\n",
       "      <th>6</th>\n",
       "      <th>7</th>\n",
       "      <th>8</th>\n",
       "      <th>9</th>\n",
       "      <th>...</th>\n",
       "      <th>390</th>\n",
       "      <th>391</th>\n",
       "      <th>392</th>\n",
       "      <th>393</th>\n",
       "      <th>394</th>\n",
       "      <th>395</th>\n",
       "      <th>396</th>\n",
       "      <th>397</th>\n",
       "      <th>398</th>\n",
       "      <th>399</th>\n",
       "    </tr>\n",
       "    <tr>\n",
       "      <th>id</th>\n",
       "      <th></th>\n",
       "      <th></th>\n",
       "      <th></th>\n",
       "      <th></th>\n",
       "      <th></th>\n",
       "      <th></th>\n",
       "      <th></th>\n",
       "      <th></th>\n",
       "      <th></th>\n",
       "      <th></th>\n",
       "      <th></th>\n",
       "      <th></th>\n",
       "      <th></th>\n",
       "      <th></th>\n",
       "      <th></th>\n",
       "      <th></th>\n",
       "      <th></th>\n",
       "      <th></th>\n",
       "      <th></th>\n",
       "      <th></th>\n",
       "      <th></th>\n",
       "    </tr>\n",
       "  </thead>\n",
       "  <tbody>\n",
       "    <tr>\n",
       "      <th>4780420411</th>\n",
       "      <td>0.014026</td>\n",
       "      <td>0.054789</td>\n",
       "      <td>0.025725</td>\n",
       "      <td>0.016863</td>\n",
       "      <td>0.063301</td>\n",
       "      <td>0.114704</td>\n",
       "      <td>0.070258</td>\n",
       "      <td>0.000567</td>\n",
       "      <td>0.045729</td>\n",
       "      <td>0.044964</td>\n",
       "      <td>...</td>\n",
       "      <td>0.077940</td>\n",
       "      <td>0.032820</td>\n",
       "      <td>0.022656</td>\n",
       "      <td>0.028034</td>\n",
       "      <td>0.035296</td>\n",
       "      <td>0.046987</td>\n",
       "      <td>0.036155</td>\n",
       "      <td>0.016219</td>\n",
       "      <td>0.011507</td>\n",
       "      <td>0.070774</td>\n",
       "    </tr>\n",
       "    <tr>\n",
       "      <th>4779876202</th>\n",
       "      <td>0.030303</td>\n",
       "      <td>0.022931</td>\n",
       "      <td>0.033079</td>\n",
       "      <td>0.058957</td>\n",
       "      <td>0.079296</td>\n",
       "      <td>0.049778</td>\n",
       "      <td>0.068490</td>\n",
       "      <td>0.003525</td>\n",
       "      <td>0.072742</td>\n",
       "      <td>0.030553</td>\n",
       "      <td>...</td>\n",
       "      <td>0.061358</td>\n",
       "      <td>0.044687</td>\n",
       "      <td>0.020264</td>\n",
       "      <td>0.007364</td>\n",
       "      <td>0.051940</td>\n",
       "      <td>0.062175</td>\n",
       "      <td>0.052892</td>\n",
       "      <td>0.026529</td>\n",
       "      <td>0.014570</td>\n",
       "      <td>0.025142</td>\n",
       "    </tr>\n",
       "    <tr>\n",
       "      <th>4778192381</th>\n",
       "      <td>0.055344</td>\n",
       "      <td>0.035090</td>\n",
       "      <td>0.026809</td>\n",
       "      <td>0.068782</td>\n",
       "      <td>0.045188</td>\n",
       "      <td>0.081985</td>\n",
       "      <td>0.033221</td>\n",
       "      <td>0.012631</td>\n",
       "      <td>0.026813</td>\n",
       "      <td>0.046449</td>\n",
       "      <td>...</td>\n",
       "      <td>0.075565</td>\n",
       "      <td>0.056208</td>\n",
       "      <td>0.029324</td>\n",
       "      <td>0.006928</td>\n",
       "      <td>0.055884</td>\n",
       "      <td>0.062326</td>\n",
       "      <td>0.022718</td>\n",
       "      <td>0.040709</td>\n",
       "      <td>0.015717</td>\n",
       "      <td>0.102008</td>\n",
       "    </tr>\n",
       "    <tr>\n",
       "      <th>4780265567</th>\n",
       "      <td>0.012624</td>\n",
       "      <td>0.058721</td>\n",
       "      <td>0.033892</td>\n",
       "      <td>0.054483</td>\n",
       "      <td>0.041132</td>\n",
       "      <td>0.115025</td>\n",
       "      <td>0.074992</td>\n",
       "      <td>0.000893</td>\n",
       "      <td>0.087311</td>\n",
       "      <td>0.076028</td>\n",
       "      <td>...</td>\n",
       "      <td>0.068856</td>\n",
       "      <td>0.051828</td>\n",
       "      <td>0.054921</td>\n",
       "      <td>0.011270</td>\n",
       "      <td>0.066159</td>\n",
       "      <td>0.043747</td>\n",
       "      <td>0.031619</td>\n",
       "      <td>0.033663</td>\n",
       "      <td>0.032096</td>\n",
       "      <td>0.073277</td>\n",
       "    </tr>\n",
       "    <tr>\n",
       "      <th>4777987958</th>\n",
       "      <td>0.054659</td>\n",
       "      <td>0.054360</td>\n",
       "      <td>0.014665</td>\n",
       "      <td>0.050420</td>\n",
       "      <td>0.064626</td>\n",
       "      <td>0.115716</td>\n",
       "      <td>0.107942</td>\n",
       "      <td>0.008013</td>\n",
       "      <td>0.069778</td>\n",
       "      <td>0.092527</td>\n",
       "      <td>...</td>\n",
       "      <td>0.102160</td>\n",
       "      <td>0.041830</td>\n",
       "      <td>0.015103</td>\n",
       "      <td>0.031850</td>\n",
       "      <td>0.061312</td>\n",
       "      <td>0.079773</td>\n",
       "      <td>0.071351</td>\n",
       "      <td>0.070432</td>\n",
       "      <td>0.031396</td>\n",
       "      <td>0.099793</td>\n",
       "    </tr>\n",
       "  </tbody>\n",
       "</table>\n",
       "<p>5 rows × 400 columns</p>\n",
       "</div>"
      ],
      "text/plain": [
       "                   0         1         2         3         4         5  \\\n",
       "id                                                                       \n",
       "4780420411  0.014026  0.054789  0.025725  0.016863  0.063301  0.114704   \n",
       "4779876202  0.030303  0.022931  0.033079  0.058957  0.079296  0.049778   \n",
       "4778192381  0.055344  0.035090  0.026809  0.068782  0.045188  0.081985   \n",
       "4780265567  0.012624  0.058721  0.033892  0.054483  0.041132  0.115025   \n",
       "4777987958  0.054659  0.054360  0.014665  0.050420  0.064626  0.115716   \n",
       "\n",
       "                   6         7         8         9    ...          390  \\\n",
       "id                                                    ...                \n",
       "4780420411  0.070258  0.000567  0.045729  0.044964    ...     0.077940   \n",
       "4779876202  0.068490  0.003525  0.072742  0.030553    ...     0.061358   \n",
       "4778192381  0.033221  0.012631  0.026813  0.046449    ...     0.075565   \n",
       "4780265567  0.074992  0.000893  0.087311  0.076028    ...     0.068856   \n",
       "4777987958  0.107942  0.008013  0.069778  0.092527    ...     0.102160   \n",
       "\n",
       "                 391       392       393       394       395       396  \\\n",
       "id                                                                       \n",
       "4780420411  0.032820  0.022656  0.028034  0.035296  0.046987  0.036155   \n",
       "4779876202  0.044687  0.020264  0.007364  0.051940  0.062175  0.052892   \n",
       "4778192381  0.056208  0.029324  0.006928  0.055884  0.062326  0.022718   \n",
       "4780265567  0.051828  0.054921  0.011270  0.066159  0.043747  0.031619   \n",
       "4777987958  0.041830  0.015103  0.031850  0.061312  0.079773  0.071351   \n",
       "\n",
       "                 397       398       399  \n",
       "id                                        \n",
       "4780420411  0.016219  0.011507  0.070774  \n",
       "4779876202  0.026529  0.014570  0.025142  \n",
       "4778192381  0.040709  0.015717  0.102008  \n",
       "4780265567  0.033663  0.032096  0.073277  \n",
       "4777987958  0.070432  0.031396  0.099793  \n",
       "\n",
       "[5 rows x 400 columns]"
      ]
     },
     "execution_count": 2,
     "metadata": {},
     "output_type": "execute_result"
    }
   ],
   "source": [
    "# Load spk data from h5\n",
    "enroll_spk = pd.read_hdf('spk.h5', 'enroll')\n",
    "test_spk = pd.read_hdf('spk.h5', 'test')\n",
    "enroll_spk_raw = pd.read_hdf('spk_raw.h5', 'enroll_raw')\n",
    "test_spk_raw = pd.read_hdf('spk_raw.h5', 'test_raw')\n",
    "\n",
    "enroll_spk.head()"
   ]
  },
  {
   "cell_type": "code",
   "execution_count": 42,
   "metadata": {},
   "outputs": [],
   "source": [
    "ESPK = enroll_spk_raw\n",
    "TSPK = test_spk_raw\n",
    "score_func = 0"
   ]
  },
  {
   "cell_type": "code",
   "execution_count": 12,
   "metadata": {},
   "outputs": [],
   "source": [
    "def run_test(score_func, sample_size = 0.10, ESPK = enroll_spk_raw, TSPK = test_spk):\n",
    "    def score_vectors(x):\n",
    "        \"\"\"\n",
    "        enroll_id: ID of enrolled speaker \n",
    "        test_id: ID of a test speaker\n",
    "        enroll_spk: Dataframe of enroll speakers and processed utterance vectors \n",
    "        test_spk: As enroll_spk\n",
    "        score_func: scoring function that takes 2 speakers' data and produces a score\n",
    "        \"\"\"\n",
    "        enroll_data = ESPK.loc[x['enroll']] # Pandas series\n",
    "        test_data = TSPK.loc[x['test_id']]\n",
    "        res = score_func(enroll_data, test_data)\n",
    "        return res\n",
    "\n",
    "\n",
    "    dask_pairs = dd.from_pandas(pairs, npartitions=16).sample(frac= sample_size, random_state=1)\n",
    "    #dask_pairs = dd.from_pandas(pairs, npartitions=16)\n",
    "    meta = ('x','f8')\n",
    "\n",
    "    scores = 0\n",
    "    \n",
    "    pbar = ProgressBar()\n",
    "    pbar.register()\n",
    "    scores = dask_pairs.map_partitions(lambda df: df.apply(score_vectors ,axis=1), meta=meta)\n",
    "    \n",
    "    #New impl returns data in stacked format and takes 1/3 time\n",
    "    \n",
    "    scores = dask.array.from_delayed(delayed(np.vstack)(scores.values), shape=((1000,)), dtype='float64')\n",
    "    scores = scores.rechunk((1000,))\n",
    "    scores = scores.compute(get=get)\n",
    "    pbar.unregister()\n",
    "    \n",
    "    res = 0\n",
    "    res = dask_pairs['result'].values.compute()\n",
    "\n",
    "    return scores, res"
   ]
  },
  {
   "cell_type": "code",
   "execution_count": 24,
   "metadata": {},
   "outputs": [],
   "source": [
    "def calcEER(series, true, name = \"\"):\n",
    "    fpr, tpr, thresholds = roc_curve(true, series)\n",
    "    plt.plot(fpr, tpr)\n",
    "    plt.xlabel('FPR')\n",
    "    plt.ylabel('TPR')\n",
    "    fnr = 1 - tpr\n",
    "    minPt = np.nanargmin(np.absolute((fnr - fpr)))\n",
    "    print(\"Threshold: \", thresholds[minPt])\n",
    "    print(\"EER: \", fpr[minPt])\n",
    "    \n",
    "    if name:\n",
    "        plt.savefig(name)\n",
    "    \n",
    "    return"
   ]
  },
  {
   "cell_type": "code",
   "execution_count": 5,
   "metadata": {},
   "outputs": [],
   "source": [
    "# For tests\n",
    "\n",
    "spkr = enroll_spk_raw.loc[4780420411]\n",
    "test = test_spk_raw.loc['fc_4779547143_0']"
   ]
  },
  {
   "cell_type": "code",
   "execution_count": 7,
   "metadata": {},
   "outputs": [
    {
     "name": "stdout",
     "output_type": "stream",
     "text": [
      "num of trials:  11725308\n"
     ]
    },
    {
     "data": {
      "text/html": [
       "<div>\n",
       "<style scoped>\n",
       "    .dataframe tbody tr th:only-of-type {\n",
       "        vertical-align: middle;\n",
       "    }\n",
       "\n",
       "    .dataframe tbody tr th {\n",
       "        vertical-align: top;\n",
       "    }\n",
       "\n",
       "    .dataframe thead th {\n",
       "        text-align: right;\n",
       "    }\n",
       "</style>\n",
       "<table border=\"1\" class=\"dataframe\">\n",
       "  <thead>\n",
       "    <tr style=\"text-align: right;\">\n",
       "      <th></th>\n",
       "      <th>enroll</th>\n",
       "      <th>test_id</th>\n",
       "      <th>result</th>\n",
       "    </tr>\n",
       "  </thead>\n",
       "  <tbody>\n",
       "    <tr>\n",
       "      <th>0</th>\n",
       "      <td>4780420411</td>\n",
       "      <td>fc_4779547143_0</td>\n",
       "      <td>0</td>\n",
       "    </tr>\n",
       "    <tr>\n",
       "      <th>1</th>\n",
       "      <td>4780420411</td>\n",
       "      <td>fc_4779547143_1</td>\n",
       "      <td>0</td>\n",
       "    </tr>\n",
       "    <tr>\n",
       "      <th>2</th>\n",
       "      <td>4780420411</td>\n",
       "      <td>fc_4779547143_2</td>\n",
       "      <td>0</td>\n",
       "    </tr>\n",
       "    <tr>\n",
       "      <th>3</th>\n",
       "      <td>4780420411</td>\n",
       "      <td>fc_4779547143_3</td>\n",
       "      <td>0</td>\n",
       "    </tr>\n",
       "    <tr>\n",
       "      <th>4</th>\n",
       "      <td>4780420411</td>\n",
       "      <td>fc_4779547143_4</td>\n",
       "      <td>0</td>\n",
       "    </tr>\n",
       "  </tbody>\n",
       "</table>\n",
       "</div>"
      ],
      "text/plain": [
       "       enroll          test_id  result\n",
       "0  4780420411  fc_4779547143_0       0\n",
       "1  4780420411  fc_4779547143_1       0\n",
       "2  4780420411  fc_4779547143_2       0\n",
       "3  4780420411  fc_4779547143_3       0\n",
       "4  4780420411  fc_4779547143_4       0"
      ]
     },
     "execution_count": 7,
     "metadata": {},
     "output_type": "execute_result"
    }
   ],
   "source": [
    "def read_trials(filename):\n",
    "    df = pd.read_table(FILE_DIR+filename, names = [\"enroll\",\"test_id\",\"result\"], sep = \" \") \n",
    "    return df\n",
    "\n",
    "pairs = read_trials(\"trials\")\n",
    "print(\"num of trials: \",len(pairs))\n",
    "\n",
    "# Encode \"nontarget\" as 0, \"target as 1\"\n",
    "pairs['result'].replace({\"nontarget\":0, \"target\":1}, inplace = True)\n",
    "pairs.head()"
   ]
  },
  {
   "cell_type": "code",
   "execution_count": 13,
   "metadata": {
    "collapsed": true
   },
   "outputs": [
    {
     "data": {
      "text/html": [
       "<div>\n",
       "<style scoped>\n",
       "    .dataframe tbody tr th:only-of-type {\n",
       "        vertical-align: middle;\n",
       "    }\n",
       "\n",
       "    .dataframe tbody tr th {\n",
       "        vertical-align: top;\n",
       "    }\n",
       "\n",
       "    .dataframe thead th {\n",
       "        text-align: right;\n",
       "    }\n",
       "</style>\n",
       "<table border=\"1\" class=\"dataframe\">\n",
       "  <thead>\n",
       "    <tr style=\"text-align: right;\">\n",
       "      <th></th>\n",
       "      <th>enroll</th>\n",
       "      <th>test_id</th>\n",
       "      <th>result</th>\n",
       "    </tr>\n",
       "  </thead>\n",
       "  <tbody>\n",
       "    <tr>\n",
       "      <th>5988</th>\n",
       "      <td>4780420411</td>\n",
       "      <td>fc_4780420411_0</td>\n",
       "      <td>1</td>\n",
       "    </tr>\n",
       "    <tr>\n",
       "      <th>5989</th>\n",
       "      <td>4780420411</td>\n",
       "      <td>fc_4780420411_1</td>\n",
       "      <td>1</td>\n",
       "    </tr>\n",
       "    <tr>\n",
       "      <th>5990</th>\n",
       "      <td>4780420411</td>\n",
       "      <td>fc_4780420411_2</td>\n",
       "      <td>1</td>\n",
       "    </tr>\n",
       "    <tr>\n",
       "      <th>5991</th>\n",
       "      <td>4780420411</td>\n",
       "      <td>fc_4780420411_3</td>\n",
       "      <td>1</td>\n",
       "    </tr>\n",
       "    <tr>\n",
       "      <th>5992</th>\n",
       "      <td>4780420411</td>\n",
       "      <td>fc_4780420411_4</td>\n",
       "      <td>1</td>\n",
       "    </tr>\n",
       "    <tr>\n",
       "      <th>5993</th>\n",
       "      <td>4780420411</td>\n",
       "      <td>fc_4780420411_5</td>\n",
       "      <td>1</td>\n",
       "    </tr>\n",
       "    <tr>\n",
       "      <th>5994</th>\n",
       "      <td>4780420411</td>\n",
       "      <td>fc_4780420411_6</td>\n",
       "      <td>1</td>\n",
       "    </tr>\n",
       "    <tr>\n",
       "      <th>5995</th>\n",
       "      <td>4780420411</td>\n",
       "      <td>fc_4780420411_7</td>\n",
       "      <td>1</td>\n",
       "    </tr>\n",
       "    <tr>\n",
       "      <th>4502097</th>\n",
       "      <td>4780420411</td>\n",
       "      <td>nc_4780420411_0</td>\n",
       "      <td>1</td>\n",
       "    </tr>\n",
       "    <tr>\n",
       "      <th>4502098</th>\n",
       "      <td>4780420411</td>\n",
       "      <td>nc_4780420411_1</td>\n",
       "      <td>1</td>\n",
       "    </tr>\n",
       "    <tr>\n",
       "      <th>4502099</th>\n",
       "      <td>4780420411</td>\n",
       "      <td>nc_4780420411_2</td>\n",
       "      <td>1</td>\n",
       "    </tr>\n",
       "    <tr>\n",
       "      <th>4502100</th>\n",
       "      <td>4780420411</td>\n",
       "      <td>nc_4780420411_3</td>\n",
       "      <td>1</td>\n",
       "    </tr>\n",
       "    <tr>\n",
       "      <th>4502101</th>\n",
       "      <td>4780420411</td>\n",
       "      <td>nc_4780420411_4</td>\n",
       "      <td>1</td>\n",
       "    </tr>\n",
       "    <tr>\n",
       "      <th>4502102</th>\n",
       "      <td>4780420411</td>\n",
       "      <td>nc_4780420411_5</td>\n",
       "      <td>1</td>\n",
       "    </tr>\n",
       "    <tr>\n",
       "      <th>8668980</th>\n",
       "      <td>4780420411</td>\n",
       "      <td>nn_4780420411_0</td>\n",
       "      <td>1</td>\n",
       "    </tr>\n",
       "    <tr>\n",
       "      <th>8668981</th>\n",
       "      <td>4780420411</td>\n",
       "      <td>nn_4780420411_1</td>\n",
       "      <td>1</td>\n",
       "    </tr>\n",
       "    <tr>\n",
       "      <th>8668982</th>\n",
       "      <td>4780420411</td>\n",
       "      <td>nn_4780420411_2</td>\n",
       "      <td>1</td>\n",
       "    </tr>\n",
       "    <tr>\n",
       "      <th>8668983</th>\n",
       "      <td>4780420411</td>\n",
       "      <td>nn_4780420411_3</td>\n",
       "      <td>1</td>\n",
       "    </tr>\n",
       "    <tr>\n",
       "      <th>8668984</th>\n",
       "      <td>4780420411</td>\n",
       "      <td>nn_4780420411_4</td>\n",
       "      <td>1</td>\n",
       "    </tr>\n",
       "    <tr>\n",
       "      <th>8668985</th>\n",
       "      <td>4780420411</td>\n",
       "      <td>nn_4780420411_5</td>\n",
       "      <td>1</td>\n",
       "    </tr>\n",
       "    <tr>\n",
       "      <th>8668986</th>\n",
       "      <td>4780420411</td>\n",
       "      <td>nn_4780420411_6</td>\n",
       "      <td>1</td>\n",
       "    </tr>\n",
       "    <tr>\n",
       "      <th>8668987</th>\n",
       "      <td>4780420411</td>\n",
       "      <td>nn_4780420411_7</td>\n",
       "      <td>1</td>\n",
       "    </tr>\n",
       "    <tr>\n",
       "      <th>8668988</th>\n",
       "      <td>4780420411</td>\n",
       "      <td>nn_4780420411_8</td>\n",
       "      <td>1</td>\n",
       "    </tr>\n",
       "  </tbody>\n",
       "</table>\n",
       "</div>"
      ],
      "text/plain": [
       "             enroll          test_id  result\n",
       "5988     4780420411  fc_4780420411_0       1\n",
       "5989     4780420411  fc_4780420411_1       1\n",
       "5990     4780420411  fc_4780420411_2       1\n",
       "5991     4780420411  fc_4780420411_3       1\n",
       "5992     4780420411  fc_4780420411_4       1\n",
       "5993     4780420411  fc_4780420411_5       1\n",
       "5994     4780420411  fc_4780420411_6       1\n",
       "5995     4780420411  fc_4780420411_7       1\n",
       "4502097  4780420411  nc_4780420411_0       1\n",
       "4502098  4780420411  nc_4780420411_1       1\n",
       "4502099  4780420411  nc_4780420411_2       1\n",
       "4502100  4780420411  nc_4780420411_3       1\n",
       "4502101  4780420411  nc_4780420411_4       1\n",
       "4502102  4780420411  nc_4780420411_5       1\n",
       "8668980  4780420411  nn_4780420411_0       1\n",
       "8668981  4780420411  nn_4780420411_1       1\n",
       "8668982  4780420411  nn_4780420411_2       1\n",
       "8668983  4780420411  nn_4780420411_3       1\n",
       "8668984  4780420411  nn_4780420411_4       1\n",
       "8668985  4780420411  nn_4780420411_5       1\n",
       "8668986  4780420411  nn_4780420411_6       1\n",
       "8668987  4780420411  nn_4780420411_7       1\n",
       "8668988  4780420411  nn_4780420411_8       1"
      ]
     },
     "execution_count": 13,
     "metadata": {},
     "output_type": "execute_result"
    }
   ],
   "source": [
    "pairs[(pairs['enroll']==4780420411) & (pairs['result']==1)]"
   ]
  },
  {
   "cell_type": "markdown",
   "metadata": {},
   "source": [
    "## Plan\n",
    "1. Estimate distributions of each speaker\n",
    "2. Get probability that avg test vec is in that dist, make this the score"
   ]
  },
  {
   "cell_type": "markdown",
   "metadata": {},
   "source": [
    "### 1. Assume gaussian dists"
   ]
  },
  {
   "cell_type": "code",
   "execution_count": 244,
   "metadata": {},
   "outputs": [],
   "source": [
    "mean = np.mean(spkr, axis=0)\n",
    "cov = np.cov(spkr, rowvar = False)"
   ]
  },
  {
   "cell_type": "code",
   "execution_count": 13,
   "metadata": {},
   "outputs": [],
   "source": [
    "def zscore(dist1, dist2):\n",
    "    cov = np.cov(dist1 , rowvar = False )\n",
    "    u =np.mean(dist1, axis=0)\n",
    "    x = (np.mean(dist2, axis=0))\n",
    "    return np.sum(np.matmul(x-u, cov))"
   ]
  },
  {
   "cell_type": "code",
   "execution_count": 8,
   "metadata": {},
   "outputs": [],
   "source": [
    "%load_ext line_profiler"
   ]
  },
  {
   "cell_type": "code",
   "execution_count": 11,
   "metadata": {},
   "outputs": [],
   "source": [
    "%lprun -f zscore zscore(spkr, test)"
   ]
  },
  {
   "cell_type": "code",
   "execution_count": 14,
   "metadata": {},
   "outputs": [
    {
     "data": {
      "text/plain": [
       "0.003234900347057228"
      ]
     },
     "execution_count": 14,
     "metadata": {},
     "output_type": "execute_result"
    }
   ],
   "source": [
    "zscore(spkr, test)"
   ]
  },
  {
   "cell_type": "code",
   "execution_count": null,
   "metadata": {},
   "outputs": [],
   "source": [
    "res = 0\n",
    "res = dask_pairs['result'].values.compute()\n",
    "\n",
    "calcEER(scores, res) "
   ]
  },
  {
   "cell_type": "markdown",
   "metadata": {},
   "source": [
    "### 1. Results\n",
    "\n",
    "**0.47** EER this might not be viable, or formula needs to be revised"
   ]
  },
  {
   "cell_type": "markdown",
   "metadata": {},
   "source": [
    "## 1a. Z-score where z-score is calculated column-wise for 400 variables and then summed"
   ]
  },
  {
   "cell_type": "code",
   "execution_count": 245,
   "metadata": {},
   "outputs": [
    {
     "data": {
      "text/html": [
       "<div>\n",
       "<style scoped>\n",
       "    .dataframe tbody tr th:only-of-type {\n",
       "        vertical-align: middle;\n",
       "    }\n",
       "\n",
       "    .dataframe tbody tr th {\n",
       "        vertical-align: top;\n",
       "    }\n",
       "\n",
       "    .dataframe thead th {\n",
       "        text-align: right;\n",
       "    }\n",
       "</style>\n",
       "<table border=\"1\" class=\"dataframe\">\n",
       "  <thead>\n",
       "    <tr style=\"text-align: right;\">\n",
       "      <th></th>\n",
       "      <th>enroll</th>\n",
       "      <th>test_id</th>\n",
       "      <th>result</th>\n",
       "    </tr>\n",
       "  </thead>\n",
       "  <tbody>\n",
       "    <tr>\n",
       "      <th>0</th>\n",
       "      <td>4780420411</td>\n",
       "      <td>fc_4779547143_0</td>\n",
       "      <td>0</td>\n",
       "    </tr>\n",
       "    <tr>\n",
       "      <th>1</th>\n",
       "      <td>4780420411</td>\n",
       "      <td>fc_4779547143_1</td>\n",
       "      <td>0</td>\n",
       "    </tr>\n",
       "    <tr>\n",
       "      <th>2</th>\n",
       "      <td>4780420411</td>\n",
       "      <td>fc_4779547143_2</td>\n",
       "      <td>0</td>\n",
       "    </tr>\n",
       "    <tr>\n",
       "      <th>3</th>\n",
       "      <td>4780420411</td>\n",
       "      <td>fc_4779547143_3</td>\n",
       "      <td>0</td>\n",
       "    </tr>\n",
       "    <tr>\n",
       "      <th>4</th>\n",
       "      <td>4780420411</td>\n",
       "      <td>fc_4779547143_4</td>\n",
       "      <td>0</td>\n",
       "    </tr>\n",
       "  </tbody>\n",
       "</table>\n",
       "</div>"
      ],
      "text/plain": [
       "       enroll          test_id  result\n",
       "0  4780420411  fc_4779547143_0       0\n",
       "1  4780420411  fc_4779547143_1       0\n",
       "2  4780420411  fc_4779547143_2       0\n",
       "3  4780420411  fc_4779547143_3       0\n",
       "4  4780420411  fc_4779547143_4       0"
      ]
     },
     "execution_count": 245,
     "metadata": {},
     "output_type": "execute_result"
    }
   ],
   "source": [
    "pairs.head()"
   ]
  },
  {
   "cell_type": "code",
   "execution_count": 242,
   "metadata": {},
   "outputs": [
    {
     "data": {
      "text/plain": [
       "400"
      ]
     },
     "execution_count": 242,
     "metadata": {},
     "output_type": "execute_result"
    }
   ],
   "source": [
    "np.count_nonzero(enroll_spk_raw.loc[4780420411].std(axis=0))"
   ]
  },
  {
   "cell_type": "code",
   "execution_count": 256,
   "metadata": {},
   "outputs": [],
   "source": [
    "def zscore_col(dist1, dist2):\n",
    "    var = np.std(dist1, axis=0)\n",
    "    scores = np.absolute(np.divide((dist2-dist1.mean(axis=0)), var,where=var!=0))\n",
    "    return np.sum(scores)"
   ]
  },
  {
   "cell_type": "code",
   "execution_count": 246,
   "metadata": {},
   "outputs": [],
   "source": [
    "spkr = enroll_spk_raw.loc[4780420411]\n",
    "test = test_spk.loc['fc_4779547143_0']"
   ]
  },
  {
   "cell_type": "code",
   "execution_count": 257,
   "metadata": {},
   "outputs": [
    {
     "data": {
      "text/plain": [
       "1147.6701111903144"
      ]
     },
     "execution_count": 257,
     "metadata": {},
     "output_type": "execute_result"
    }
   ],
   "source": [
    "zscore_col(spkr, test)"
   ]
  },
  {
   "cell_type": "code",
   "execution_count": 93,
   "metadata": {},
   "outputs": [
    {
     "data": {
      "text/plain": [
       "utt\n",
       "utt1    0.0\n",
       "utt2    0.0\n",
       "utt3    0.0\n",
       "utt4    0.0\n",
       "utt5    0.0\n",
       "Name: 136, dtype: float64"
      ]
     },
     "execution_count": 93,
     "metadata": {},
     "output_type": "execute_result"
    }
   ],
   "source": [
    "enroll_spk_raw.loc[4780319970]['136']\n",
    "# When all column values are 0 for a speaker's vectors, this causes problems with division"
   ]
  },
  {
   "cell_type": "code",
   "execution_count": 90,
   "metadata": {},
   "outputs": [
    {
     "name": "stdout",
     "output_type": "stream",
     "text": [
      "0      0.005886\n",
      "1      0.006822\n",
      "2      0.003440\n",
      "3      0.009707\n",
      "4      0.011258\n",
      "5      0.006193\n",
      "6      0.015758\n",
      "7      0.004971\n",
      "8      0.008763\n",
      "9      0.011439\n",
      "10     0.006664\n",
      "11     0.015116\n",
      "12     0.005871\n",
      "13     0.007955\n",
      "14     0.007760\n",
      "15     0.004314\n",
      "16     0.009065\n",
      "17     0.004496\n",
      "18     0.006016\n",
      "19     0.002228\n",
      "20     0.009529\n",
      "21     0.009580\n",
      "22     0.004847\n",
      "23     0.007300\n",
      "24     0.015682\n",
      "25     0.011731\n",
      "26     0.009244\n",
      "27     0.005784\n",
      "28     0.014392\n",
      "29     0.007693\n",
      "30     0.003727\n",
      "31     0.009306\n",
      "32     0.005798\n",
      "33     0.015436\n",
      "34     0.004620\n",
      "35     0.011637\n",
      "36     0.012151\n",
      "37     0.014581\n",
      "38     0.005019\n",
      "39     0.013985\n",
      "40     0.008303\n",
      "41     0.017241\n",
      "42     0.002412\n",
      "43     0.005635\n",
      "44     0.010133\n",
      "45     0.013725\n",
      "46     0.005951\n",
      "47     0.004955\n",
      "48     0.010483\n",
      "49     0.002790\n",
      "50     0.006380\n",
      "51     0.004390\n",
      "52     0.011864\n",
      "53     0.011676\n",
      "54     0.007993\n",
      "55     0.000741\n",
      "56     0.005760\n",
      "57     0.003267\n",
      "58     0.005041\n",
      "59     0.009830\n",
      "60     0.014355\n",
      "61     0.008804\n",
      "62     0.007248\n",
      "63     0.005996\n",
      "64     0.009253\n",
      "65     0.002268\n",
      "66     0.006226\n",
      "67     0.005679\n",
      "68     0.006921\n",
      "69     0.013107\n",
      "70     0.007452\n",
      "71     0.010860\n",
      "72     0.006314\n",
      "73     0.009543\n",
      "74     0.007753\n",
      "75     0.001948\n",
      "76     0.010577\n",
      "77     0.007616\n",
      "78     0.007100\n",
      "79     0.005400\n",
      "80     0.006494\n",
      "81     0.004997\n",
      "82     0.009345\n",
      "83     0.009955\n",
      "84     0.005471\n",
      "85     0.006460\n",
      "86     0.012642\n",
      "87     0.021324\n",
      "88     0.009133\n",
      "89     0.004329\n",
      "90     0.008652\n",
      "91     0.009340\n",
      "92     0.017095\n",
      "93     0.005849\n",
      "94     0.012717\n",
      "95     0.003405\n",
      "96     0.007892\n",
      "97     0.009842\n",
      "98     0.004875\n",
      "99     0.007978\n",
      "100    0.009005\n",
      "101    0.000752\n",
      "102    0.012045\n",
      "103    0.013854\n",
      "104    0.005051\n",
      "105    0.009587\n",
      "106    0.005480\n",
      "107    0.008619\n",
      "108    0.001601\n",
      "109    0.006006\n",
      "110    0.005745\n",
      "111    0.005880\n",
      "112    0.010023\n",
      "113    0.011732\n",
      "114    0.009496\n",
      "115    0.014090\n",
      "116    0.006902\n",
      "117    0.017240\n",
      "118    0.015178\n",
      "119    0.006082\n",
      "120    0.004819\n",
      "121    0.011213\n",
      "122    0.007408\n",
      "123    0.005366\n",
      "124    0.005671\n",
      "125    0.010123\n",
      "126    0.009246\n",
      "127    0.007818\n",
      "128    0.001978\n",
      "129    0.003968\n",
      "130    0.001907\n",
      "131    0.015521\n",
      "132    0.002103\n",
      "133    0.009649\n",
      "134    0.006560\n",
      "135    0.013720\n",
      "136    0.000000\n",
      "137    0.011586\n",
      "138    0.007012\n",
      "139    0.006676\n",
      "140    0.009063\n",
      "141    0.011940\n",
      "142    0.006510\n",
      "143    0.004779\n",
      "144    0.009277\n",
      "145    0.015739\n",
      "146    0.008311\n",
      "147    0.000547\n",
      "148    0.004255\n",
      "149    0.012152\n",
      "150    0.006392\n",
      "151    0.010567\n",
      "152    0.009818\n",
      "153    0.010899\n",
      "154    0.005399\n",
      "155    0.016683\n",
      "156    0.007121\n",
      "157    0.008309\n",
      "158    0.008661\n",
      "159    0.008524\n",
      "160    0.010073\n",
      "161    0.008049\n",
      "162    0.017309\n",
      "163    0.010578\n",
      "164    0.004819\n",
      "165    0.009299\n",
      "166    0.013237\n",
      "167    0.003898\n",
      "168    0.007742\n",
      "169    0.008631\n",
      "170    0.011238\n",
      "171    0.004813\n",
      "172    0.009106\n",
      "173    0.003428\n",
      "174    0.004526\n",
      "175    0.013170\n",
      "176    0.006150\n",
      "177    0.011938\n",
      "178    0.007291\n",
      "179    0.011034\n",
      "180    0.011283\n",
      "181    0.011923\n",
      "182    0.006185\n",
      "183    0.008048\n",
      "184    0.009515\n",
      "185    0.007782\n",
      "186    0.014069\n",
      "187    0.004485\n",
      "188    0.008262\n",
      "189    0.003896\n",
      "190    0.003234\n",
      "191    0.004526\n",
      "192    0.012125\n",
      "193    0.012637\n",
      "194    0.011616\n",
      "195    0.003402\n",
      "196    0.004904\n",
      "197    0.005116\n",
      "198    0.008525\n",
      "199    0.006280\n",
      "200    0.006520\n",
      "201    0.000804\n",
      "202    0.005500\n",
      "203    0.003603\n",
      "204    0.007601\n",
      "205    0.010068\n",
      "206    0.007486\n",
      "207    0.009061\n",
      "208    0.010140\n",
      "209    0.007311\n",
      "210    0.010396\n",
      "211    0.008605\n",
      "212    0.005604\n",
      "213    0.009323\n",
      "214    0.009167\n",
      "215    0.003357\n",
      "216    0.010628\n",
      "217    0.006672\n",
      "218    0.010418\n",
      "219    0.007485\n",
      "220    0.003163\n",
      "221    0.003042\n",
      "222    0.009279\n",
      "223    0.002833\n",
      "224    0.007301\n",
      "225    0.012775\n",
      "226    0.001951\n",
      "227    0.010299\n",
      "228    0.014714\n",
      "229    0.006434\n",
      "230    0.006922\n",
      "231    0.005159\n",
      "232    0.012552\n",
      "233    0.010716\n",
      "234    0.010540\n",
      "235    0.010080\n",
      "236    0.007254\n",
      "237    0.009559\n",
      "238    0.012915\n",
      "239    0.014408\n",
      "240    0.004972\n",
      "241    0.012539\n",
      "242    0.008228\n",
      "243    0.006754\n",
      "244    0.010287\n",
      "245    0.012395\n",
      "246    0.016335\n",
      "247    0.012658\n",
      "248    0.009108\n",
      "249    0.007535\n",
      "250    0.003748\n",
      "251    0.010699\n",
      "252    0.004956\n",
      "253    0.011289\n",
      "254    0.002451\n",
      "255    0.004101\n",
      "256    0.009030\n",
      "257    0.007044\n",
      "258    0.001013\n",
      "259    0.005029\n",
      "260    0.006432\n",
      "261    0.007545\n",
      "262    0.005530\n",
      "263    0.008334\n",
      "264    0.008212\n",
      "265    0.003981\n",
      "266    0.004672\n",
      "267    0.003803\n",
      "268    0.005372\n",
      "269    0.004420\n",
      "270    0.000950\n",
      "271    0.014196\n",
      "272    0.012005\n",
      "273    0.016512\n",
      "274    0.006897\n",
      "275    0.012356\n",
      "276    0.004931\n",
      "277    0.013624\n",
      "278    0.002987\n",
      "279    0.016525\n",
      "280    0.006496\n",
      "281    0.008859\n",
      "282    0.011601\n",
      "283    0.015235\n",
      "284    0.004105\n",
      "285    0.006906\n",
      "286    0.010192\n",
      "287    0.008051\n",
      "288    0.008621\n",
      "289    0.016141\n",
      "290    0.007932\n",
      "291    0.009084\n",
      "292    0.005253\n",
      "293    0.012610\n",
      "294    0.010173\n",
      "295    0.004523\n",
      "296    0.007158\n",
      "297    0.011325\n",
      "298    0.001935\n",
      "299    0.012471\n",
      "300    0.005856\n",
      "301    0.005031\n",
      "302    0.008577\n",
      "303    0.012018\n",
      "304    0.007651\n",
      "305    0.002529\n",
      "306    0.011721\n",
      "307    0.006278\n",
      "308    0.005223\n",
      "309    0.001790\n",
      "310    0.009692\n",
      "311    0.001933\n",
      "312    0.002188\n",
      "313    0.003374\n",
      "314    0.001554\n",
      "315    0.008167\n",
      "316    0.009678\n",
      "317    0.011079\n",
      "318    0.008220\n",
      "319    0.010243\n",
      "320    0.007546\n",
      "321    0.006553\n",
      "322    0.013123\n",
      "323    0.005137\n",
      "324    0.012961\n",
      "325    0.005310\n",
      "326    0.013504\n",
      "327    0.007383\n",
      "328    0.004598\n",
      "329    0.007661\n",
      "330    0.006326\n",
      "331    0.011987\n",
      "332    0.012887\n",
      "333    0.007919\n",
      "334    0.006937\n",
      "335    0.006782\n",
      "336    0.003638\n",
      "337    0.010599\n",
      "338    0.001765\n",
      "339    0.005045\n",
      "340    0.003501\n",
      "341    0.011928\n",
      "342    0.007772\n",
      "343    0.006887\n",
      "344    0.001492\n",
      "345    0.015927\n",
      "346    0.007833\n",
      "347    0.014851\n",
      "348    0.009564\n",
      "349    0.003374\n",
      "350    0.005503\n",
      "351    0.005350\n",
      "352    0.004790\n",
      "353    0.010615\n",
      "354    0.000624\n",
      "355    0.005094\n",
      "356    0.011800\n",
      "357    0.004262\n",
      "358    0.007604\n",
      "359    0.005123\n",
      "360    0.006061\n",
      "361    0.006781\n",
      "362    0.004003\n",
      "363    0.011250\n",
      "364    0.004018\n",
      "365    0.009155\n",
      "366    0.009120\n",
      "367    0.012002\n",
      "368    0.007646\n",
      "369    0.003972\n",
      "370    0.003598\n",
      "371    0.005657\n",
      "372    0.010575\n",
      "373    0.006264\n",
      "374    0.003266\n",
      "375    0.010471\n",
      "376    0.018149\n",
      "377    0.007584\n",
      "378    0.013899\n",
      "379    0.008849\n",
      "380    0.007142\n",
      "381    0.003047\n",
      "382    0.008532\n",
      "383    0.008993\n",
      "384    0.001291\n",
      "385    0.010404\n",
      "386    0.007682\n",
      "387    0.007823\n",
      "388    0.006047\n",
      "389    0.008023\n",
      "390    0.009012\n",
      "391    0.008532\n",
      "392    0.013213\n",
      "393    0.006552\n",
      "394    0.005517\n",
      "395    0.009561\n",
      "396    0.006021\n",
      "397    0.004743\n",
      "398    0.003569\n",
      "399    0.008179\n",
      "dtype: float64\n"
     ]
    }
   ],
   "source": [
    "print(enroll_spk_raw.loc[4780319970].std(axis=0))"
   ]
  },
  {
   "cell_type": "code",
   "execution_count": 278,
   "metadata": {
    "collapsed": true
   },
   "outputs": [
    {
     "name": "stdout",
     "output_type": "stream",
     "text": [
      "[########################################] | 100% Completed | 22min 50.5s\n"
     ]
    },
    {
     "ename": "ValueError",
     "evalue": "too many values to unpack (expected 2)",
     "output_type": "error",
     "traceback": [
      "\u001b[0;31m---------------------------------------------------------------------------\u001b[0m",
      "\u001b[0;31mValueError\u001b[0m                                Traceback (most recent call last)",
      "\u001b[0;32m<ipython-input-278-cbffc5b8d768>\u001b[0m in \u001b[0;36m<module>\u001b[0;34m()\u001b[0m\n\u001b[0;32m----> 1\u001b[0;31m \u001b[0mscores\u001b[0m\u001b[0;34m,\u001b[0m \u001b[0mres\u001b[0m \u001b[0;34m=\u001b[0m \u001b[0mrun_test\u001b[0m\u001b[0;34m(\u001b[0m\u001b[0mzscore_col\u001b[0m\u001b[0;34m,\u001b[0m \u001b[0;36m0.1\u001b[0m\u001b[0;34m,\u001b[0m \u001b[0menroll_spk_raw\u001b[0m\u001b[0;34m,\u001b[0m \u001b[0mtest_spk\u001b[0m\u001b[0;34m)\u001b[0m\u001b[0;34m\u001b[0m\u001b[0m\n\u001b[0m",
      "\u001b[0;31mValueError\u001b[0m: too many values to unpack (expected 2)"
     ]
    }
   ],
   "source": [
    "scores, res = run_test(zscore_col, 0.1, enroll_spk_raw, test_spk)"
   ]
  },
  {
   "cell_type": "code",
   "execution_count": null,
   "metadata": {
    "scrolled": true
   },
   "outputs": [],
   "source": [
    "\n",
    "scaler = MinMaxScaler()\n",
    "scores_norm = scaler.fit_transform(np.array(scores).reshape((-1,1)))"
   ]
  },
  {
   "cell_type": "code",
   "execution_count": null,
   "metadata": {},
   "outputs": [],
   "source": [
    "scores_norm = 1-scores_norm"
   ]
  },
  {
   "cell_type": "code",
   "execution_count": 282,
   "metadata": {},
   "outputs": [
    {
     "data": {
      "text/plain": [
       "0.2217058501913614"
      ]
     },
     "execution_count": 282,
     "metadata": {},
     "output_type": "execute_result"
    },
    {
     "data": {
      "image/png": "[encoded data removed]",
      "text/plain": [
       "<Figure size 432x288 with 1 Axes>"
      ]
     },
     "metadata": {},
     "output_type": "display_data"
    }
   ],
   "source": [
    "calcEER(scores_norm, res)"
   ]
  },
  {
   "cell_type": "markdown",
   "metadata": {},
   "source": [
    "# 1a. Results\n",
    "1. Z-score\n",
    "\n",
    "    a. 0.01 Sample - **0.22170** EER - Took column-wise z-score of avg test vector on distribution of enroll speaker utterances and summed absolute value of z-scores\n",
    "    \n",
    "    b. 0.10 Sample - **\n"
   ]
  },
  {
   "cell_type": "markdown",
   "metadata": {},
   "source": [
    "# 1b. ML with Cosine Similarity and Variance as features"
   ]
  },
  {
   "cell_type": "code",
   "execution_count": 6,
   "metadata": {},
   "outputs": [],
   "source": [
    "def cos_similarity(vect1, vect2):\n",
    "    return 1 - cosine(vect1, vect2)"
   ]
  },
  {
   "cell_type": "code",
   "execution_count": 8,
   "metadata": {
    "scrolled": true
   },
   "outputs": [
    {
     "name": "stdout",
     "output_type": "stream",
     "text": [
      "[########################################] | 100% Completed |  1min  7.7s\n"
     ]
    }
   ],
   "source": [
    "cos_scores, cos_res = run_test(cos_similarity, 0.10, enroll_spk, test_spk)"
   ]
  },
  {
   "cell_type": "code",
   "execution_count": 9,
   "metadata": {},
   "outputs": [
    {
     "data": {
      "text/plain": [
       "0.08507121655384484"
      ]
     },
     "execution_count": 9,
     "metadata": {},
     "output_type": "execute_result"
    },
    {
     "data": {
      "image/png": "[encoded data removed]",
      "text/plain": [
       "<Figure size 432x288 with 1 Axes>"
      ]
     },
     "metadata": {},
     "output_type": "display_data"
    }
   ],
   "source": [
    "calcEER(cos_scores, cos_res) # EER with just cosine sim "
   ]
  },
  {
   "cell_type": "code",
   "execution_count": 14,
   "metadata": {},
   "outputs": [
    {
     "data": {
      "text/plain": [
       "(400,)"
      ]
     },
     "execution_count": 14,
     "metadata": {},
     "output_type": "execute_result"
    }
   ],
   "source": [
    "enroll_spk_raw.loc[4780420411].values.var(axis=0).shape"
   ]
  },
  {
   "cell_type": "code",
   "execution_count": 5,
   "metadata": {},
   "outputs": [],
   "source": [
    "def cos_with_variance(dist1, vect2):\n",
    "    m = dist1.mean(axis=0)\n",
    "    cos = 1 - cosine(m, vect2)\n",
    "    v = dist1.var(axis=0)\n",
    "    return np.concatenate([np.array([cos]), v])"
   ]
  },
  {
   "cell_type": "code",
   "execution_count": 7,
   "metadata": {
    "scrolled": true
   },
   "outputs": [],
   "source": [
    "spkr = enroll_spk_raw.loc[4780420411]\n",
    "test = test_spk.loc['fc_4779547143_0']\n",
    "x = cos_with_variance(spkr, test)"
   ]
  },
  {
   "cell_type": "code",
   "execution_count": 13,
   "metadata": {},
   "outputs": [
    {
     "name": "stdout",
     "output_type": "stream",
     "text": [
      "[########################################] | 100% Completed | 32.3s\n"
     ]
    }
   ],
   "source": [
    "X, Y = run_test(cos_with_variance, 0.01)"
   ]
  },
  {
   "cell_type": "code",
   "execution_count": 14,
   "metadata": {},
   "outputs": [],
   "source": [
    "X_csr = csr_matrix(np.vstack(X.values))"
   ]
  },
  {
   "cell_type": "code",
   "execution_count": 14,
   "metadata": {},
   "outputs": [
    {
     "name": "stdout",
     "output_type": "stream",
     "text": [
      "[LibSVM]"
     ]
    },
    {
     "name": "stderr",
     "output_type": "stream",
     "text": [
      "/work4/kenneth/anaconda3/lib/python3.6/site-packages/sklearn/svm/base.py:218: ConvergenceWarning: Solver terminated early (max_iter=300).  Consider pre-processing your data with StandardScaler or MinMaxScaler.\n",
      "  % self.max_iter, ConvergenceWarning)\n"
     ]
    },
    {
     "data": {
      "text/plain": [
       "SVC(C=1.0, cache_size=2000, class_weight=None, coef0=0.0,\n",
       "  decision_function_shape='ovr', degree=3, gamma='auto', kernel='linear',\n",
       "  max_iter=300, probability=True, random_state=1, shrinking=True,\n",
       "  tol=0.001, verbose=True)"
      ]
     },
     "execution_count": 14,
     "metadata": {},
     "output_type": "execute_result"
    }
   ],
   "source": [
    "svc = SVC(kernel='linear', probability = True, random_state = 1, verbose = True, cache_size= 2000, max_iter=300)  \n",
    "svc.fit(X_csr, Y) "
   ]
  },
  {
   "cell_type": "code",
   "execution_count": 15,
   "metadata": {},
   "outputs": [],
   "source": [
    "cos_svm_scores = svc.decision_function(X_csr)"
   ]
  },
  {
   "cell_type": "code",
   "execution_count": 35,
   "metadata": {},
   "outputs": [
    {
     "data": {
      "text/plain": [
       "-1.0000187750695377"
      ]
     },
     "execution_count": 35,
     "metadata": {},
     "output_type": "execute_result"
    }
   ],
   "source": [
    "cos_svm_scores[13911]"
   ]
  },
  {
   "cell_type": "code",
   "execution_count": 19,
   "metadata": {},
   "outputs": [],
   "source": [
    "scores = svc.predict(X_csr)"
   ]
  },
  {
   "cell_type": "code",
   "execution_count": 21,
   "metadata": {},
   "outputs": [
    {
     "data": {
      "text/plain": [
       "0.9983624454148472"
      ]
     },
     "execution_count": 21,
     "metadata": {},
     "output_type": "execute_result"
    }
   ],
   "source": [
    "(scores==Y).sum()/len(scores)"
   ]
  },
  {
   "cell_type": "code",
   "execution_count": 24,
   "metadata": {},
   "outputs": [
    {
     "data": {
      "text/plain": [
       "0"
      ]
     },
     "execution_count": 24,
     "metadata": {},
     "output_type": "execute_result"
    }
   ],
   "source": [
    "sum((scores==1)& (Y==0))"
   ]
  },
  {
   "cell_type": "code",
   "execution_count": 25,
   "metadata": {},
   "outputs": [
    {
     "data": {
      "text/plain": [
       "192"
      ]
     },
     "execution_count": 25,
     "metadata": {},
     "output_type": "execute_result"
    }
   ],
   "source": [
    "sum((scores==0)& (Y==1)) # Y ends up having 192 instances of '1' in total for this trial, meaning SVM just predicted everything as '0'"
   ]
  },
  {
   "cell_type": "code",
   "execution_count": 22,
   "metadata": {},
   "outputs": [
    {
     "data": {
      "text/plain": [
       "0.40620728540185896"
      ]
     },
     "execution_count": 22,
     "metadata": {},
     "output_type": "execute_result"
    },
    {
     "data": {
      "image/png": "[encoded data removed]",
      "text/plain": [
       "<Figure size 432x288 with 1 Axes>"
      ]
     },
     "metadata": {},
     "output_type": "display_data"
    }
   ],
   "source": [
    "calcEER(cos_decisions, Y)"
   ]
  },
  {
   "cell_type": "markdown",
   "metadata": {},
   "source": [
    "6/26 - Ask Dr. Tang about why high accuracy but also high EER. How do we use ML models to produce results and calculate EER?"
   ]
  },
  {
   "cell_type": "code",
   "execution_count": 21,
   "metadata": {},
   "outputs": [
    {
     "name": "stdout",
     "output_type": "stream",
     "text": [
      "[########################################] | 100% Completed | 35.3s\n",
      "[########################################] | 100% Completed | 35.4s\n",
      "[########################################] | 100% Completed | 35.4s\n",
      "[########################################] | 100% Completed | 35.5s\n",
      "[########################################] | 100% Completed |  0.4s\n",
      "[########################################] | 100% Completed |  0.5s\n",
      "[########################################] | 100% Completed |  0.6s\n"
     ]
    },
    {
     "name": "stderr",
     "output_type": "stream",
     "text": [
      "[Parallel(n_jobs=8)]: Done   6 out of  10 | elapsed:    5.0s remaining:    3.3s\n",
      "[Parallel(n_jobs=8)]: Done  10 out of  10 | elapsed:    7.1s finished\n"
     ]
    },
    {
     "data": {
      "text/plain": [
       "RandomForestClassifier(bootstrap=True, class_weight=None, criterion='gini',\n",
       "            max_depth=None, max_features='auto', max_leaf_nodes=None,\n",
       "            min_impurity_decrease=0.0, min_impurity_split=None,\n",
       "            min_samples_leaf=1, min_samples_split=2,\n",
       "            min_weight_fraction_leaf=0.0, n_estimators=10, n_jobs=8,\n",
       "            oob_score=False, random_state=None, verbose=1,\n",
       "            warm_start=False)"
      ]
     },
     "execution_count": 21,
     "metadata": {},
     "output_type": "execute_result"
    }
   ],
   "source": [
    "X, Y = run_test(cos_with_variance, 0.01)\n",
    "X_csr = csr_matrix(np.vstack(X.values))\n",
    "rf = RandomForestClassifier(verbose = 1, n_jobs=8)\n",
    "rf.fit(X_csr, Y)"
   ]
  },
  {
   "cell_type": "code",
   "execution_count": 62,
   "metadata": {
    "scrolled": true
   },
   "outputs": [
    {
     "name": "stdout",
     "output_type": "stream",
     "text": [
      "Threshold:  0.2\n",
      "EER:  0.000555289775833789\n"
     ]
    },
    {
     "name": "stderr",
     "output_type": "stream",
     "text": [
      "[Parallel(n_jobs=8)]: Done   6 out of  10 | elapsed:    0.1s remaining:    0.1s\n",
      "[Parallel(n_jobs=8)]: Done  10 out of  10 | elapsed:    0.1s finished\n"
     ]
    },
    {
     "data": {
      "image/png": "[encoded data removed]",
      "text/plain": [
       "<Figure size 432x288 with 1 Axes>"
      ]
     },
     "metadata": {},
     "output_type": "display_data"
    }
   ],
   "source": [
    "cos_rf_prob = rf.predict_proba(X_csr)\n",
    "calcEER(cos_rf_prob[:,1], Y)"
   ]
  },
  {
   "cell_type": "code",
   "execution_count": 36,
   "metadata": {
    "collapsed": true
   },
   "outputs": [
    {
     "name": "stdout",
     "output_type": "stream",
     "text": [
      "[                                        ] | 0% Completed | 15.9s\n"
     ]
    },
    {
     "ename": "KeyboardInterrupt",
     "evalue": "",
     "output_type": "error",
     "traceback": [
      "\u001b[0;31m---------------------------------------------------------------------------\u001b[0m",
      "\u001b[0;31mKeyboardInterrupt\u001b[0m                         Traceback (most recent call last)",
      "\u001b[0;32m<ipython-input-36-febf85c5e54f>\u001b[0m in \u001b[0;36m<module>\u001b[0;34m()\u001b[0m\n\u001b[1;32m      1\u001b[0m \u001b[0;31m# Using RF trained on 0.01 of data to predict values of 0.10 of data\u001b[0m\u001b[0;34m\u001b[0m\u001b[0;34m\u001b[0m\u001b[0m\n\u001b[0;32m----> 2\u001b[0;31m \u001b[0mX_tenth\u001b[0m\u001b[0;34m,\u001b[0m \u001b[0mY_tenth\u001b[0m \u001b[0;34m=\u001b[0m \u001b[0mrun_test\u001b[0m\u001b[0;34m(\u001b[0m\u001b[0mcos_with_variance\u001b[0m\u001b[0;34m,\u001b[0m \u001b[0;36m0.1\u001b[0m\u001b[0;34m)\u001b[0m\u001b[0;34m\u001b[0m\u001b[0m\n\u001b[0m\u001b[1;32m      3\u001b[0m \u001b[0mX_tenth_csr\u001b[0m \u001b[0;34m=\u001b[0m \u001b[0mcsr_matrix\u001b[0m\u001b[0;34m(\u001b[0m\u001b[0mnp\u001b[0m\u001b[0;34m.\u001b[0m\u001b[0mvstack\u001b[0m\u001b[0;34m(\u001b[0m\u001b[0mX_tenth\u001b[0m\u001b[0;34m.\u001b[0m\u001b[0mvalues\u001b[0m\u001b[0;34m)\u001b[0m\u001b[0;34m)\u001b[0m\u001b[0;34m\u001b[0m\u001b[0m\n\u001b[1;32m      4\u001b[0m \u001b[0;34m\u001b[0m\u001b[0m\n\u001b[1;32m      5\u001b[0m \u001b[0mcos_rf_prob_tenth\u001b[0m \u001b[0;34m=\u001b[0m \u001b[0mrf\u001b[0m\u001b[0;34m.\u001b[0m\u001b[0mpredict_proba\u001b[0m\u001b[0;34m(\u001b[0m\u001b[0mX_tenth_csr\u001b[0m\u001b[0;34m)\u001b[0m\u001b[0;34m\u001b[0m\u001b[0m\n",
      "\u001b[0;32m<ipython-input-4-8d14cd3b6c8f>\u001b[0m in \u001b[0;36mrun_test\u001b[0;34m(score_func, sample_size, ESPK, TSPK)\u001b[0m\n\u001b[1;32m     22\u001b[0m     \u001b[0mpbar\u001b[0m \u001b[0;34m=\u001b[0m \u001b[0mProgressBar\u001b[0m\u001b[0;34m(\u001b[0m\u001b[0;34m)\u001b[0m\u001b[0;34m\u001b[0m\u001b[0m\n\u001b[1;32m     23\u001b[0m     \u001b[0mpbar\u001b[0m\u001b[0;34m.\u001b[0m\u001b[0mregister\u001b[0m\u001b[0;34m(\u001b[0m\u001b[0;34m)\u001b[0m\u001b[0;34m\u001b[0m\u001b[0m\n\u001b[0;32m---> 24\u001b[0;31m     \u001b[0mscores\u001b[0m \u001b[0;34m=\u001b[0m \u001b[0mdask_pairs\u001b[0m\u001b[0;34m.\u001b[0m\u001b[0mmap_partitions\u001b[0m\u001b[0;34m(\u001b[0m\u001b[0;32mlambda\u001b[0m \u001b[0mdf\u001b[0m\u001b[0;34m:\u001b[0m \u001b[0mdf\u001b[0m\u001b[0;34m.\u001b[0m\u001b[0mapply\u001b[0m\u001b[0;34m(\u001b[0m\u001b[0mscore_vectors\u001b[0m \u001b[0;34m,\u001b[0m\u001b[0maxis\u001b[0m\u001b[0;34m=\u001b[0m\u001b[0;36m1\u001b[0m\u001b[0;34m)\u001b[0m\u001b[0;34m,\u001b[0m \u001b[0mmeta\u001b[0m\u001b[0;34m=\u001b[0m\u001b[0mmeta\u001b[0m\u001b[0;34m)\u001b[0m\u001b[0;34m.\u001b[0m\u001b[0mcompute\u001b[0m\u001b[0;34m(\u001b[0m\u001b[0mget\u001b[0m\u001b[0;34m=\u001b[0m\u001b[0mget\u001b[0m\u001b[0;34m)\u001b[0m\u001b[0;34m\u001b[0m\u001b[0m\n\u001b[0m\u001b[1;32m     25\u001b[0m     \u001b[0mpbar\u001b[0m\u001b[0;34m.\u001b[0m\u001b[0munregister\u001b[0m\u001b[0;34m(\u001b[0m\u001b[0;34m)\u001b[0m\u001b[0;34m\u001b[0m\u001b[0m\n\u001b[1;32m     26\u001b[0m \u001b[0;34m\u001b[0m\u001b[0m\n",
      "\u001b[0;32m~/anaconda3/lib/python3.6/site-packages/dask/base.py\u001b[0m in \u001b[0;36mcompute\u001b[0;34m(self, **kwargs)\u001b[0m\n\u001b[1;32m    152\u001b[0m         \u001b[0mdask\u001b[0m\u001b[0;34m.\u001b[0m\u001b[0mbase\u001b[0m\u001b[0;34m.\u001b[0m\u001b[0mcompute\u001b[0m\u001b[0;34m\u001b[0m\u001b[0m\n\u001b[1;32m    153\u001b[0m         \"\"\"\n\u001b[0;32m--> 154\u001b[0;31m         \u001b[0;34m(\u001b[0m\u001b[0mresult\u001b[0m\u001b[0;34m,\u001b[0m\u001b[0;34m)\u001b[0m \u001b[0;34m=\u001b[0m \u001b[0mcompute\u001b[0m\u001b[0;34m(\u001b[0m\u001b[0mself\u001b[0m\u001b[0;34m,\u001b[0m \u001b[0mtraverse\u001b[0m\u001b[0;34m=\u001b[0m\u001b[0;32mFalse\u001b[0m\u001b[0;34m,\u001b[0m \u001b[0;34m**\u001b[0m\u001b[0mkwargs\u001b[0m\u001b[0;34m)\u001b[0m\u001b[0;34m\u001b[0m\u001b[0m\n\u001b[0m\u001b[1;32m    155\u001b[0m         \u001b[0;32mreturn\u001b[0m \u001b[0mresult\u001b[0m\u001b[0;34m\u001b[0m\u001b[0m\n\u001b[1;32m    156\u001b[0m \u001b[0;34m\u001b[0m\u001b[0m\n",
      "\u001b[0;32m~/anaconda3/lib/python3.6/site-packages/dask/base.py\u001b[0m in \u001b[0;36mcompute\u001b[0;34m(*args, **kwargs)\u001b[0m\n\u001b[1;32m    405\u001b[0m     \u001b[0mkeys\u001b[0m \u001b[0;34m=\u001b[0m \u001b[0;34m[\u001b[0m\u001b[0mx\u001b[0m\u001b[0;34m.\u001b[0m\u001b[0m__dask_keys__\u001b[0m\u001b[0;34m(\u001b[0m\u001b[0;34m)\u001b[0m \u001b[0;32mfor\u001b[0m \u001b[0mx\u001b[0m \u001b[0;32min\u001b[0m \u001b[0mcollections\u001b[0m\u001b[0;34m]\u001b[0m\u001b[0;34m\u001b[0m\u001b[0m\n\u001b[1;32m    406\u001b[0m     \u001b[0mpostcomputes\u001b[0m \u001b[0;34m=\u001b[0m \u001b[0;34m[\u001b[0m\u001b[0mx\u001b[0m\u001b[0;34m.\u001b[0m\u001b[0m__dask_postcompute__\u001b[0m\u001b[0;34m(\u001b[0m\u001b[0;34m)\u001b[0m \u001b[0;32mfor\u001b[0m \u001b[0mx\u001b[0m \u001b[0;32min\u001b[0m \u001b[0mcollections\u001b[0m\u001b[0;34m]\u001b[0m\u001b[0;34m\u001b[0m\u001b[0m\n\u001b[0;32m--> 407\u001b[0;31m     \u001b[0mresults\u001b[0m \u001b[0;34m=\u001b[0m \u001b[0mget\u001b[0m\u001b[0;34m(\u001b[0m\u001b[0mdsk\u001b[0m\u001b[0;34m,\u001b[0m \u001b[0mkeys\u001b[0m\u001b[0;34m,\u001b[0m \u001b[0;34m**\u001b[0m\u001b[0mkwargs\u001b[0m\u001b[0;34m)\u001b[0m\u001b[0;34m\u001b[0m\u001b[0m\n\u001b[0m\u001b[1;32m    408\u001b[0m     \u001b[0;32mreturn\u001b[0m \u001b[0mrepack\u001b[0m\u001b[0;34m(\u001b[0m\u001b[0;34m[\u001b[0m\u001b[0mf\u001b[0m\u001b[0;34m(\u001b[0m\u001b[0mr\u001b[0m\u001b[0;34m,\u001b[0m \u001b[0;34m*\u001b[0m\u001b[0ma\u001b[0m\u001b[0;34m)\u001b[0m \u001b[0;32mfor\u001b[0m \u001b[0mr\u001b[0m\u001b[0;34m,\u001b[0m \u001b[0;34m(\u001b[0m\u001b[0mf\u001b[0m\u001b[0;34m,\u001b[0m \u001b[0ma\u001b[0m\u001b[0;34m)\u001b[0m \u001b[0;32min\u001b[0m \u001b[0mzip\u001b[0m\u001b[0;34m(\u001b[0m\u001b[0mresults\u001b[0m\u001b[0;34m,\u001b[0m \u001b[0mpostcomputes\u001b[0m\u001b[0;34m)\u001b[0m\u001b[0;34m]\u001b[0m\u001b[0;34m)\u001b[0m\u001b[0;34m\u001b[0m\u001b[0m\n\u001b[1;32m    409\u001b[0m \u001b[0;34m\u001b[0m\u001b[0m\n",
      "\u001b[0;32m~/anaconda3/lib/python3.6/site-packages/dask/multiprocessing.py\u001b[0m in \u001b[0;36mget\u001b[0;34m(dsk, keys, num_workers, func_loads, func_dumps, optimize_graph, **kwargs)\u001b[0m\n\u001b[1;32m    175\u001b[0m                            \u001b[0mget_id\u001b[0m\u001b[0;34m=\u001b[0m\u001b[0m_process_get_id\u001b[0m\u001b[0;34m,\u001b[0m \u001b[0mdumps\u001b[0m\u001b[0;34m=\u001b[0m\u001b[0mdumps\u001b[0m\u001b[0;34m,\u001b[0m \u001b[0mloads\u001b[0m\u001b[0;34m=\u001b[0m\u001b[0mloads\u001b[0m\u001b[0;34m,\u001b[0m\u001b[0;34m\u001b[0m\u001b[0m\n\u001b[1;32m    176\u001b[0m                            \u001b[0mpack_exception\u001b[0m\u001b[0;34m=\u001b[0m\u001b[0mpack_exception\u001b[0m\u001b[0;34m,\u001b[0m\u001b[0;34m\u001b[0m\u001b[0m\n\u001b[0;32m--> 177\u001b[0;31m                            raise_exception=reraise, **kwargs)\n\u001b[0m\u001b[1;32m    178\u001b[0m     \u001b[0;32mfinally\u001b[0m\u001b[0;34m:\u001b[0m\u001b[0;34m\u001b[0m\u001b[0m\n\u001b[1;32m    179\u001b[0m         \u001b[0;32mif\u001b[0m \u001b[0mcleanup\u001b[0m\u001b[0;34m:\u001b[0m\u001b[0;34m\u001b[0m\u001b[0m\n",
      "\u001b[0;32m~/anaconda3/lib/python3.6/site-packages/dask/local.py\u001b[0m in \u001b[0;36mget_async\u001b[0;34m(apply_async, num_workers, dsk, result, cache, get_id, rerun_exceptions_locally, pack_exception, raise_exception, callbacks, dumps, loads, **kwargs)\u001b[0m\n\u001b[1;32m    510\u001b[0m             \u001b[0;31m# Main loop, wait on tasks to finish, insert new ones\u001b[0m\u001b[0;34m\u001b[0m\u001b[0;34m\u001b[0m\u001b[0m\n\u001b[1;32m    511\u001b[0m             \u001b[0;32mwhile\u001b[0m \u001b[0mstate\u001b[0m\u001b[0;34m[\u001b[0m\u001b[0;34m'waiting'\u001b[0m\u001b[0;34m]\u001b[0m \u001b[0;32mor\u001b[0m \u001b[0mstate\u001b[0m\u001b[0;34m[\u001b[0m\u001b[0;34m'ready'\u001b[0m\u001b[0;34m]\u001b[0m \u001b[0;32mor\u001b[0m \u001b[0mstate\u001b[0m\u001b[0;34m[\u001b[0m\u001b[0;34m'running'\u001b[0m\u001b[0;34m]\u001b[0m\u001b[0;34m:\u001b[0m\u001b[0;34m\u001b[0m\u001b[0m\n\u001b[0;32m--> 512\u001b[0;31m                 \u001b[0mkey\u001b[0m\u001b[0;34m,\u001b[0m \u001b[0mres_info\u001b[0m\u001b[0;34m,\u001b[0m \u001b[0mfailed\u001b[0m \u001b[0;34m=\u001b[0m \u001b[0mqueue_get\u001b[0m\u001b[0;34m(\u001b[0m\u001b[0mqueue\u001b[0m\u001b[0;34m)\u001b[0m\u001b[0;34m\u001b[0m\u001b[0m\n\u001b[0m\u001b[1;32m    513\u001b[0m                 \u001b[0;32mif\u001b[0m \u001b[0mfailed\u001b[0m\u001b[0;34m:\u001b[0m\u001b[0;34m\u001b[0m\u001b[0m\n\u001b[1;32m    514\u001b[0m                     \u001b[0mexc\u001b[0m\u001b[0;34m,\u001b[0m \u001b[0mtb\u001b[0m \u001b[0;34m=\u001b[0m \u001b[0mloads\u001b[0m\u001b[0;34m(\u001b[0m\u001b[0mres_info\u001b[0m\u001b[0;34m)\u001b[0m\u001b[0;34m\u001b[0m\u001b[0m\n",
      "\u001b[0;32m~/anaconda3/lib/python3.6/site-packages/dask/local.py\u001b[0m in \u001b[0;36mqueue_get\u001b[0;34m(q)\u001b[0m\n\u001b[1;32m    149\u001b[0m \u001b[0;32melse\u001b[0m\u001b[0;34m:\u001b[0m\u001b[0;34m\u001b[0m\u001b[0m\n\u001b[1;32m    150\u001b[0m     \u001b[0;32mdef\u001b[0m \u001b[0mqueue_get\u001b[0m\u001b[0;34m(\u001b[0m\u001b[0mq\u001b[0m\u001b[0;34m)\u001b[0m\u001b[0;34m:\u001b[0m\u001b[0;34m\u001b[0m\u001b[0m\n\u001b[0;32m--> 151\u001b[0;31m         \u001b[0;32mreturn\u001b[0m \u001b[0mq\u001b[0m\u001b[0;34m.\u001b[0m\u001b[0mget\u001b[0m\u001b[0;34m(\u001b[0m\u001b[0;34m)\u001b[0m\u001b[0;34m\u001b[0m\u001b[0m\n\u001b[0m\u001b[1;32m    152\u001b[0m \u001b[0;34m\u001b[0m\u001b[0m\n\u001b[1;32m    153\u001b[0m \u001b[0;34m\u001b[0m\u001b[0m\n",
      "\u001b[0;32m~/anaconda3/lib/python3.6/queue.py\u001b[0m in \u001b[0;36mget\u001b[0;34m(self, block, timeout)\u001b[0m\n\u001b[1;32m    162\u001b[0m             \u001b[0;32melif\u001b[0m \u001b[0mtimeout\u001b[0m \u001b[0;32mis\u001b[0m \u001b[0;32mNone\u001b[0m\u001b[0;34m:\u001b[0m\u001b[0;34m\u001b[0m\u001b[0m\n\u001b[1;32m    163\u001b[0m                 \u001b[0;32mwhile\u001b[0m \u001b[0;32mnot\u001b[0m \u001b[0mself\u001b[0m\u001b[0;34m.\u001b[0m\u001b[0m_qsize\u001b[0m\u001b[0;34m(\u001b[0m\u001b[0;34m)\u001b[0m\u001b[0;34m:\u001b[0m\u001b[0;34m\u001b[0m\u001b[0m\n\u001b[0;32m--> 164\u001b[0;31m                     \u001b[0mself\u001b[0m\u001b[0;34m.\u001b[0m\u001b[0mnot_empty\u001b[0m\u001b[0;34m.\u001b[0m\u001b[0mwait\u001b[0m\u001b[0;34m(\u001b[0m\u001b[0;34m)\u001b[0m\u001b[0;34m\u001b[0m\u001b[0m\n\u001b[0m\u001b[1;32m    165\u001b[0m             \u001b[0;32melif\u001b[0m \u001b[0mtimeout\u001b[0m \u001b[0;34m<\u001b[0m \u001b[0;36m0\u001b[0m\u001b[0;34m:\u001b[0m\u001b[0;34m\u001b[0m\u001b[0m\n\u001b[1;32m    166\u001b[0m                 \u001b[0;32mraise\u001b[0m \u001b[0mValueError\u001b[0m\u001b[0;34m(\u001b[0m\u001b[0;34m\"'timeout' must be a non-negative number\"\u001b[0m\u001b[0;34m)\u001b[0m\u001b[0;34m\u001b[0m\u001b[0m\n",
      "\u001b[0;32m~/anaconda3/lib/python3.6/threading.py\u001b[0m in \u001b[0;36mwait\u001b[0;34m(self, timeout)\u001b[0m\n\u001b[1;32m    293\u001b[0m         \u001b[0;32mtry\u001b[0m\u001b[0;34m:\u001b[0m    \u001b[0;31m# restore state no matter what (e.g., KeyboardInterrupt)\u001b[0m\u001b[0;34m\u001b[0m\u001b[0m\n\u001b[1;32m    294\u001b[0m             \u001b[0;32mif\u001b[0m \u001b[0mtimeout\u001b[0m \u001b[0;32mis\u001b[0m \u001b[0;32mNone\u001b[0m\u001b[0;34m:\u001b[0m\u001b[0;34m\u001b[0m\u001b[0m\n\u001b[0;32m--> 295\u001b[0;31m                 \u001b[0mwaiter\u001b[0m\u001b[0;34m.\u001b[0m\u001b[0macquire\u001b[0m\u001b[0;34m(\u001b[0m\u001b[0;34m)\u001b[0m\u001b[0;34m\u001b[0m\u001b[0m\n\u001b[0m\u001b[1;32m    296\u001b[0m                 \u001b[0mgotit\u001b[0m \u001b[0;34m=\u001b[0m \u001b[0;32mTrue\u001b[0m\u001b[0;34m\u001b[0m\u001b[0m\n\u001b[1;32m    297\u001b[0m             \u001b[0;32melse\u001b[0m\u001b[0;34m:\u001b[0m\u001b[0;34m\u001b[0m\u001b[0m\n",
      "\u001b[0;31mKeyboardInterrupt\u001b[0m: "
     ]
    }
   ],
   "source": [
    "# Using RF trained on 0.01 of data to predict values of 0.10 of data\n",
    "X_tenth, Y_tenth = run_test(cos_with_variance, 0.1)\n",
    "X_tenth_csr = csr_matrix(np.vstack(X_tenth.values))\n",
    "\n",
    "cos_rf_prob_tenth = rf.predict_proba(X_tenth_csr)\n",
    "calcEER(cos_rf_prob_tenth[:,1], Y_tenth)"
   ]
  },
  {
   "cell_type": "code",
   "execution_count": 48,
   "metadata": {},
   "outputs": [
    {
     "data": {
      "text/plain": [
       "1803"
      ]
     },
     "execution_count": 48,
     "metadata": {},
     "output_type": "execute_result"
    }
   ],
   "source": [
    "sum(Y_tenth==1)"
   ]
  },
  {
   "cell_type": "code",
   "execution_count": 51,
   "metadata": {},
   "outputs": [
    {
     "name": "stderr",
     "output_type": "stream",
     "text": [
      "[Parallel(n_jobs=1)]: Done  10 out of  10 | elapsed:    4.0s finished\n"
     ]
    }
   ],
   "source": [
    "preds = rf.predict(X_tenth_csr)"
   ]
  },
  {
   "cell_type": "code",
   "execution_count": 54,
   "metadata": {},
   "outputs": [
    {
     "data": {
      "text/plain": [
       "0.998402596782337"
      ]
     },
     "execution_count": 54,
     "metadata": {},
     "output_type": "execute_result"
    }
   ],
   "source": [
    "(preds==Y_tenth).sum()/len(preds) # Accuracy with tenth predictions"
   ]
  },
  {
   "cell_type": "markdown",
   "metadata": {},
   "source": [
    "## What if RF was trained on just cosine similarity?"
   ]
  },
  {
   "cell_type": "code",
   "execution_count": 9,
   "metadata": {},
   "outputs": [
    {
     "name": "stdout",
     "output_type": "stream",
     "text": [
      "[########################################] | 100% Completed | 18.4s\n"
     ]
    }
   ],
   "source": [
    "X_cos, Y_cos = run_test(cos_similarity, 0.01, enroll_spk, test_spk)"
   ]
  },
  {
   "cell_type": "code",
   "execution_count": 12,
   "metadata": {},
   "outputs": [
    {
     "name": "stderr",
     "output_type": "stream",
     "text": [
      "[Parallel(n_jobs=8)]: Done   6 out of  10 | elapsed:    0.1s remaining:    0.1s\n",
      "[Parallel(n_jobs=8)]: Done  10 out of  10 | elapsed:    0.2s finished\n"
     ]
    },
    {
     "data": {
      "text/plain": [
       "RandomForestClassifier(bootstrap=True, class_weight=None, criterion='gini',\n",
       "            max_depth=None, max_features='auto', max_leaf_nodes=None,\n",
       "            min_impurity_decrease=0.0, min_impurity_split=None,\n",
       "            min_samples_leaf=1, min_samples_split=2,\n",
       "            min_weight_fraction_leaf=0.0, n_estimators=10, n_jobs=8,\n",
       "            oob_score=False, random_state=None, verbose=1,\n",
       "            warm_start=False)"
      ]
     },
     "execution_count": 12,
     "metadata": {},
     "output_type": "execute_result"
    }
   ],
   "source": [
    "rf_cos = RandomForestClassifier(verbose = 1, n_jobs=8)\n",
    "X_cos_a = np.array(X_cos).reshape((-1,1))\n",
    "rf_cos.fit(X_cos_a, Y_cos)"
   ]
  },
  {
   "cell_type": "code",
   "execution_count": 13,
   "metadata": {},
   "outputs": [
    {
     "name": "stderr",
     "output_type": "stream",
     "text": [
      "[Parallel(n_jobs=8)]: Done   6 out of  10 | elapsed:    0.0s remaining:    0.0s\n",
      "[Parallel(n_jobs=8)]: Done  10 out of  10 | elapsed:    0.0s finished\n"
     ]
    },
    {
     "data": {
      "text/plain": [
       "0.0005980043739748496"
      ]
     },
     "execution_count": 13,
     "metadata": {},
     "output_type": "execute_result"
    },
    {
     "data": {
      "image/png": "[encoded data removed]",
      "text/plain": [
       "<Figure size 432x288 with 1 Axes>"
      ]
     },
     "metadata": {},
     "output_type": "display_data"
    }
   ],
   "source": [
    "cos_only_rf_prob = rf_cos.predict_proba(X_cos_a)\n",
    "calcEER(cos_only_rf_prob[:,1], Y_cos)"
   ]
  },
  {
   "cell_type": "code",
   "execution_count": 14,
   "metadata": {},
   "outputs": [
    {
     "name": "stdout",
     "output_type": "stream",
     "text": [
      "[########################################] | 100% Completed |  1min  6.5s\n"
     ]
    },
    {
     "name": "stderr",
     "output_type": "stream",
     "text": [
      "[Parallel(n_jobs=8)]: Done   6 out of  10 | elapsed:    0.2s remaining:    0.1s\n",
      "[Parallel(n_jobs=8)]: Done  10 out of  10 | elapsed:    0.3s finished\n"
     ]
    },
    {
     "data": {
      "text/plain": [
       "0.0027957035170513996"
      ]
     },
     "execution_count": 14,
     "metadata": {},
     "output_type": "execute_result"
    },
    {
     "data": {
      "image/png": "[encoded data removed]",
      "text/plain": [
       "<Figure size 432x288 with 1 Axes>"
      ]
     },
     "metadata": {},
     "output_type": "display_data"
    }
   ],
   "source": [
    "X_cos_tenth, Y_cos_tenth = run_test(cos_similarity, 0.1, enroll_spk, test_spk)\n",
    "X_cos_a = np.array(X_cos_tenth).reshape((-1,1))\n",
    "cos_only_rf_prob_tenth = rf_cos.predict_proba(X_cos_a)\n",
    "calcEER(cos_only_rf_prob_tenth[:,1], Y_cos_tenth)"
   ]
  },
  {
   "cell_type": "code",
   "execution_count": 32,
   "metadata": {},
   "outputs": [
    {
     "name": "stdout",
     "output_type": "stream",
     "text": [
      "Threshold:  0.025\n",
      "EER:  0.0027957035170513996\n"
     ]
    },
    {
     "data": {
      "image/png": "[encoded data removed]",
      "text/plain": [
       "<Figure size 432x288 with 1 Axes>"
      ]
     },
     "metadata": {},
     "output_type": "display_data"
    }
   ],
   "source": [
    "calcEER(cos_only_rf_prob_tenth[:,1], Y_cos_tenth)"
   ]
  },
  {
   "cell_type": "markdown",
   "metadata": {},
   "source": [
    "## Some verification"
   ]
  },
  {
   "cell_type": "code",
   "execution_count": 17,
   "metadata": {},
   "outputs": [
    {
     "data": {
      "text/plain": [
       "0.0015377031507989574"
      ]
     },
     "execution_count": 17,
     "metadata": {},
     "output_type": "execute_result"
    }
   ],
   "source": [
    "sum(Y_cos_tenth==1)/len(Y_cos_tenth)"
   ]
  },
  {
   "cell_type": "code",
   "execution_count": 20,
   "metadata": {},
   "outputs": [
    {
     "data": {
      "text/plain": [
       "17892"
      ]
     },
     "execution_count": 20,
     "metadata": {},
     "output_type": "execute_result"
    }
   ],
   "source": [
    "len(pairs[pairs['result']==1])"
   ]
  },
  {
   "cell_type": "code",
   "execution_count": 22,
   "metadata": {},
   "outputs": [
    {
     "data": {
      "text/plain": [
       "(array([1168348,    1149,     831,      23,     226,     635,     384,\n",
       "              0,     283,     649]),\n",
       " array([0. , 0.1, 0.2, 0.3, 0.4, 0.5, 0.6, 0.7, 0.8, 0.9, 1. ]))"
      ]
     },
     "execution_count": 22,
     "metadata": {},
     "output_type": "execute_result"
    }
   ],
   "source": [
    "np.histogram(cos_only_rf_prob_tenth[:,1])"
   ]
  },
  {
   "cell_type": "markdown",
   "metadata": {},
   "source": [
    "We see that in the histogram of our 10% data, the probabilities are heavily skewed towards 0. Since we have few true pairs, we can try to see what kind of probabilities for possible matches end up being true matches."
   ]
  },
  {
   "cell_type": "code",
   "execution_count": 23,
   "metadata": {},
   "outputs": [],
   "source": [
    "trues = np.where(Y_cos_tenth==1)\n",
    "true_probs = cos_only_rf_prob_tenth[trues]"
   ]
  },
  {
   "cell_type": "code",
   "execution_count": 26,
   "metadata": {},
   "outputs": [
    {
     "data": {
      "text/plain": [
       "(array([806,  89, 130,   3,  29, 110,  92,   0, 104, 440]),\n",
       " array([0. , 0.1, 0.2, 0.3, 0.4, 0.5, 0.6, 0.7, 0.8, 0.9, 1. ]))"
      ]
     },
     "execution_count": 26,
     "metadata": {},
     "output_type": "execute_result"
    }
   ],
   "source": [
    "np.histogram(true_probs[:,1]) # This result is meaningful only if we know the threshold "
   ]
  },
  {
   "cell_type": "code",
   "execution_count": 38,
   "metadata": {},
   "outputs": [],
   "source": [
    "def calcEER_print(series, true, name = \"\"):\n",
    "    fpr, tpr, thresholds = roc_curve(true, series)\n",
    "    print(fpr)\n",
    "    print(tpr)\n",
    "    print(thresholds)\n",
    "    fnr = 1 - tpr\n",
    "    minPt = np.nanargmin(np.absolute((fnr - fpr)))\n",
    "    print(\"Threshold: \", thresholds[minPt])\n",
    "    print(\"EER: \", fpr[minPt])\n",
    "    \n",
    "    return"
   ]
  },
  {
   "cell_type": "code",
   "execution_count": 40,
   "metadata": {},
   "outputs": [
    {
     "name": "stdout",
     "output_type": "stream",
     "text": [
      "[0.00000000e+00 6.57712101e-05 1.78521856e-04 3.31418565e-04\n",
      " 5.68024088e-04 5.72294945e-04 5.75711632e-04 5.80836661e-04\n",
      " 7.98650409e-04 1.02927673e-03 1.03525593e-03 1.19754853e-03\n",
      " 1.19840270e-03 1.20438190e-03 1.21206944e-03 1.21292362e-03\n",
      " 1.21463196e-03 1.42304982e-03 1.43159154e-03 1.43329988e-03\n",
      " 1.44013325e-03 1.81340622e-03 1.81426039e-03 1.82194794e-03\n",
      " 1.82365628e-03 1.82707297e-03 1.82792714e-03 2.71882808e-03\n",
      " 2.72395311e-03 2.72480728e-03 2.73932819e-03 2.76580751e-03\n",
      " 2.79399517e-03 2.79570352e-03 1.00000000e+00]\n",
      "[0.         0.19190238 0.24403771 0.30171936 0.3505269  0.35108153\n",
      " 0.35219079 0.35274542 0.38713256 0.41375485 0.41430948 0.42983916\n",
      " 0.43039379 0.43094842 0.43150305 0.43150305 0.43150305 0.4608985\n",
      " 0.46145313 0.46145313 0.46200776 0.5036051  0.5036051  0.5036051\n",
      " 0.5036051  0.5036051  0.5036051  0.55296728 0.55296728 0.55296728\n",
      " 0.55296728 0.55352191 0.55352191 0.55352191 1.        ]\n",
      "[2.         1.         0.9        0.8        0.7        0.63333333\n",
      " 0.62333333 0.60833333 0.6        0.5        0.45333333 0.4\n",
      " 0.39166667 0.345      0.34       0.33333333 0.33333333 0.3\n",
      " 0.26761905 0.21761905 0.21       0.2        0.19166667 0.16666667\n",
      " 0.16       0.14       0.13333333 0.1        0.09333333 0.08333333\n",
      " 0.06428571 0.05       0.03333333 0.025      0.        ]\n",
      "Threshold:  0.025\n",
      "EER:  0.0027957035170513996\n"
     ]
    }
   ],
   "source": [
    "calcEER_print(cos_only_rf_prob_tenth[:,1], Y_cos_tenth)"
   ]
  },
  {
   "cell_type": "markdown",
   "metadata": {},
   "source": [
    "## 2. Mahalanobis distance"
   ]
  },
  {
   "cell_type": "code",
   "execution_count": 291,
   "metadata": {},
   "outputs": [],
   "source": [
    "def md(dist1, dist2):\n",
    "    cov = np.cov(dist1, rowvar = False )\n",
    "    t = np.mean(dist1, axis=0)\n",
    "    #i = np.linalg.inv(cov)\n",
    "    x = t-dist2\n",
    "    return np.absolute(np.matmul(np.matmul(x.T, cov), x))"
   ]
  },
  {
   "cell_type": "code",
   "execution_count": 292,
   "metadata": {},
   "outputs": [
    {
     "data": {
      "text/plain": [
       "0.00016605474033094662"
      ]
     },
     "execution_count": 292,
     "metadata": {},
     "output_type": "execute_result"
    }
   ],
   "source": [
    "spkr = enroll_spk_raw.loc[4780420411]\n",
    "test = test_spk.loc['fc_4779547143_0']\n",
    "\n",
    "md(spkr, test)"
   ]
  },
  {
   "cell_type": "code",
   "execution_count": 30,
   "metadata": {},
   "outputs": [],
   "source": [
    "%lprun -f md md(spkr, test)"
   ]
  },
  {
   "cell_type": "code",
   "execution_count": 293,
   "metadata": {},
   "outputs": [
    {
     "name": "stdout",
     "output_type": "stream",
     "text": [
      "[########################################] | 100% Completed |  3min  2.7s\n",
      "[########################################] | 100% Completed |  3min  2.7s\n",
      "[########################################] | 100% Completed |  0.3s\n"
     ]
    }
   ],
   "source": [
    "scores, res = run_test(md, 0.01, enroll_spk_raw, test_spk) #Singular matrix problem - COV is singular"
   ]
  },
  {
   "cell_type": "code",
   "execution_count": 295,
   "metadata": {},
   "outputs": [],
   "source": [
    "scaler.fit_transform(np.array(scores).reshape((-1,1)))\n",
    "scores = 1-scores"
   ]
  },
  {
   "cell_type": "code",
   "execution_count": 296,
   "metadata": {},
   "outputs": [
    {
     "data": {
      "text/plain": [
       "0.4827347594313833"
      ]
     },
     "execution_count": 296,
     "metadata": {},
     "output_type": "execute_result"
    },
    {
     "data": {
      "image/png": "[encoded data removed]",
      "text/plain": [
       "<Figure size 432x288 with 1 Axes>"
      ]
     },
     "metadata": {},
     "output_type": "display_data"
    }
   ],
   "source": [
    "\n",
    "calcEER(scores, res)"
   ]
  },
  {
   "cell_type": "markdown",
   "metadata": {},
   "source": [
    "## Investigation of data integrity\n",
    "To investigate why all utterances of several speakers had 0 values in their means, the above series of steps shows the processed data at different points of data processing. It was found that the 0 values may be coincidental, but valid. Need confirmation that this can happen in d-vectors.\n",
    "\n",
    "The steps were taken:\n",
    "1. Print speaker id's that had 0's in its variance vector, which would only occur if at a specific index across all 5 utterances, there was a 0 instead of a real value. This turned out to be a lot of speakers.\n",
    "2. Observe enroll_spk, and then enroll_spk_raw. Both were checked for 0's and 0's were found at a single index.\n",
    "3. It was found that averaged vectors for each utterance had 0's, so a single utterance was investigated within enroll_ark, and then enroll.ark to confirm that the averages were correct. \n",
    "\n",
    "Alternative steps that could have been taken:\n",
    "1. Work from the bottom up - start with enroll.ark and confirm that data is valid\n",
    "2. Assign a threshold to the 0's?"
   ]
  },
  {
   "cell_type": "code",
   "execution_count": 221,
   "metadata": {},
   "outputs": [],
   "source": [
    "def search_spk(filename, spk):\n",
    "    \"\"\"Searches spk2utt file given speaker id\"\"\"\n",
    "    df = pd.read_table(FILE_DIR+filename, names = ['id', 'utt1', 'utt2','utt3','utt4','utt5'], sep = \" \") \n",
    "    df.dropna(axis=1, inplace=True)\n",
    "    return df[df['id']== spk]\n",
    "\n",
    "def search_ark(filename, utt):\n",
    "    \"\"\"Searches an arkfile given the name of a target utt\"\"\"\n",
    "    working_data = []\n",
    "    utt_id_past = \"\"\n",
    "    with open(FILE_DIR+filename, 'r') as f:\n",
    "        for line in f:\n",
    "            if(line[:2].isalpha()):\n",
    "                utt_id = line[:line.index(\"[\")-2]\n",
    "                if utt_id_past == utt:\n",
    "                    return np.array(working_data, dtype = 'float64')\n",
    "                utt_id_past = utt_id\n",
    "                working_data = []\n",
    "            else:\n",
    "                # Add line as another row to the working matrix of df_utterance\n",
    "                if \"]\" in line[-3:]: line = line[:-2]\n",
    "                working_data.append(line.strip().split())\n",
    "    return 0 "
   ]
  },
  {
   "cell_type": "code",
   "execution_count": 6,
   "metadata": {},
   "outputs": [],
   "source": [
    "enroll_ark = dd.read_hdf(\"enroll.ark.h5\", key='/*')"
   ]
  },
  {
   "cell_type": "code",
   "execution_count": 20,
   "metadata": {
    "scrolled": false
   },
   "outputs": [
    {
     "data": {
      "text/html": [
       "<div>\n",
       "<style scoped>\n",
       "    .dataframe tbody tr th:only-of-type {\n",
       "        vertical-align: middle;\n",
       "    }\n",
       "\n",
       "    .dataframe tbody tr th {\n",
       "        vertical-align: top;\n",
       "    }\n",
       "\n",
       "    .dataframe thead th {\n",
       "        text-align: right;\n",
       "    }\n",
       "</style>\n",
       "<table border=\"1\" class=\"dataframe\">\n",
       "  <thead>\n",
       "    <tr style=\"text-align: right;\">\n",
       "      <th></th>\n",
       "      <th>id</th>\n",
       "      <th>utt1</th>\n",
       "      <th>utt2</th>\n",
       "      <th>utt3</th>\n",
       "      <th>utt4</th>\n",
       "      <th>utt5</th>\n",
       "    </tr>\n",
       "  </thead>\n",
       "  <tbody>\n",
       "    <tr>\n",
       "      <th>31</th>\n",
       "      <td>4780319970</td>\n",
       "      <td>nn_1025806227919689079_1</td>\n",
       "      <td>nn_1025806227919689079_2</td>\n",
       "      <td>nn_1025806227919689079_3</td>\n",
       "      <td>nn_1025806227919689079_4</td>\n",
       "      <td>nn_1025806227919689079_5</td>\n",
       "    </tr>\n",
       "  </tbody>\n",
       "</table>\n",
       "</div>"
      ],
      "text/plain": [
       "            id                      utt1                      utt2  \\\n",
       "31  4780319970  nn_1025806227919689079_1  nn_1025806227919689079_2   \n",
       "\n",
       "                        utt3                      utt4  \\\n",
       "31  nn_1025806227919689079_3  nn_1025806227919689079_4   \n",
       "\n",
       "                        utt5  \n",
       "31  nn_1025806227919689079_5  "
      ]
     },
     "execution_count": 20,
     "metadata": {},
     "output_type": "execute_result"
    }
   ],
   "source": [
    "search_spk(\"enroll.spk2utt\", 4780319970)"
   ]
  },
  {
   "cell_type": "code",
   "execution_count": 43,
   "metadata": {},
   "outputs": [],
   "source": [
    "a = search_ark(\"enroll.ark\", \"nn_1025806227919689079_1\")"
   ]
  },
  {
   "cell_type": "code",
   "execution_count": 148,
   "metadata": {},
   "outputs": [],
   "source": [
    "def read_spk2utt_raw(filename, ark_df, search):\n",
    "    \"\"\"Processes the utterance vectors for each speaker\n",
    "        filename: name of spk2utt file\n",
    "        ark_df: corresponding ark file\"\"\"\n",
    "    df = pd.read_table(FILE_DIR+filename, names = ['id', 'utt1', 'utt2','utt3','utt4','utt5'], sep = \" \") \n",
    "    df.dropna(axis=1, inplace=True)\n",
    "    target = df[df['id']==search]\n",
    "    print(target.values[0][1:])\n",
    " \n",
    "    return [(ark_df.loc[y].values).compute() for y in target.values[0][1:]]\n",
    "\n",
    "   "
   ]
  },
  {
   "cell_type": "code",
   "execution_count": 149,
   "metadata": {},
   "outputs": [
    {
     "name": "stdout",
     "output_type": "stream",
     "text": [
      "['nn_1025806227919689079_1' 'nn_1025806227919689079_2'\n",
      " 'nn_1025806227919689079_3' 'nn_1025806227919689079_4'\n",
      " 'nn_1025806227919689079_5']\n"
     ]
    }
   ],
   "source": [
    "t = read_spk2utt_raw(\"enroll.spk2utt\", enroll_ark, 4780319970)"
   ]
  },
  {
   "cell_type": "code",
   "execution_count": 178,
   "metadata": {},
   "outputs": [
    {
     "data": {
      "text/plain": [
       "0.0"
      ]
     },
     "execution_count": 178,
     "metadata": {},
     "output_type": "execute_result"
    }
   ],
   "source": [
    "enroll_ark.loc['nn_1025806227919689079_1'].compute().values[0][136]"
   ]
  },
  {
   "cell_type": "code",
   "execution_count": 222,
   "metadata": {},
   "outputs": [
    {
     "data": {
      "text/plain": [
       "array([[0.2965343 , 1.049055  , 0.        , ..., 0.1533272 , 0.4349658 ,\n",
       "        1.951082  ],\n",
       "       [0.3154624 , 0.9789277 , 0.        , ..., 0.1272981 , 0.4428131 ,\n",
       "        1.919077  ],\n",
       "       [0.3061154 , 0.906414  , 0.        , ..., 0.1150088 , 0.3520756 ,\n",
       "        1.847408  ],\n",
       "       ...,\n",
       "       [1.459213  , 0.3537721 , 0.        , ..., 0.        , 1.423177  ,\n",
       "        0.2227626 ],\n",
       "       [1.352517  , 0.3202083 , 0.        , ..., 0.        , 1.298595  ,\n",
       "        0.1407503 ],\n",
       "       [1.428678  , 0.207373  , 0.        , ..., 0.        , 1.26614   ,\n",
       "        0.08875074]])"
      ]
     },
     "execution_count": 222,
     "metadata": {},
     "output_type": "execute_result"
    }
   ],
   "source": [
    "true_ark = search_ark(\"enroll.ark\", 'nn_1025806227919689079_1')\n",
    "true_ark"
   ]
  },
  {
   "cell_type": "code",
   "execution_count": 84,
   "metadata": {
    "scrolled": true
   },
   "outputs": [
    {
     "data": {
      "text/plain": [
       "utt\n",
       "utt1    0.0\n",
       "utt2    0.0\n",
       "utt3    0.0\n",
       "utt4    0.0\n",
       "utt5    0.0\n",
       "Name: 136, dtype: float64"
      ]
     },
     "execution_count": 84,
     "metadata": {},
     "output_type": "execute_result"
    }
   ],
   "source": [
    "enroll_spk_raw.loc[4780319970]['136']"
   ]
  },
  {
   "cell_type": "code",
   "execution_count": 239,
   "metadata": {},
   "outputs": [
    {
     "data": {
      "text/plain": [
       "array([0., 0., 0., 0., 0., 0., 0., 0., 0., 0., 0., 0., 0., 0., 0., 0., 0.,\n",
       "       0., 0., 0., 0., 0., 0., 0., 0., 0., 0., 0., 0., 0., 0., 0., 0., 0.,\n",
       "       0., 0., 0., 0., 0., 0., 0., 0., 0., 0., 0., 0., 0., 0., 0., 0., 0.,\n",
       "       0., 0., 0., 0., 0., 0., 0., 0., 0., 0., 0., 0., 0., 0., 0., 0., 0.,\n",
       "       0., 0., 0., 0., 0., 0., 0., 0., 0., 0., 0., 0., 0., 0., 0., 0., 0.,\n",
       "       0., 0., 0., 0., 0., 0., 0., 0., 0., 0., 0., 0., 0., 0., 0., 0., 0.,\n",
       "       0., 0., 0., 0., 0., 0., 0., 0., 0., 0., 0., 0., 0., 0., 0., 0., 0.,\n",
       "       0., 0., 0., 0., 0., 0., 0., 0., 0., 0., 0., 0., 0., 0., 0., 0., 0.,\n",
       "       0., 0., 0., 0., 0., 0., 0., 0., 0., 0., 0., 0., 0., 0., 0., 0., 0.,\n",
       "       0., 0., 0., 0., 0., 0., 0., 0., 0., 0., 0., 0., 0., 0., 0., 0., 0.,\n",
       "       0., 0., 0., 0., 0., 0., 0., 0., 0., 0., 0., 0., 0., 0., 0., 0., 0.,\n",
       "       0., 0., 0., 0., 0., 0., 0., 0., 0., 0., 0., 0., 0., 0., 0., 0., 0.,\n",
       "       0., 0., 0., 0., 0., 0., 0., 0., 0., 0., 0., 0., 0., 0., 0., 0., 0.,\n",
       "       0., 0., 0., 0., 0., 0., 0., 0., 0., 0., 0., 0., 0., 0., 0., 0., 0.,\n",
       "       0., 0., 0., 0., 0., 0., 0., 0., 0., 0., 0., 0., 0., 0., 0., 0., 0.,\n",
       "       0., 0.])"
      ]
     },
     "execution_count": 239,
     "metadata": {},
     "output_type": "execute_result"
    }
   ],
   "source": [
    "true_ark[:,136]"
   ]
  }
 ],
 "metadata": {
  "kernelspec": {
   "display_name": "Python 3",
   "language": "python",
   "name": "python3"
  },
  "language_info": {
   "codemirror_mode": {
    "name": "ipython",
    "version": 3
   },
   "file_extension": ".py",
   "mimetype": "text/x-python",
   "name": "python",
   "nbconvert_exporter": "python",
   "pygments_lexer": "ipython3",
   "version": "3.6.5"
  }
 },
 "nbformat": 4,
 "nbformat_minor": 2
}
